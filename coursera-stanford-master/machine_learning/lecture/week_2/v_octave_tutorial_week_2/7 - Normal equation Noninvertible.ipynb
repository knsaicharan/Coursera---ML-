{
 "cells": [
  {
   "cell_type": "markdown",
   "metadata": {},
   "source": [
    "# Matrix $X^{T}X$ is non-invertible"
   ]
  },
  {
   "cell_type": "markdown",
   "metadata": {},
   "source": [
    "## 1) Octave solution"
   ]
  },
  {
   "cell_type": "markdown",
   "metadata": {},
   "source": [
    "Only some matrices are invertible and some matrices do not have an inverse we call those non-invertible matrices. Singular or degenerate matrices. The issue or the problem of $X^{T}X$ being non invertible should happen pretty rarely.\n",
    "\n",
    "In Octave, if you implement this to compute theta \n",
    "```octave\n",
    "pinv(X'* x)*X'*y\n",
    "```\n",
    "then this will do the right thing.\n",
    "\n",
    "Octave has 2 functions for inverting matrices:\n",
    "- **inv**: inverse\n",
    "- **pinv**: pseudo-inverse\n",
    "\n",
    "If you use **pinv**, then this will actually compute the value of data that you want even if $X^{T}X$ is non-invertible."
   ]
  },
  {
   "cell_type": "markdown",
   "metadata": {},
   "source": [
    "<img src=\"images/lec5_pic06.png\">\n",
    "\n",
    "*Screenshot taken from [Coursera](https://www.coursera.org/learn/machine-learning/lecture/zSiE6/normal-equation-noninvertibility) 2:08*\n",
    "\n",
    "<!--TEASER_END-->"
   ]
  },
  {
   "cell_type": "markdown",
   "metadata": {},
   "source": [
    "## 2) Causes"
   ]
  },
  {
   "cell_type": "markdown",
   "metadata": {},
   "source": [
    "There usually two most common causes for $X^{T}X$ is non-invertible.\n",
    "- The first cause is if somehow in your learning problem you have redundant features.\n",
    "    - For example, if x1 is size of the house in square feet, and x2 is in square meters, then two features will always satisfy the constraint x1 = $(3.28)^{2}$x2. In linear algebra, you can actually show that if your two features are related in a linear equation, then matrix $X^{T}X$ is non-invertible. To fix this, just delete 1 of the 2 redundant features.\n",
    "- The second cause is you are trying to run the learning algorithm with a lot of features, with m training examples is less than or equal to n features. To fix this problem, we can either delete some features or use regularization to use lot of features on a small dataset."
   ]
  },
  {
   "cell_type": "markdown",
   "metadata": {},
   "source": [
    "<img src=\"images/lec5_pic07.png\">\n",
    "\n",
    "*Screenshot taken from [Coursera](https://www.coursera.org/learn/machine-learning/lecture/zSiE6/normal-equation-noninvertibility) 5:37*\n",
    "\n",
    "<!--TEASER_END-->"
   ]
  }
 ],
 "metadata": {
  "kernelspec": {
   "display_name": "Python 2",
   "language": "python",
   "name": "python2"
  },
  "language_info": {
   "codemirror_mode": {
    "name": "ipython",
    "version": 2
   },
   "file_extension": ".py",
   "mimetype": "text/x-python",
   "name": "python",
   "nbconvert_exporter": "python",
   "pygments_lexer": "ipython2",
   "version": "2.7.10"
  }
 },
 "nbformat": 4,
 "nbformat_minor": 0
}
