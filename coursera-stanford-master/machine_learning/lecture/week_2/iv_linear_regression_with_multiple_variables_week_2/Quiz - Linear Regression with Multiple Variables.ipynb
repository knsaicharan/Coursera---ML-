{
 "cells": [
  {
   "cell_type": "markdown",
   "metadata": {},
   "source": [
    "# Question 1"
   ]
  },
  {
   "cell_type": "markdown",
   "metadata": {},
   "source": [
    "<img src=\"images/lec4_pic26.png\">\n",
    "\n",
    "*Screenshot taken from [Coursera](https://www.coursera.org/learn/machine-learning/exam/7pytE/linear-regression-with-multiple-variables) *\n",
    "\n",
    "<!--TEASER_END-->"
   ]
  },
  {
   "cell_type": "markdown",
   "metadata": {},
   "source": [
    "- $x_{i}$: feature\n",
    "- $\\mu_{i}$: mean (avarage) value of x (feature)\n",
    "- $s_{i}$: range of the feature (max - min) or you can set $s_{i}$ as the standard deviation of the feature.\n",
    "\n",
    "$$\\large x_{i} = \\dfrac{x_{i} - \\mu_{i}}{s_{i}}$$"
   ]
  },
  {
   "cell_type": "markdown",
   "metadata": {},
   "source": [
    "- $x_{1}^{(3)}$: 94\n",
    "- $\\mu_{i}$: (89 + 72 + 94 + 69)/4 = 81\n",
    "- $s_{i}$: 25\n",
    "\n",
    "$$\\large x_{i} = \\dfrac{94 - 81}{25} = 0.52$$"
   ]
  },
  {
   "cell_type": "markdown",
   "metadata": {},
   "source": [
    "# Question 2"
   ]
  },
  {
   "cell_type": "markdown",
   "metadata": {},
   "source": [
    "<img src=\"images/lec4_pic27.png\">\n",
    "\n",
    "*Screenshot taken from [Coursera](https://www.coursera.org/learn/machine-learning/exam/7pytE/linear-regression-with-multiple-variables) *\n",
    "\n",
    "<!--TEASER_END-->"
   ]
  },
  {
   "cell_type": "markdown",
   "metadata": {},
   "source": [
    "**If gradient descent is working properly, then the cost function $J_{\\theta}$ should decrease after every iteration.**"
   ]
  },
  {
   "cell_type": "markdown",
   "metadata": {},
   "source": [
    "# Question 3"
   ]
  },
  {
   "cell_type": "markdown",
   "metadata": {},
   "source": [
    "<img src=\"images/lec4_pic28.png\">\n",
    "\n",
    "*Screenshot taken from [Coursera](https://www.coursera.org/learn/machine-learning/exam/7pytE/linear-regression-with-multiple-variables) *\n",
    "\n",
    "<!--TEASER_END-->"
   ]
  },
  {
   "cell_type": "markdown",
   "metadata": {},
   "source": [
    "- X: the design matrix X is **m x (n + 1)** matrix.\n",
    "- y: **m-dimensional** vector\n",
    "$$\\large \\theta = (X^{T}X)^{-1}X^{T}y$$\n",
    "\n",
    "$\\theta = ((4\\times14)\\times(14\\times4))^{-1}\\times(4\\times14)\\times(14\\times1)$\n",
    "$       = 4\\times1$"
   ]
  },
  {
   "cell_type": "markdown",
   "metadata": {},
   "source": [
    "# Question 4"
   ]
  },
  {
   "cell_type": "markdown",
   "metadata": {},
   "source": [
    "<img src=\"images/lec4_pic29.png\">\n",
    "\n",
    "*Screenshot taken from [Coursera](https://www.coursera.org/learn/machine-learning/exam/7pytE/linear-regression-with-multiple-variables) *\n",
    "\n",
    "<!--TEASER_END-->"
   ]
  },
  {
   "cell_type": "markdown",
   "metadata": {},
   "source": [
    "# Question 5"
   ]
  },
  {
   "cell_type": "markdown",
   "metadata": {},
   "source": [
    "<img src=\"images/lec4_pic30.png\">\n",
    "\n",
    "*Screenshot taken from [Coursera](https://www.coursera.org/learn/machine-learning/exam/7pytE/linear-regression-with-multiple-variables) *\n",
    "\n",
    "<!--TEASER_END-->"
   ]
  }
 ],
 "metadata": {
  "kernelspec": {
   "display_name": "Python 2",
   "language": "python",
   "name": "python2"
  },
  "language_info": {
   "codemirror_mode": {
    "name": "ipython",
    "version": 2
   },
   "file_extension": ".py",
   "mimetype": "text/x-python",
   "name": "python",
   "nbconvert_exporter": "python",
   "pygments_lexer": "ipython2",
   "version": "2.7.10"
  }
 },
 "nbformat": 4,
 "nbformat_minor": 0
}
