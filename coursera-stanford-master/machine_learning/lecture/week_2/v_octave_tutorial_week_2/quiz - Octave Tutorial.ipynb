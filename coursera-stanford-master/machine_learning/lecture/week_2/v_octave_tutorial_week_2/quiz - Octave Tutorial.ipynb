{
 "cells": [
  {
   "cell_type": "markdown",
   "metadata": {},
   "source": [
    "# Table of Contents\n",
    "* [Question 1](#Question-1)\t\n",
    "* [Question 2](#Question-2)\t\n",
    "* [Question 3](#Question-3)\t\n",
    "* [Question 4](#Question-4)\t\n",
    "* [Question 5](#Question-5)\t"
   ]
  },
  {
   "cell_type": "markdown",
   "metadata": {},
   "source": [
    "# Question 1"
   ]
  },
  {
   "cell_type": "markdown",
   "metadata": {},
   "source": [
    "<img src=\"images/lec5_pic08.png\">\n",
    "\n",
    "*Screenshot taken from [Coursera](https://www.coursera.org/learn/machine-learning/exam/dbM1J/octave-tutorial)*\n",
    "\n",
    "<!--TEASER_END-->"
   ]
  },
  {
   "cell_type": "code",
   "execution_count": 1,
   "metadata": {
    "collapsed": false
   },
   "outputs": [
    {
     "data": {
      "text/plain": [
       "\n"
      ]
     },
     "execution_count": 1,
     "metadata": {},
     "output_type": "execute_result"
    }
   ],
   "source": [
    "A = [1 2; 3 4; 5 6];\n",
    "B = [1 2 3; 4 5 6];"
   ]
  },
  {
   "cell_type": "code",
   "execution_count": 2,
   "metadata": {
    "collapsed": false
   },
   "outputs": [
    {
     "data": {
      "text/plain": [
       "\n",
       "C =\n",
       "\n",
       "    9   12   15\n",
       "   19   26   33\n",
       "   29   40   51\n",
       "\n"
      ]
     },
     "execution_count": 2,
     "metadata": {},
     "output_type": "execute_result"
    }
   ],
   "source": [
    "C = A * B"
   ]
  },
  {
   "cell_type": "code",
   "execution_count": 3,
   "metadata": {
    "collapsed": false
   },
   "outputs": [
    {
     "data": {
      "text/plain": [
       "\n",
       "C =\n",
       "\n",
       "    2    6\n",
       "    5    9\n",
       "    8   12\n",
       "\n"
      ]
     },
     "execution_count": 3,
     "metadata": {},
     "output_type": "execute_result"
    }
   ],
   "source": [
    "C = B' + A"
   ]
  },
  {
   "cell_type": "markdown",
   "metadata": {},
   "source": [
    "# Question 2"
   ]
  },
  {
   "cell_type": "markdown",
   "metadata": {},
   "source": [
    "<img src=\"images/lec5_pic09.png\">\n",
    "\n",
    "*Screenshot taken from [Coursera](https://www.coursera.org/learn/machine-learning/exam/dbM1J/octave-tutorial)*\n",
    "\n",
    "<!--TEASER_END-->"
   ]
  },
  {
   "cell_type": "code",
   "execution_count": 4,
   "metadata": {
    "collapsed": false
   },
   "outputs": [
    {
     "data": {
      "text/plain": [
       "\n",
       "A =\n",
       "\n",
       "   16    2    3   13\n",
       "    5   11   10    8\n",
       "    9    7    6   12\n",
       "    4   14   15    1\n",
       "\n"
      ]
     },
     "execution_count": 4,
     "metadata": {},
     "output_type": "execute_result"
    }
   ],
   "source": [
    "A = [16 2 3 13; 5 11 10 8; 9 7 6 12; 4 14 15 1]"
   ]
  },
  {
   "cell_type": "code",
   "execution_count": 5,
   "metadata": {
    "collapsed": false
   },
   "outputs": [
    {
     "data": {
      "text/plain": [
       "\n",
       "B =\n",
       "\n",
       "   16    2\n",
       "    5   11\n",
       "    9    7\n",
       "    4   14\n",
       "\n"
      ]
     },
     "execution_count": 5,
     "metadata": {},
     "output_type": "execute_result"
    }
   ],
   "source": [
    "B = A(:, 1:2)\n",
    "B = A(1:4, 1:2)"
   ]
  },
  {
   "cell_type": "markdown",
   "metadata": {},
   "source": [
    "# Question 3"
   ]
  },
  {
   "cell_type": "markdown",
   "metadata": {},
   "source": [
    "<img src=\"images/lec5_pic10.png\">\n",
    "\n",
    "*Screenshot taken from [Coursera](https://www.coursera.org/learn/machine-learning/exam/dbM1J/octave-tutorial)*\n",
    "\n",
    "<!--TEASER_END-->"
   ]
  },
  {
   "cell_type": "code",
   "execution_count": 13,
   "metadata": {
    "collapsed": false
   },
   "outputs": [
    {
     "data": {
      "text/plain": [
       "\n"
      ]
     },
     "execution_count": 13,
     "metadata": {},
     "output_type": "execute_result"
    }
   ],
   "source": [
    "A = randn(10,10);\n",
    "x = randn(10,1);\n",
    "v = zeros(10,1);\n",
    "for i = 1:10; for j = 1:10; v(i) = v(i) + A(i, j) * x(j); end; end"
   ]
  },
  {
   "cell_type": "code",
   "execution_count": 14,
   "metadata": {
    "collapsed": false
   },
   "outputs": [
    {
     "data": {
      "text/plain": [
       "\n",
       "v =\n",
       "\n",
       "   0.1908132\n",
       "  -1.1624406\n",
       "  -3.9013743\n",
       "   3.1928356\n",
       "   2.3041324\n",
       "  -1.0550293\n",
       "   2.4871247\n",
       "   1.5782043\n",
       "  -0.0035206\n",
       "   0.4101187\n",
       "\n"
      ]
     },
     "execution_count": 14,
     "metadata": {},
     "output_type": "execute_result"
    }
   ],
   "source": [
    "v"
   ]
  },
  {
   "cell_type": "code",
   "execution_count": 15,
   "metadata": {
    "collapsed": false
   },
   "outputs": [
    {
     "data": {
      "text/plain": [
       "\n",
       "v =\n",
       "\n",
       "   0.1908132\n",
       "  -1.1624406\n",
       "  -3.9013743\n",
       "   3.1928356\n",
       "   2.3041324\n",
       "  -1.0550293\n",
       "   2.4871247\n",
       "   1.5782043\n",
       "  -0.0035206\n",
       "   0.4101187\n",
       "\n"
      ]
     },
     "execution_count": 15,
     "metadata": {},
     "output_type": "execute_result"
    }
   ],
   "source": [
    "v = A * x"
   ]
  },
  {
   "cell_type": "markdown",
   "metadata": {},
   "source": [
    "# Question 4"
   ]
  },
  {
   "cell_type": "markdown",
   "metadata": {},
   "source": [
    "<img src=\"images/lec5_pic11.png\">\n",
    "\n",
    "*Screenshot taken from [Coursera](https://www.coursera.org/learn/machine-learning/exam/dbM1J/octave-tutorial)*\n",
    "\n",
    "<!--TEASER_END-->"
   ]
  },
  {
   "cell_type": "code",
   "execution_count": 6,
   "metadata": {
    "collapsed": false
   },
   "outputs": [
    {
     "data": {
      "text/plain": [
       "\n"
      ]
     },
     "execution_count": 6,
     "metadata": {},
     "output_type": "execute_result"
    }
   ],
   "source": [
    "v = randn(7,1);\n",
    "w = randn(7,1);\n",
    "z = 0; for i = 1:7; z = z + v(i) * w(i); end"
   ]
  },
  {
   "cell_type": "code",
   "execution_count": 8,
   "metadata": {
    "collapsed": false
   },
   "outputs": [
    {
     "data": {
      "text/plain": [
       "\n",
       "z = -1.3760\n"
      ]
     },
     "execution_count": 8,
     "metadata": {},
     "output_type": "execute_result"
    }
   ],
   "source": [
    "z"
   ]
  },
  {
   "cell_type": "code",
   "execution_count": 9,
   "metadata": {
    "collapsed": false
   },
   "outputs": [
    {
     "data": {
      "text/plain": [
       "\n",
       "z = -1.3760\n"
      ]
     },
     "execution_count": 9,
     "metadata": {},
     "output_type": "execute_result"
    }
   ],
   "source": [
    "z = sum (v .* w)"
   ]
  },
  {
   "cell_type": "code",
   "execution_count": 10,
   "metadata": {
    "collapsed": false
   },
   "outputs": [
    {
     "data": {
      "text/plain": [
       "\n",
       "z = -1.3760\n"
      ]
     },
     "execution_count": 10,
     "metadata": {},
     "output_type": "execute_result"
    }
   ],
   "source": [
    "z = v' * w"
   ]
  },
  {
   "cell_type": "code",
   "execution_count": 11,
   "metadata": {
    "collapsed": false
   },
   "outputs": [
    {
     "data": {
      "text/plain": [
       "\n",
       "z =\n",
       "\n",
       " Columns 1 through 6:\n",
       "\n",
       "  -0.1453916  -0.1966776  -0.1101018   0.0869467  -0.1258302   0.0322073\n",
       "  -1.2615938  -1.7066137  -0.9553771   0.7544554  -1.0918552   0.2794699\n",
       "  -0.5352533  -0.7240608  -0.4053355   0.3200909  -0.4632387   0.1185700\n",
       "  -1.4752337  -1.9956139  -1.1171619   0.8822158  -1.2767514   0.3267957\n",
       "   0.1720512   0.2327412   0.1302906  -0.1028896   0.1489029  -0.0381130\n",
       "   0.3933199   0.5320612   0.2978525  -0.2352122   0.3404015  -0.0871287\n",
       "   1.2758947   1.7259591   0.9662068  -0.7630076   1.1042320  -0.2826378\n",
       "\n",
       " Column 7:\n",
       "\n",
       "   0.0071343\n",
       "   0.0619055\n",
       "   0.0262645\n",
       "   0.0723886\n",
       "  -0.0084424\n",
       "  -0.0192999\n",
       "  -0.0626072\n",
       "\n"
      ]
     },
     "execution_count": 11,
     "metadata": {},
     "output_type": "execute_result"
    }
   ],
   "source": [
    "z = v * w'"
   ]
  },
  {
   "cell_type": "code",
   "execution_count": 12,
   "metadata": {
    "collapsed": false
   },
   "outputs": [
    {
     "data": {
      "text/plain": [
       "\n",
       "z =\n",
       "\n",
       "  -0.145392\n",
       "  -1.706614\n",
       "  -0.405335\n",
       "   0.882216\n",
       "   0.148903\n",
       "  -0.087129\n",
       "  -0.062607\n",
       "\n"
      ]
     },
     "execution_count": 12,
     "metadata": {},
     "output_type": "execute_result"
    }
   ],
   "source": [
    "z = v .* w"
   ]
  },
  {
   "cell_type": "markdown",
   "metadata": {
    "collapsed": true
   },
   "source": [
    "# Question 5"
   ]
  },
  {
   "cell_type": "markdown",
   "metadata": {},
   "source": [
    "<img src=\"images/lec5_pic12.png\">\n",
    "\n",
    "*Screenshot taken from [Coursera](https://www.coursera.org/learn/machine-learning/exam/dbM1J/octave-tutorial)*\n",
    "\n",
    "<!--TEASER_END-->"
   ]
  },
  {
   "cell_type": "code",
   "execution_count": 1,
   "metadata": {
    "collapsed": false
   },
   "outputs": [
    {
     "data": {
      "text/plain": [
       "\n"
      ]
     },
     "execution_count": 1,
     "metadata": {},
     "output_type": "execute_result"
    }
   ],
   "source": [
    "X = randn(7,7);\n",
    "for i = 1:7; for j = 1:7; A(i, j) = log(X(i, j)); B(i, j) = X(i, j) ^ 2; C(i, j) = X(i, j) + 1; D(i, j) = X(i, j) / 4; end; end"
   ]
  },
  {
   "cell_type": "code",
   "execution_count": 2,
   "metadata": {
    "collapsed": false
   },
   "outputs": [
    {
     "data": {
      "text/plain": [
       "\n",
       "A =\n",
       "\n",
       " Columns 1 through 3:\n",
       "\n",
       "  -0.54576 + 0.00000i  -1.23201 + 0.00000i   0.14372 + 0.00000i\n",
       "   0.20299 + 0.00000i   0.39476 + 3.14159i   0.19898 + 3.14159i\n",
       "  -0.99851 + 3.14159i  -0.77051 + 3.14159i  -0.74106 + 0.00000i\n",
       "  -1.36330 + 0.00000i   0.18635 + 0.00000i  -0.62646 + 3.14159i\n",
       "  -1.30628 + 0.00000i   0.10109 + 0.00000i   0.48423 + 0.00000i\n",
       "  -1.73335 + 0.00000i   0.86608 + 3.14159i   0.35440 + 3.14159i\n",
       "  -0.89186 + 3.14159i   0.17946 + 3.14159i  -2.41618 + 0.00000i\n",
       "\n",
       " Columns 4 through 6:\n",
       "\n",
       "   0.14481 + 0.00000i   0.34148 + 0.00000i   0.67620 + 0.00000i\n",
       "  -0.45074 + 3.14159i   0.45247 + 3.14159i  -0.26816 + 3.14159i\n",
       "  -3.39496 + 3.14159i  -2.87211 + 0.00000i  -1.30143 + 0.00000i\n",
       "  -3.88218 + 0.00000i  -0.60665 + 3.14159i   0.06047 + 3.14159i\n",
       "  -0.23954 + 0.00000i  -0.54423 + 3.14159i   0.27269 + 3.14159i\n",
       "  -0.55460 + 3.14159i  -0.26731 + 0.00000i  -0.19220 + 0.00000i\n",
       "   0.32908 + 0.00000i  -0.72610 + 0.00000i  -0.30459 + 0.00000i\n",
       "\n",
       " Column 7:\n",
       "\n",
       "  -0.35617 + 0.00000i\n",
       "  -0.87544 + 3.14159i\n",
       "  -0.61769 + 0.00000i\n",
       "  -0.10081 + 0.00000i\n",
       "  -2.80215 + 0.00000i\n",
       "  -0.44841 + 3.14159i\n",
       "  -0.25049 + 0.00000i\n",
       "\n"
      ]
     },
     "execution_count": 2,
     "metadata": {},
     "output_type": "execute_result"
    }
   ],
   "source": [
    "A"
   ]
  },
  {
   "cell_type": "code",
   "execution_count": 3,
   "metadata": {
    "collapsed": false
   },
   "outputs": [
    {
     "data": {
      "text/plain": [
       "\n",
       "B =\n",
       "\n",
       " Columns 1 through 6:\n",
       "\n",
       "  3.3571e-001  8.5092e-002  1.3330e+000  1.3359e+000  1.9797e+000  3.8667e+000\n",
       "  1.5008e+000  2.2023e+000  1.4888e+000  4.0597e-001  2.4718e+000  5.8490e-001\n",
       "  1.3574e-001  2.1416e-001  2.2716e-001  1.1251e-003  3.2012e-003  7.4061e-002\n",
       "  6.5441e-002  1.4517e+000  2.8567e-001  4.2460e-004  2.9721e-001  1.1286e+000\n",
       "  7.3346e-002  1.2241e+000  2.6339e+000  6.1935e-001  3.3674e-001  1.7253e+000\n",
       "  3.1220e-002  5.6529e+000  2.0316e+000  3.2983e-001  5.8590e-001  6.8086e-001\n",
       "  1.6801e-001  1.4318e+000  7.9678e-003  1.9313e+000  2.3406e-001  5.4379e-001\n",
       "\n",
       " Column 7:\n",
       "\n",
       "  4.9050e-001\n",
       "  1.7362e-001\n",
       "  2.9072e-001\n",
       "  8.1741e-001\n",
       "  3.6820e-003\n",
       "  4.0787e-001\n",
       "  6.0594e-001\n",
       "\n"
      ]
     },
     "execution_count": 3,
     "metadata": {},
     "output_type": "execute_result"
    }
   ],
   "source": [
    "B"
   ]
  },
  {
   "cell_type": "code",
   "execution_count": 4,
   "metadata": {
    "collapsed": false
   },
   "outputs": [
    {
     "data": {
      "text/plain": [
       "\n",
       "C =\n",
       "\n",
       "   1.579403   1.291705   2.154562   2.155814   2.407028   2.966383   1.700355\n",
       "   2.225057  -0.484022  -0.220155   0.362843  -0.572194   0.235215   0.583322\n",
       "   0.631571   0.537223   1.476608   0.966458   1.056579   1.272142   1.539188\n",
       "   1.255815   2.204848   0.465521   1.020606   0.454828  -0.062333   1.904107\n",
       "   1.270825   2.106371   2.622922   1.786987   0.419709  -0.313492   1.060679\n",
       "   1.176691  -1.377580  -0.425326   0.425696   1.765439   1.825141   0.361354\n",
       "   0.590109  -0.196573   1.089262   2.389695   1.483793   1.737424   1.778423\n",
       "\n"
      ]
     },
     "execution_count": 4,
     "metadata": {},
     "output_type": "execute_result"
    }
   ],
   "source": [
    "C"
   ]
  },
  {
   "cell_type": "code",
   "execution_count": 5,
   "metadata": {
    "collapsed": false
   },
   "outputs": [
    {
     "data": {
      "text/plain": [
       "\n",
       "D =\n",
       "\n",
       " Columns 1 through 6:\n",
       "\n",
       "   0.1448506   0.0729263   0.2886404   0.2889536   0.3517570   0.4915958\n",
       "   0.3062644  -0.3710054  -0.3050388  -0.1592893  -0.3930484  -0.1911962\n",
       "  -0.0921072  -0.1156944   0.1191520  -0.0083855   0.0141448   0.0680355\n",
       "   0.0639538   0.3012120  -0.1336198   0.0051514  -0.1362930  -0.2655832\n",
       "   0.0677062   0.2765929   0.4057304   0.1967467  -0.1450728  -0.3283731\n",
       "   0.0441728  -0.5943950  -0.3563315  -0.1435761   0.1913598   0.2062853\n",
       "  -0.1024728  -0.2991433   0.0223156   0.3474238   0.1209482   0.1843561\n",
       "\n",
       " Column 7:\n",
       "\n",
       "   0.1750887\n",
       "  -0.1041695\n",
       "   0.1347969\n",
       "   0.2260267\n",
       "   0.0151698\n",
       "  -0.1596614\n",
       "   0.1946058\n",
       "\n"
      ]
     },
     "execution_count": 5,
     "metadata": {},
     "output_type": "execute_result"
    }
   ],
   "source": [
    "D"
   ]
  },
  {
   "cell_type": "code",
   "execution_count": 6,
   "metadata": {
    "collapsed": false
   },
   "outputs": [
    {
     "data": {
      "text/plain": [
       "\n",
       "C =\n",
       "\n",
       "   1.579403   1.291705   2.154562   2.155814   2.407028   2.966383   1.700355\n",
       "   2.225057  -0.484022  -0.220155   0.362843  -0.572194   0.235215   0.583322\n",
       "   0.631571   0.537223   1.476608   0.966458   1.056579   1.272142   1.539188\n",
       "   1.255815   2.204848   0.465521   1.020606   0.454828  -0.062333   1.904107\n",
       "   1.270825   2.106371   2.622922   1.786987   0.419709  -0.313492   1.060679\n",
       "   1.176691  -1.377580  -0.425326   0.425696   1.765439   1.825141   0.361354\n",
       "   0.590109  -0.196573   1.089262   2.389695   1.483793   1.737424   1.778423\n",
       "\n"
      ]
     },
     "execution_count": 6,
     "metadata": {},
     "output_type": "execute_result"
    }
   ],
   "source": [
    "C = X + 1"
   ]
  },
  {
   "cell_type": "code",
   "execution_count": 7,
   "metadata": {
    "collapsed": false
   },
   "outputs": [
    {
     "data": {
      "text/plain": [
       "\n",
       "D =\n",
       "\n",
       " Columns 1 through 6:\n",
       "\n",
       "   0.1448506   0.0729263   0.2886404   0.2889536   0.3517570   0.4915958\n",
       "   0.3062644  -0.3710054  -0.3050388  -0.1592893  -0.3930484  -0.1911962\n",
       "  -0.0921072  -0.1156944   0.1191520  -0.0083855   0.0141448   0.0680355\n",
       "   0.0639538   0.3012120  -0.1336198   0.0051514  -0.1362930  -0.2655832\n",
       "   0.0677062   0.2765929   0.4057304   0.1967467  -0.1450728  -0.3283731\n",
       "   0.0441728  -0.5943950  -0.3563315  -0.1435761   0.1913598   0.2062853\n",
       "  -0.1024728  -0.2991433   0.0223156   0.3474238   0.1209482   0.1843561\n",
       "\n",
       " Column 7:\n",
       "\n",
       "   0.1750887\n",
       "  -0.1041695\n",
       "   0.1347969\n",
       "   0.2260267\n",
       "   0.0151698\n",
       "  -0.1596614\n",
       "   0.1946058\n",
       "\n"
      ]
     },
     "execution_count": 7,
     "metadata": {},
     "output_type": "execute_result"
    }
   ],
   "source": [
    "D = X / 4"
   ]
  },
  {
   "cell_type": "code",
   "execution_count": 8,
   "metadata": {
    "collapsed": false
   },
   "outputs": [
    {
     "data": {
      "text/plain": [
       "\n",
       "A =\n",
       "\n",
       " Columns 1 through 3:\n",
       "\n",
       "  -0.54576 + 0.00000i  -1.23201 + 0.00000i   0.14372 + 0.00000i\n",
       "   0.20299 + 0.00000i   0.39476 + 3.14159i   0.19898 + 3.14159i\n",
       "  -0.99851 + 3.14159i  -0.77051 + 3.14159i  -0.74106 + 0.00000i\n",
       "  -1.36330 + 0.00000i   0.18635 + 0.00000i  -0.62646 + 3.14159i\n",
       "  -1.30628 + 0.00000i   0.10109 + 0.00000i   0.48423 + 0.00000i\n",
       "  -1.73335 + 0.00000i   0.86608 + 3.14159i   0.35440 + 3.14159i\n",
       "  -0.89186 + 3.14159i   0.17946 + 3.14159i  -2.41618 + 0.00000i\n",
       "\n",
       " Columns 4 through 6:\n",
       "\n",
       "   0.14481 + 0.00000i   0.34148 + 0.00000i   0.67620 + 0.00000i\n",
       "  -0.45074 + 3.14159i   0.45247 + 3.14159i  -0.26816 + 3.14159i\n",
       "  -3.39496 + 3.14159i  -2.87211 + 0.00000i  -1.30143 + 0.00000i\n",
       "  -3.88218 + 0.00000i  -0.60665 + 3.14159i   0.06047 + 3.14159i\n",
       "  -0.23954 + 0.00000i  -0.54423 + 3.14159i   0.27269 + 3.14159i\n",
       "  -0.55460 + 3.14159i  -0.26731 + 0.00000i  -0.19220 + 0.00000i\n",
       "   0.32908 + 0.00000i  -0.72610 + 0.00000i  -0.30459 + 0.00000i\n",
       "\n",
       " Column 7:\n",
       "\n",
       "  -0.35617 + 0.00000i\n",
       "  -0.87544 + 3.14159i\n",
       "  -0.61769 + 0.00000i\n",
       "  -0.10081 + 0.00000i\n",
       "  -2.80215 + 0.00000i\n",
       "  -0.44841 + 3.14159i\n",
       "  -0.25049 + 0.00000i\n",
       "\n"
      ]
     },
     "execution_count": 8,
     "metadata": {},
     "output_type": "execute_result"
    }
   ],
   "source": [
    "A = log (X)"
   ]
  },
  {
   "cell_type": "code",
   "execution_count": 9,
   "metadata": {
    "collapsed": false
   },
   "outputs": [
    {
     "data": {
      "text/plain": [
       "\n",
       "B =\n",
       "\n",
       "   1.004796  -3.362169  -0.211180   1.420200   0.819313   0.293462   1.326473\n",
       "  -1.211792   2.934151   1.485479   1.012160   4.460532   5.015448   0.311058\n",
       "  -1.122174  -0.911296   0.136432   0.489891   0.690769   0.342640   0.410801\n",
       "   1.120480  -0.600438  -0.730396   0.983841  -1.635182  -0.079548   0.756724\n",
       "   0.701565   1.042578   0.251413  -0.048140  -2.334896  -0.984830   2.166131\n",
       "  -1.817211   3.196789   2.741795   0.996075   4.097522   1.592497  -1.150982\n",
       "  -1.438494   1.139765   0.090111   1.353292   1.212252  -0.795860   1.680424\n",
       "\n"
      ]
     },
     "execution_count": 9,
     "metadata": {},
     "output_type": "execute_result"
    }
   ],
   "source": [
    "B = X ^ 2"
   ]
  }
 ],
 "metadata": {
  "kernelspec": {
   "display_name": "Octave",
   "language": "octave",
   "name": "octave_kernel"
  },
  "language_info": {
   "codemirror_mode": "Octave",
   "file_extension": ".m",
   "help_links": [
    {
     "text": "MetaKernel Magics",
     "url": "https://github.com/calysto/metakernel/blob/master/metakernel/magics/README.md"
    }
   ],
   "mimetype": "text/x-octave",
   "name": "octave_kernel"
  }
 },
 "nbformat": 4,
 "nbformat_minor": 0
}
