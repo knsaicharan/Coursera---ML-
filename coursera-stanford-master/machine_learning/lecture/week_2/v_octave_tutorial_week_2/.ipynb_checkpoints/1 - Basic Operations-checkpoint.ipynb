{
 "cells": [
  {
   "cell_type": "markdown",
   "metadata": {},
   "source": [
    "# Table of Contents\n",
    "* [1) Math Operations](#1%29-Math-Operations)\t\n",
    "* [2) Logical Operation](#2%29-Logical-Operation)\n",
    "* [3) Change Octave Prompt](#3%29-Change-Octave-Prompt)\t\n",
    "* [4) Assign value](#4%29-Assign-value)\n",
    "* [5) Display value (print)](#5%29-Display-value-%28print%29)\n",
    "* [6) Format](#6%29-Format)\n",
    "* [7) Vector and Matrices](#7%29-Vector-and-Matrices)\n",
    "\t* [1) Basic matrices](#1%29-Basic-matrices)\n",
    "\t* [2) Vector](#2%29-Vector)\n",
    "    * [3) Short way to generate matrices](#3%29-Short-way-to-generate-matrices)\n",
    "    * [4) Random matrices](#4%29-Random-matrices)\n",
    "    * [5) Gaussian random variable](#5%29-Gaussian-random-variable)\n",
    "    * [6) Plot](#6%29-Plot)\n",
    "    * [7) Identity matrix](#7%29-Identity-matrix)\n",
    "* [8) Help](#8%29-Help)"
   ]
  },
  {
   "cell_type": "markdown",
   "metadata": {},
   "source": [
    "# 1) Math Operations"
   ]
  },
  {
   "cell_type": "code",
   "execution_count": 1,
   "metadata": {
    "collapsed": false
   },
   "outputs": [
    {
     "data": {
      "text/plain": [
       "\n",
       "ans =  11\n"
      ]
     },
     "execution_count": 1,
     "metadata": {},
     "output_type": "execute_result"
    }
   ],
   "source": [
    "5 + 6"
   ]
  },
  {
   "cell_type": "code",
   "execution_count": 2,
   "metadata": {
    "collapsed": false
   },
   "outputs": [
    {
     "data": {
      "text/plain": [
       "\n",
       "ans =  1\n"
      ]
     },
     "execution_count": 2,
     "metadata": {},
     "output_type": "execute_result"
    }
   ],
   "source": [
    "3-2"
   ]
  },
  {
   "cell_type": "code",
   "execution_count": 3,
   "metadata": {
    "collapsed": false
   },
   "outputs": [
    {
     "data": {
      "text/plain": [
       "\n",
       "ans =  40\n"
      ]
     },
     "execution_count": 3,
     "metadata": {},
     "output_type": "execute_result"
    }
   ],
   "source": [
    "5*8"
   ]
  },
  {
   "cell_type": "code",
   "execution_count": 1,
   "metadata": {
    "collapsed": false
   },
   "outputs": [
    {
     "data": {
      "text/plain": [
       "\n",
       "ans =  0.50000\n"
      ]
     },
     "execution_count": 1,
     "metadata": {},
     "output_type": "execute_result"
    }
   ],
   "source": [
    "1/2"
   ]
  },
  {
   "cell_type": "code",
   "execution_count": 2,
   "metadata": {
    "collapsed": false
   },
   "outputs": [
    {
     "data": {
      "text/plain": [
       "\n",
       "ans =  64\n"
      ]
     },
     "execution_count": 2,
     "metadata": {},
     "output_type": "execute_result"
    }
   ],
   "source": [
    "2^6"
   ]
  },
  {
   "cell_type": "markdown",
   "metadata": {},
   "source": [
    "# 2) Logical Operation"
   ]
  },
  {
   "cell_type": "markdown",
   "metadata": {},
   "source": [
    "%  : comment in Octave\n",
    "\n",
    "== : equal\n",
    "\n",
    "~= : not equal\n",
    "\n",
    "&& : AND\n",
    "\n",
    "|| : OR\n"
   ]
  },
  {
   "cell_type": "code",
   "execution_count": 4,
   "metadata": {
    "collapsed": false
   },
   "outputs": [
    {
     "data": {
      "text/plain": [
       "\n",
       "ans = 0\n"
      ]
     },
     "execution_count": 4,
     "metadata": {},
     "output_type": "execute_result"
    }
   ],
   "source": [
    "1 == 2 % false"
   ]
  },
  {
   "cell_type": "code",
   "execution_count": 5,
   "metadata": {
    "collapsed": false
   },
   "outputs": [
    {
     "data": {
      "text/plain": [
       "\n",
       "ans =  1\n"
      ]
     },
     "execution_count": 5,
     "metadata": {},
     "output_type": "execute_result"
    }
   ],
   "source": [
    "1 ~= 2"
   ]
  },
  {
   "cell_type": "code",
   "execution_count": 7,
   "metadata": {
    "collapsed": false
   },
   "outputs": [
    {
     "data": {
      "text/plain": [
       "\n",
       "ans = 0\n"
      ]
     },
     "execution_count": 7,
     "metadata": {},
     "output_type": "execute_result"
    }
   ],
   "source": [
    "1 && 0  % AND"
   ]
  },
  {
   "cell_type": "code",
   "execution_count": 8,
   "metadata": {
    "collapsed": false
   },
   "outputs": [
    {
     "data": {
      "text/plain": [
       "\n",
       "ans =  1\n"
      ]
     },
     "execution_count": 8,
     "metadata": {},
     "output_type": "execute_result"
    }
   ],
   "source": [
    "1 || 0  % OR"
   ]
  },
  {
   "cell_type": "code",
   "execution_count": 9,
   "metadata": {
    "collapsed": false
   },
   "outputs": [
    {
     "data": {
      "text/plain": [
       "\n",
       "ans =  1\n"
      ]
     },
     "execution_count": 9,
     "metadata": {},
     "output_type": "execute_result"
    }
   ],
   "source": [
    "xor(1,0)"
   ]
  },
  {
   "cell_type": "markdown",
   "metadata": {},
   "source": [
    "# 3) Change Octave Prompt"
   ]
  },
  {
   "cell_type": "code",
   "execution_count": 10,
   "metadata": {
    "collapsed": false
   },
   "outputs": [
    {
     "data": {
      "text/plain": [
       "\n"
      ]
     },
     "execution_count": 10,
     "metadata": {},
     "output_type": "execute_result"
    }
   ],
   "source": [
    "PS1('>> ');"
   ]
  },
  {
   "cell_type": "markdown",
   "metadata": {},
   "source": [
    "# 4) Assign value"
   ]
  },
  {
   "cell_type": "code",
   "execution_count": 11,
   "metadata": {
    "collapsed": false
   },
   "outputs": [
    {
     "data": {
      "text/plain": [
       "\n",
       "a =  3\n"
      ]
     },
     "execution_count": 11,
     "metadata": {},
     "output_type": "execute_result"
    }
   ],
   "source": [
    "a = 3"
   ]
  },
  {
   "cell_type": "code",
   "execution_count": 12,
   "metadata": {
    "collapsed": false
   },
   "outputs": [
    {
     "data": {
      "text/plain": [
       "\n"
      ]
     },
     "execution_count": 12,
     "metadata": {},
     "output_type": "execute_result"
    }
   ],
   "source": [
    "a = 3; % semicolon supressing output"
   ]
  },
  {
   "cell_type": "code",
   "execution_count": 13,
   "metadata": {
    "collapsed": false
   },
   "outputs": [
    {
     "data": {
      "text/plain": [
       "\n"
      ]
     },
     "execution_count": 13,
     "metadata": {},
     "output_type": "execute_result"
    }
   ],
   "source": [
    "b = 'hi';"
   ]
  },
  {
   "cell_type": "code",
   "execution_count": 14,
   "metadata": {
    "collapsed": false
   },
   "outputs": [
    {
     "data": {
      "text/plain": [
       "\n",
       "c =  1\n"
      ]
     },
     "execution_count": 14,
     "metadata": {},
     "output_type": "execute_result"
    }
   ],
   "source": [
    "c = (3>=1);\n",
    "c"
   ]
  },
  {
   "cell_type": "markdown",
   "metadata": {},
   "source": [
    "# 5) Display value (print)"
   ]
  },
  {
   "cell_type": "code",
   "execution_count": 19,
   "metadata": {
    "collapsed": false
   },
   "outputs": [
    {
     "data": {
      "text/plain": [
       "\n",
       " 3.14159265358979\n"
      ]
     },
     "execution_count": 19,
     "metadata": {},
     "output_type": "execute_result"
    }
   ],
   "source": [
    "a=pi;\n",
    "disp(a);"
   ]
  },
  {
   "cell_type": "code",
   "execution_count": 16,
   "metadata": {
    "collapsed": false
   },
   "outputs": [
    {
     "data": {
      "text/plain": [
       "\n",
       "2 decimals: 3.14\n"
      ]
     },
     "execution_count": 16,
     "metadata": {},
     "output_type": "execute_result"
    }
   ],
   "source": [
    "disp(sprintf('2 decimals: %0.2f', a))"
   ]
  },
  {
   "cell_type": "code",
   "execution_count": 17,
   "metadata": {
    "collapsed": false
   },
   "outputs": [
    {
     "data": {
      "text/plain": [
       "\n",
       "6 decimals: 3.141593\n"
      ]
     },
     "execution_count": 17,
     "metadata": {},
     "output_type": "execute_result"
    }
   ],
   "source": [
    "disp(sprintf('6 decimals: %0.6f', a))"
   ]
  },
  {
   "cell_type": "markdown",
   "metadata": {},
   "source": [
    "# 6) Format"
   ]
  },
  {
   "cell_type": "code",
   "execution_count": 22,
   "metadata": {
    "collapsed": false
   },
   "outputs": [
    {
     "data": {
      "text/plain": [
       "\n",
       "a =  3.14159265358979\n"
      ]
     },
     "execution_count": 22,
     "metadata": {},
     "output_type": "execute_result"
    }
   ],
   "source": [
    "format long\n",
    "a"
   ]
  },
  {
   "cell_type": "code",
   "execution_count": 23,
   "metadata": {
    "collapsed": false
   },
   "outputs": [
    {
     "data": {
      "text/plain": [
       "\n",
       "a =  3.1416\n"
      ]
     },
     "execution_count": 23,
     "metadata": {},
     "output_type": "execute_result"
    }
   ],
   "source": [
    "format short\n",
    "a"
   ]
  },
  {
   "cell_type": "markdown",
   "metadata": {},
   "source": [
    "# 7) Vector and Matrices"
   ]
  },
  {
   "cell_type": "markdown",
   "metadata": {},
   "source": [
    "## 1) Basic matrices"
   ]
  },
  {
   "cell_type": "code",
   "execution_count": 24,
   "metadata": {
    "code_folding": [],
    "collapsed": false
   },
   "outputs": [
    {
     "data": {
      "text/plain": [
       "\n",
       "A =\n",
       "\n",
       "   1   2\n",
       "   3   4\n",
       "   5   6\n",
       "\n"
      ]
     },
     "execution_count": 24,
     "metadata": {},
     "output_type": "execute_result"
    }
   ],
   "source": [
    "A = [1 2; 3 4; 5 6] % semi-colon means go to next row of the matrix"
   ]
  },
  {
   "cell_type": "code",
   "execution_count": 2,
   "metadata": {
    "code_folding": [
     0
    ],
    "collapsed": false
   },
   "outputs": [
    {
     "data": {
      "text/plain": [
       "\n",
       "V =\n",
       "\n",
       "   1   2   3\n",
       "\n"
      ]
     },
     "execution_count": 2,
     "metadata": {},
     "output_type": "execute_result"
    }
   ],
   "source": [
    "V = [1 2 3] % 1 by 3 matrix"
   ]
  },
  {
   "cell_type": "markdown",
   "metadata": {},
   "source": [
    "## 2) Vector"
   ]
  },
  {
   "cell_type": "code",
   "execution_count": 3,
   "metadata": {
    "collapsed": false
   },
   "outputs": [
    {
     "data": {
      "text/plain": [
       "\n",
       "v =\n",
       "\n",
       "   1\n",
       "   2\n",
       "   3\n",
       "\n"
      ]
     },
     "execution_count": 3,
     "metadata": {},
     "output_type": "execute_result"
    }
   ],
   "source": [
    "v = [1; 2; 3] % vector (3 by 1)"
   ]
  },
  {
   "cell_type": "markdown",
   "metadata": {},
   "source": [
    "## 3) Short way to generate matrices"
   ]
  },
  {
   "cell_type": "code",
   "execution_count": 4,
   "metadata": {
    "collapsed": false
   },
   "outputs": [
    {
     "data": {
      "text/plain": [
       "\n",
       "v =\n",
       "\n",
       " Columns 1 through 8:\n",
       "\n",
       "    1.0000    1.1000    1.2000    1.3000    1.4000    1.5000    1.6000    1.7000\n",
       "\n",
       " Columns 9 through 11:\n",
       "\n",
       "    1.8000    1.9000    2.0000\n",
       "\n"
      ]
     },
     "execution_count": 4,
     "metadata": {},
     "output_type": "execute_result"
    }
   ],
   "source": [
    "v = 1:0.1:2 % increase 0.1 for every value from 1 to 2 -> result 1 x 11 matrix"
   ]
  },
  {
   "cell_type": "code",
   "execution_count": 5,
   "metadata": {
    "collapsed": false
   },
   "outputs": [
    {
     "data": {
      "text/plain": [
       "\n",
       "v =\n",
       "\n",
       "   1   2   3   4   5   6\n",
       "\n"
      ]
     },
     "execution_count": 5,
     "metadata": {},
     "output_type": "execute_result"
    }
   ],
   "source": [
    "v = 1:6"
   ]
  },
  {
   "cell_type": "code",
   "execution_count": 6,
   "metadata": {
    "collapsed": false
   },
   "outputs": [
    {
     "data": {
      "text/plain": [
       "\n",
       "ans =\n",
       "\n",
       "   1   1   1\n",
       "   1   1   1\n",
       "\n"
      ]
     },
     "execution_count": 6,
     "metadata": {},
     "output_type": "execute_result"
    }
   ],
   "source": [
    "ones(2,3) % 2 x 3 matrix of all 1"
   ]
  },
  {
   "cell_type": "code",
   "execution_count": 7,
   "metadata": {
    "collapsed": false
   },
   "outputs": [
    {
     "data": {
      "text/plain": [
       "\n",
       "C =\n",
       "\n",
       "   2   2   2\n",
       "   2   2   2\n",
       "\n"
      ]
     },
     "execution_count": 7,
     "metadata": {},
     "output_type": "execute_result"
    }
   ],
   "source": [
    "C = 2*ones(2,3)"
   ]
  },
  {
   "cell_type": "code",
   "execution_count": 8,
   "metadata": {
    "collapsed": false
   },
   "outputs": [
    {
     "data": {
      "text/plain": [
       "\n",
       "w =\n",
       "\n",
       "   1   1   1\n",
       "\n"
      ]
     },
     "execution_count": 8,
     "metadata": {},
     "output_type": "execute_result"
    }
   ],
   "source": [
    "w = ones(1,3)"
   ]
  },
  {
   "cell_type": "code",
   "execution_count": 9,
   "metadata": {
    "collapsed": false
   },
   "outputs": [
    {
     "data": {
      "text/plain": [
       "\n",
       "w =\n",
       "\n",
       "   0   0   0\n",
       "\n"
      ]
     },
     "execution_count": 9,
     "metadata": {},
     "output_type": "execute_result"
    }
   ],
   "source": [
    "w = zeros(1,3) % all zeros"
   ]
  },
  {
   "cell_type": "markdown",
   "metadata": {},
   "source": [
    "## 4) Random matrices"
   ]
  },
  {
   "cell_type": "code",
   "execution_count": 10,
   "metadata": {
    "collapsed": false
   },
   "outputs": [
    {
     "data": {
      "text/plain": [
       "\n",
       "w =\n",
       "\n",
       "   0.79952   0.39987   0.61378\n",
       "\n"
      ]
     },
     "execution_count": 10,
     "metadata": {},
     "output_type": "execute_result"
    }
   ],
   "source": [
    "w = rand(1,3) "
   ]
  },
  {
   "cell_type": "code",
   "execution_count": 11,
   "metadata": {
    "collapsed": false
   },
   "outputs": [
    {
     "data": {
      "text/plain": [
       "\n",
       "ans =\n",
       "\n",
       "   0.057826   0.804305   0.394833\n",
       "   0.731173   0.161538   0.455092\n",
       "   0.305860   0.754297   0.413508\n",
       "\n"
      ]
     },
     "execution_count": 11,
     "metadata": {},
     "output_type": "execute_result"
    }
   ],
   "source": [
    "rand(3,3) # random number between 0 and 1"
   ]
  },
  {
   "cell_type": "markdown",
   "metadata": {},
   "source": [
    "## 5) Gaussian random variable"
   ]
  },
  {
   "cell_type": "code",
   "execution_count": 12,
   "metadata": {
    "collapsed": false
   },
   "outputs": [
    {
     "data": {
      "text/plain": [
       "\n",
       "w =\n",
       "\n",
       "  -0.67614  -0.10555   0.91521\n",
       "\n"
      ]
     },
     "execution_count": 12,
     "metadata": {},
     "output_type": "execute_result"
    }
   ],
   "source": [
    "w = randn(1,3) # Gaussian random variable with mean 0 and variance or standard deviation = 1"
   ]
  },
  {
   "cell_type": "code",
   "execution_count": 13,
   "metadata": {
    "collapsed": false
   },
   "outputs": [
    {
     "data": {
      "text/plain": [
       "\n",
       "w =\n",
       "\n",
       "  -1.09595  -0.60272  -2.14756\n",
       "\n"
      ]
     },
     "execution_count": 13,
     "metadata": {},
     "output_type": "execute_result"
    }
   ],
   "source": [
    "w = randn(1,3)"
   ]
  },
  {
   "cell_type": "markdown",
   "metadata": {},
   "source": [
    "## 6) Plot"
   ]
  },
  {
   "cell_type": "code",
   "execution_count": 15,
   "metadata": {
    "collapsed": false
   },
   "outputs": [
    {
     "data": {
      "text/plain": [
       "\n"
      ]
     },
     "execution_count": 15,
     "metadata": {},
     "output_type": "execute_result"
    }
   ],
   "source": [
    "w = -6 + sqrt(10)*(randn(1,10000)); % vector of 10,000 elements"
   ]
  },
  {
   "cell_type": "code",
   "execution_count": 16,
   "metadata": {
    "collapsed": false
   },
   "outputs": [
    {
     "data": {
      "image/svg+xml": [
       "<svg height=\"420px\" viewBox=\"0 0 268 201\" width=\"560px\" xmlns=\"http://www.w3.org/2000/svg\" xmlns:xlink=\"http://www.w3.org/1999/xlink\">\n",
       "\n",
       "<title>Gnuplot</title>\n",
       "<desc>Produced by GNUPLOT 4.6 patchlevel 4 </desc>\n",
       "\n",
       "<g id=\"gnuplot_canvas\">\n",
       "\n",
       "<rect fill=\"none\" height=\"201\" width=\"268\" x=\"0\" y=\"0\"/>\n",
       "<defs>\n",
       "\n",
       "\t<circle id=\"gpDot\" r=\"0.5\" stroke-width=\"0.5\"/>\n",
       "\t<path d=\"M-1,0 h2 M0,-1 v2\" id=\"gpPt0\" stroke=\"currentColor\" stroke-width=\"0.333\"/>\n",
       "\t<path d=\"M-1,-1 L1,1 M1,-1 L-1,1\" id=\"gpPt1\" stroke=\"currentColor\" stroke-width=\"0.333\"/>\n",
       "\t<path d=\"M-1,0 L1,0 M0,-1 L0,1 M-1,-1 L1,1 M-1,1 L1,-1\" id=\"gpPt2\" stroke=\"currentColor\" stroke-width=\"0.333\"/>\n",
       "\t<rect height=\"2\" id=\"gpPt3\" stroke=\"currentColor\" stroke-width=\"0.333\" width=\"2\" x=\"-1\" y=\"-1\"/>\n",
       "\t<rect fill=\"currentColor\" height=\"2\" id=\"gpPt4\" stroke=\"currentColor\" stroke-width=\"0.333\" width=\"2\" x=\"-1\" y=\"-1\"/>\n",
       "\t<circle cx=\"0\" cy=\"0\" id=\"gpPt5\" r=\"1\" stroke=\"currentColor\" stroke-width=\"0.333\"/>\n",
       "\t<use fill=\"currentColor\" id=\"gpPt6\" stroke=\"none\" xlink:href=\"#gpPt5\"/>\n",
       "\t<path d=\"M0,-1.33 L-1.33,0.67 L1.33,0.67 z\" id=\"gpPt7\" stroke=\"currentColor\" stroke-width=\"0.333\"/>\n",
       "\t<use fill=\"currentColor\" id=\"gpPt8\" stroke=\"none\" xlink:href=\"#gpPt7\"/>\n",
       "\t<use id=\"gpPt9\" stroke=\"currentColor\" transform=\"rotate(180)\" xlink:href=\"#gpPt7\"/>\n",
       "\t<use fill=\"currentColor\" id=\"gpPt10\" stroke=\"none\" xlink:href=\"#gpPt9\"/>\n",
       "\t<use id=\"gpPt11\" stroke=\"currentColor\" transform=\"rotate(45)\" xlink:href=\"#gpPt3\"/>\n",
       "\t<use fill=\"currentColor\" id=\"gpPt12\" stroke=\"none\" xlink:href=\"#gpPt11\"/>\n",
       "</defs>\n",
       "<g style=\"fill:none; color:white; stroke:currentColor; stroke-width:1.00; stroke-linecap:butt; stroke-linejoin:miter\">\n",
       "</g>\n",
       "<g style=\"fill:none; color:black; stroke:currentColor; stroke-width:1.00; stroke-linecap:butt; stroke-linejoin:miter\">\n",
       "\t<g style=\"stroke:none; shape-rendering:crispEdges\">\n",
       "\t\t<polygon fill=\"rgb(255, 255, 255)\" points=\"35.7,177.5 252.1,177.5 252.1,11.2 35.7,11.2 \"/>\n",
       "\t</g>\n",
       "\t<path d=\"M35.7,177.5 L35.7,11.2 L252.1,11.2 L252.1,177.5 L35.7,177.5  h0.01\" stroke=\"black\"/></g>\n",
       "<g style=\"fill:none; color:black; stroke:black; stroke-width:0.50; stroke-linecap:butt; stroke-linejoin:miter\">\n",
       "\t<path d=\"M35.7,177.5 L44.0,177.5 M252.2,177.5 L243.9,177.5  h0.01\" stroke=\"black\"/>\t<g style=\"stroke:none; fill:rgb(0,0,0); font-family:{}; font-size:10.00pt; text-anchor:end\" transform=\"translate(30.2,181.2)\">\n",
       "\t\t<text><tspan>0</tspan></text>\n",
       "\t</g>\n",
       "\t<path d=\"M35.7,153.7 L44.0,153.7 M252.2,153.7 L243.9,153.7  h0.01\" stroke=\"black\"/>\t<g style=\"stroke:none; fill:rgb(0,0,0); font-family:{}; font-size:10.00pt; text-anchor:end\" transform=\"translate(30.2,157.4)\">\n",
       "\t\t<text><tspan>500</tspan></text>\n",
       "\t</g>\n",
       "\t<path d=\"M35.7,130.0 L44.0,130.0 M252.2,130.0 L243.9,130.0  h0.01\" stroke=\"black\"/>\t<g style=\"stroke:none; fill:rgb(0,0,0); font-family:{}; font-size:10.00pt; text-anchor:end\" transform=\"translate(30.2,133.7)\">\n",
       "\t\t<text><tspan>1000</tspan></text>\n",
       "\t</g>\n",
       "\t<path d=\"M35.7,106.2 L44.0,106.2 M252.2,106.2 L243.9,106.2  h0.01\" stroke=\"black\"/>\t<g style=\"stroke:none; fill:rgb(0,0,0); font-family:{}; font-size:10.00pt; text-anchor:end\" transform=\"translate(30.2,109.9)\">\n",
       "\t\t<text><tspan>1500</tspan></text>\n",
       "\t</g>\n",
       "\t<path d=\"M35.7,82.4 L44.0,82.4 M252.2,82.4 L243.9,82.4  h0.01\" stroke=\"black\"/>\t<g style=\"stroke:none; fill:rgb(0,0,0); font-family:{}; font-size:10.00pt; text-anchor:end\" transform=\"translate(30.2,86.1)\">\n",
       "\t\t<text><tspan>2000</tspan></text>\n",
       "\t</g>\n",
       "\t<path d=\"M35.7,58.6 L44.0,58.6 M252.2,58.6 L243.9,58.6  h0.01\" stroke=\"black\"/>\t<g style=\"stroke:none; fill:rgb(0,0,0); font-family:{}; font-size:10.00pt; text-anchor:end\" transform=\"translate(30.2,62.3)\">\n",
       "\t\t<text><tspan>2500</tspan></text>\n",
       "\t</g>\n",
       "\t<path d=\"M35.7,34.9 L44.0,34.9 M252.2,34.9 L243.9,34.9  h0.01\" stroke=\"black\"/>\t<g style=\"stroke:none; fill:rgb(0,0,0); font-family:{}; font-size:10.00pt; text-anchor:end\" transform=\"translate(30.2,38.6)\">\n",
       "\t\t<text><tspan>3000</tspan></text>\n",
       "\t</g>\n",
       "\t<path d=\"M35.7,11.1 L44.0,11.1 M252.2,11.1 L243.9,11.1  h0.01\" stroke=\"black\"/>\t<g style=\"stroke:none; fill:rgb(0,0,0); font-family:{}; font-size:10.00pt; text-anchor:end\" transform=\"translate(30.2,14.8)\">\n",
       "\t\t<text><tspan>3500</tspan></text>\n",
       "\t</g>\n",
       "\t<path d=\"M35.7,177.5 L35.7,169.2 M35.7,11.1 L35.7,19.4  h0.01\" stroke=\"black\"/>\t<g style=\"stroke:none; fill:rgb(0,0,0); font-family:{}; font-size:10.00pt; text-anchor:middle\" transform=\"translate(35.7,193.2)\">\n",
       "\t\t<text><tspan>-20</tspan></text>\n",
       "\t</g>\n",
       "\t<path d=\"M71.8,177.5 L71.8,169.2 M71.8,11.1 L71.8,19.4  h0.01\" stroke=\"black\"/>\t<g style=\"stroke:none; fill:rgb(0,0,0); font-family:{}; font-size:10.00pt; text-anchor:middle\" transform=\"translate(71.8,193.2)\">\n",
       "\t\t<text><tspan>-15</tspan></text>\n",
       "\t</g>\n",
       "\t<path d=\"M107.9,177.5 L107.9,169.2 M107.9,11.1 L107.9,19.4  h0.01\" stroke=\"black\"/>\t<g style=\"stroke:none; fill:rgb(0,0,0); font-family:{}; font-size:10.00pt; text-anchor:middle\" transform=\"translate(107.9,193.2)\">\n",
       "\t\t<text><tspan>-10</tspan></text>\n",
       "\t</g>\n",
       "\t<path d=\"M144.0,177.5 L144.0,169.2 M144.0,11.1 L144.0,19.4  h0.01\" stroke=\"black\"/>\t<g style=\"stroke:none; fill:rgb(0,0,0); font-family:{}; font-size:10.00pt; text-anchor:middle\" transform=\"translate(144.0,193.2)\">\n",
       "\t\t<text><tspan>-5</tspan></text>\n",
       "\t</g>\n",
       "\t<path d=\"M180.0,177.5 L180.0,169.2 M180.0,11.1 L180.0,19.4  h0.01\" stroke=\"black\"/>\t<g style=\"stroke:none; fill:rgb(0,0,0); font-family:{}; font-size:10.00pt; text-anchor:middle\" transform=\"translate(180.0,193.2)\">\n",
       "\t\t<text><tspan>0</tspan></text>\n",
       "\t</g>\n",
       "\t<path d=\"M216.1,177.5 L216.1,169.2 M216.1,11.1 L216.1,19.4  h0.01\" stroke=\"black\"/>\t<g style=\"stroke:none; fill:rgb(0,0,0); font-family:{}; font-size:10.00pt; text-anchor:middle\" transform=\"translate(216.1,193.2)\">\n",
       "\t\t<text><tspan>5</tspan></text>\n",
       "\t</g>\n",
       "\t<path d=\"M252.2,177.5 L252.2,169.2 M252.2,11.1 L252.2,19.4  h0.01\" stroke=\"black\"/>\t<g style=\"stroke:none; fill:rgb(0,0,0); font-family:{}; font-size:10.00pt; text-anchor:middle\" transform=\"translate(252.2,193.2)\">\n",
       "\t\t<text><tspan>10</tspan></text>\n",
       "\t</g>\n",
       "\t<path d=\"M35.7,11.1 L35.7,177.5 L252.2,177.5 L252.2,11.1 L35.7,11.1 Z  h0.01\" stroke=\"black\"/></g>\n",
       "\t<g id=\"gnuplot_plot_1a\"><title>gnuplot_plot_1a</title>\n",
       "<g style=\"fill:none; color:white; stroke:black; stroke-width:1.00; stroke-linecap:butt; stroke-linejoin:miter\">\n",
       "</g>\n",
       "<g style=\"fill:none; color:red; stroke:currentColor; stroke-width:1.00; stroke-linecap:butt; stroke-linejoin:miter\">\n",
       "\t<g style=\"stroke:none; shape-rendering:crispEdges\">\n",
       "\t\t<polygon fill=\"rgb(  0,   0, 128)\" points=\"47.0,177.5 47.0,177.5 47.0,177.0 65.7,177.0 65.7,177.5 \"/>\n",
       "\t</g>\n",
       "\t<path d=\"M47.0,177.5 L47.0,177.0 L65.7,177.0 L65.7,177.5  h0.01\" stroke=\"rgb(  0,   0, 128)\"/></g>\n",
       "\t</g>\n",
       "\t<g id=\"gnuplot_plot_2a\"><title>gnuplot_plot_2a</title>\n",
       "<g style=\"fill:none; color:white; stroke:rgb(  0,   0, 128); stroke-width:0.50; stroke-linecap:butt; stroke-linejoin:miter\">\n",
       "</g>\n",
       "<g style=\"fill:none; color:red; stroke:currentColor; stroke-width:0.50; stroke-linecap:butt; stroke-linejoin:miter\">\n",
       "\t<path d=\"M47.0,177.5 L47.0,177.0 L65.7,177.0 L65.7,177.5 L47.0,177.5  h0.01\" stroke=\"rgb(  0,   0,   0)\"/></g>\n",
       "\t</g>\n",
       "\t<g id=\"gnuplot_plot_3a\"><title>gnuplot_plot_3a</title>\n",
       "<g style=\"fill:none; color:white; stroke:rgb(  0,   0,   0); stroke-width:1.00; stroke-linecap:butt; stroke-linejoin:miter\">\n",
       "</g>\n",
       "<g style=\"fill:none; color:blue; stroke:currentColor; stroke-width:1.00; stroke-linecap:butt; stroke-linejoin:miter\">\n",
       "\t<g style=\"stroke:none; shape-rendering:crispEdges\">\n",
       "\t\t<polygon fill=\"rgb(  0,   0, 128)\" points=\"65.7,177.5 65.7,177.5 65.7,172.9 84.4,172.9 84.4,177.5 \"/>\n",
       "\t</g>\n",
       "\t<path d=\"M65.7,177.5 L65.7,172.9 L84.4,172.9 L84.4,177.5  h0.01\" stroke=\"rgb(  0,   0, 128)\" stroke-dasharray=\" 2,4\"/></g>\n",
       "\t</g>\n",
       "\t<g id=\"gnuplot_plot_4a\"><title>gnuplot_plot_4a</title>\n",
       "<g style=\"fill:none; color:white; stroke:rgb(  0,   0, 128); stroke-width:0.50; stroke-linecap:butt; stroke-linejoin:miter\">\n",
       "</g>\n",
       "<g style=\"fill:none; color:red; stroke:currentColor; stroke-width:0.50; stroke-linecap:butt; stroke-linejoin:miter\">\n",
       "\t<path d=\"M65.7,177.5 L65.7,172.9 L84.4,172.9 L84.4,177.5 L65.7,177.5  h0.01\" stroke=\"rgb(  0,   0,   0)\"/></g>\n",
       "\t</g>\n",
       "\t<g id=\"gnuplot_plot_5a\"><title>gnuplot_plot_5a</title>\n",
       "<g style=\"fill:none; color:white; stroke:rgb(  0,   0,   0); stroke-width:1.00; stroke-linecap:butt; stroke-linejoin:miter\">\n",
       "</g>\n",
       "<g style=\"fill:none; color:#157545; stroke:currentColor; stroke-width:1.00; stroke-linecap:butt; stroke-linejoin:miter\">\n",
       "\t<g style=\"stroke:none; shape-rendering:crispEdges\">\n",
       "\t\t<polygon fill=\"rgb(  0,   0, 128)\" points=\"84.4,177.5 84.4,177.5 84.4,149.2 103.1,149.2 103.1,177.5 \"/>\n",
       "\t</g>\n",
       "\t<path d=\"M84.4,177.5 L84.4,149.2 L103.1,149.2 L103.1,177.5  h0.01\" stroke=\"rgb(  0,   0, 128)\" stroke-dasharray=\" 9,4,1,4,1,4\"/></g>\n",
       "\t</g>\n",
       "\t<g id=\"gnuplot_plot_6a\"><title>gnuplot_plot_6a</title>\n",
       "<g style=\"fill:none; color:white; stroke:rgb(  0,   0, 128); stroke-width:0.50; stroke-linecap:butt; stroke-linejoin:miter\">\n",
       "</g>\n",
       "<g style=\"fill:none; color:red; stroke:currentColor; stroke-width:0.50; stroke-linecap:butt; stroke-linejoin:miter\">\n",
       "\t<path d=\"M84.4,177.5 L84.4,149.2 L103.1,149.2 L103.1,177.5 L84.4,177.5  h0.01\" stroke=\"rgb(  0,   0,   0)\"/></g>\n",
       "\t</g>\n",
       "\t<g id=\"gnuplot_plot_7a\"><title>gnuplot_plot_7a</title>\n",
       "<g style=\"fill:none; color:white; stroke:rgb(  0,   0,   0); stroke-width:1.00; stroke-linecap:butt; stroke-linejoin:miter\">\n",
       "</g>\n",
       "<g style=\"fill:none; color:#FF9900; stroke:currentColor; stroke-width:1.00; stroke-linecap:butt; stroke-linejoin:miter\">\n",
       "\t<g style=\"stroke:none; shape-rendering:crispEdges\">\n",
       "\t\t<polygon fill=\"rgb(  0,   0, 128)\" points=\"103.1,177.5 103.1,177.5 103.1,86.5 121.8,86.5 121.8,177.5 \"/>\n",
       "\t</g>\n",
       "\t<path d=\"M103.1,177.5 L103.1,86.5 L121.8,86.5 L121.8,177.5  h0.01\" stroke=\"rgb(  0,   0, 128)\" stroke-dasharray=\" 5,8\"/></g>\n",
       "\t</g>\n",
       "\t<g id=\"gnuplot_plot_8a\"><title>gnuplot_plot_8a</title>\n",
       "<g style=\"fill:none; color:white; stroke:rgb(  0,   0, 128); stroke-width:0.50; stroke-linecap:butt; stroke-linejoin:miter\">\n",
       "</g>\n",
       "<g style=\"fill:none; color:red; stroke:currentColor; stroke-width:0.50; stroke-linecap:butt; stroke-linejoin:miter\">\n",
       "\t<path d=\"M103.1,177.5 L103.1,86.5 L121.8,86.5 L121.8,177.5 L103.1,177.5  h0.01\" stroke=\"rgb(  0,   0,   0)\"/></g>\n",
       "\t</g>\n",
       "\t<g id=\"gnuplot_plot_9a\"><title>gnuplot_plot_9a</title>\n",
       "<g style=\"fill:none; color:white; stroke:rgb(  0,   0,   0); stroke-width:1.00; stroke-linecap:butt; stroke-linejoin:miter\">\n",
       "</g>\n",
       "<g style=\"fill:none; color:#D6D645; stroke:currentColor; stroke-width:1.00; stroke-linecap:butt; stroke-linejoin:miter\">\n",
       "\t<g style=\"stroke:none; shape-rendering:crispEdges\">\n",
       "\t\t<polygon fill=\"rgb(  0,   0, 128)\" points=\"121.8,177.5 121.8,177.5 121.8,29.0 140.5,29.0 140.5,177.5 \"/>\n",
       "\t</g>\n",
       "\t<path d=\"M121.8,177.5 L121.8,29.0 L140.5,29.0 L140.5,177.5  h0.01\" stroke=\"rgb(  0,   0, 128)\" stroke-dasharray=\" 8,4,2,4\"/></g>\n",
       "\t</g>\n",
       "\t<g id=\"gnuplot_plot_10a\"><title>gnuplot_plot_10a</title>\n",
       "<g style=\"fill:none; color:white; stroke:rgb(  0,   0, 128); stroke-width:0.50; stroke-linecap:butt; stroke-linejoin:miter\">\n",
       "</g>\n",
       "<g style=\"fill:none; color:red; stroke:currentColor; stroke-width:0.50; stroke-linecap:butt; stroke-linejoin:miter\">\n",
       "\t<path d=\"M121.8,177.5 L121.8,29.0 L140.5,29.0 L140.5,177.5 L121.8,177.5  h0.01\" stroke=\"rgb(  0,   0,   0)\"/></g>\n",
       "\t</g>\n",
       "\t<g id=\"gnuplot_plot_11a\"><title>gnuplot_plot_11a</title>\n",
       "<g style=\"fill:none; color:white; stroke:rgb(  0,   0,   0); stroke-width:1.00; stroke-linecap:butt; stroke-linejoin:miter\">\n",
       "</g>\n",
       "<g style=\"fill:none; color:#FFCC00; stroke:currentColor; stroke-width:1.00; stroke-linecap:butt; stroke-linejoin:miter\">\n",
       "\t<g style=\"stroke:none; shape-rendering:crispEdges\">\n",
       "\t\t<polygon fill=\"rgb(  0,   0, 128)\" points=\"140.5,177.5 140.5,177.5 140.5,49.2 159.1,49.2 159.1,177.5 \"/>\n",
       "\t</g>\n",
       "\t<path d=\"M140.5,177.5 L140.5,49.2 L159.1,49.2 L159.1,177.5  h0.01\" stroke=\"rgb(  0,   0, 128)\"/></g>\n",
       "\t</g>\n",
       "\t<g id=\"gnuplot_plot_12a\"><title>gnuplot_plot_12a</title>\n",
       "<g style=\"fill:none; color:white; stroke:rgb(  0,   0, 128); stroke-width:0.50; stroke-linecap:butt; stroke-linejoin:miter\">\n",
       "</g>\n",
       "<g style=\"fill:none; color:red; stroke:currentColor; stroke-width:0.50; stroke-linecap:butt; stroke-linejoin:miter\">\n",
       "\t<path d=\"M140.5,177.5 L140.5,49.2 L159.1,49.2 L159.1,177.5 L140.5,177.5  h0.01\" stroke=\"rgb(  0,   0,   0)\"/></g>\n",
       "\t</g>\n",
       "\t<g id=\"gnuplot_plot_13a\"><title>gnuplot_plot_13a</title>\n",
       "<g style=\"fill:none; color:white; stroke:rgb(  0,   0,   0); stroke-width:1.00; stroke-linecap:butt; stroke-linejoin:miter\">\n",
       "</g>\n",
       "<g style=\"fill:none; color:#ABD600; stroke:currentColor; stroke-width:1.00; stroke-linecap:butt; stroke-linejoin:miter\">\n",
       "\t<g style=\"stroke:none; shape-rendering:crispEdges\">\n",
       "\t\t<polygon fill=\"rgb(  0,   0, 128)\" points=\"159.1,177.5 159.1,177.5 159.1,120.4 177.8,120.4 177.8,177.5 \"/>\n",
       "\t</g>\n",
       "\t<path d=\"M159.1,177.5 L159.1,120.4 L177.8,120.4 L177.8,177.5  h0.01\" stroke=\"rgb(  0,   0, 128)\" stroke-dasharray=\" 2,4\"/></g>\n",
       "\t</g>\n",
       "\t<g id=\"gnuplot_plot_14a\"><title>gnuplot_plot_14a</title>\n",
       "<g style=\"fill:none; color:white; stroke:rgb(  0,   0, 128); stroke-width:0.50; stroke-linecap:butt; stroke-linejoin:miter\">\n",
       "</g>\n",
       "<g style=\"fill:none; color:red; stroke:currentColor; stroke-width:0.50; stroke-linecap:butt; stroke-linejoin:miter\">\n",
       "\t<path d=\"M159.1,177.5 L159.1,120.4 L177.8,120.4 L177.8,177.5 L159.1,177.5  h0.01\" stroke=\"rgb(  0,   0,   0)\"/></g>\n",
       "\t</g>\n",
       "\t<g id=\"gnuplot_plot_15a\"><title>gnuplot_plot_15a</title>\n",
       "<g style=\"fill:none; color:white; stroke:rgb(  0,   0,   0); stroke-width:1.00; stroke-linecap:butt; stroke-linejoin:miter\">\n",
       "</g>\n",
       "<g style=\"fill:none; color:green; stroke:currentColor; stroke-width:1.00; stroke-linecap:butt; stroke-linejoin:miter\">\n",
       "\t<g style=\"stroke:none; shape-rendering:crispEdges\">\n",
       "\t\t<polygon fill=\"rgb(  0,   0, 128)\" points=\"177.8,177.5 177.8,177.5 177.8,162.1 196.5,162.1 196.5,177.5 \"/>\n",
       "\t</g>\n",
       "\t<path d=\"M177.8,177.5 L177.8,162.1 L196.5,162.1 L196.5,177.5  h0.01\" stroke=\"rgb(  0,   0, 128)\" stroke-dasharray=\" 9,4,1,4,1,4\"/></g>\n",
       "\t</g>\n",
       "\t<g id=\"gnuplot_plot_16a\"><title>gnuplot_plot_16a</title>\n",
       "<g style=\"fill:none; color:white; stroke:rgb(  0,   0, 128); stroke-width:0.50; stroke-linecap:butt; stroke-linejoin:miter\">\n",
       "</g>\n",
       "<g style=\"fill:none; color:red; stroke:currentColor; stroke-width:0.50; stroke-linecap:butt; stroke-linejoin:miter\">\n",
       "\t<path d=\"M177.8,177.5 L177.8,162.1 L196.5,162.1 L196.5,177.5 L177.8,177.5  h0.01\" stroke=\"rgb(  0,   0,   0)\"/></g>\n",
       "\t</g>\n",
       "\t<g id=\"gnuplot_plot_17a\"><title>gnuplot_plot_17a</title>\n",
       "<g style=\"fill:none; color:white; stroke:rgb(  0,   0,   0); stroke-width:1.00; stroke-linecap:butt; stroke-linejoin:miter\">\n",
       "</g>\n",
       "<g style=\"fill:none; color:cyan; stroke:currentColor; stroke-width:1.00; stroke-linecap:butt; stroke-linejoin:miter\">\n",
       "\t<g style=\"stroke:none; shape-rendering:crispEdges\">\n",
       "\t\t<polygon fill=\"rgb(  0,   0, 128)\" points=\"196.5,177.5 196.5,177.5 196.5,175.8 215.2,175.8 215.2,177.5 \"/>\n",
       "\t</g>\n",
       "\t<path d=\"M196.5,177.5 L196.5,175.8 L215.2,175.8 L215.2,177.5  h0.01\" stroke=\"rgb(  0,   0, 128)\" stroke-dasharray=\" 5,8\"/></g>\n",
       "\t</g>\n",
       "\t<g id=\"gnuplot_plot_18a\"><title>gnuplot_plot_18a</title>\n",
       "<g style=\"fill:none; color:white; stroke:rgb(  0,   0, 128); stroke-width:0.50; stroke-linecap:butt; stroke-linejoin:miter\">\n",
       "</g>\n",
       "<g style=\"fill:none; color:red; stroke:currentColor; stroke-width:0.50; stroke-linecap:butt; stroke-linejoin:miter\">\n",
       "\t<path d=\"M196.5,177.5 L196.5,175.8 L215.2,175.8 L215.2,177.5 L196.5,177.5  h0.01\" stroke=\"rgb(  0,   0,   0)\"/></g>\n",
       "\t</g>\n",
       "\t<g id=\"gnuplot_plot_19a\"><title>gnuplot_plot_19a</title>\n",
       "<g style=\"fill:none; color:white; stroke:rgb(  0,   0,   0); stroke-width:1.00; stroke-linecap:butt; stroke-linejoin:miter\">\n",
       "</g>\n",
       "<g style=\"fill:none; color:#000094; stroke:currentColor; stroke-width:1.00; stroke-linecap:butt; stroke-linejoin:miter\">\n",
       "\t<g style=\"stroke:none; shape-rendering:crispEdges\">\n",
       "\t\t<polygon fill=\"rgb(  0,   0, 128)\" points=\"215.2,177.5 215.2,177.5 215.2,177.5 233.9,177.5 233.9,177.5 \"/>\n",
       "\t</g>\n",
       "\t<path d=\"M215.2,177.5 L233.9,177.5  h0.01\" stroke=\"rgb(  0,   0, 128)\" stroke-dasharray=\" 8,4,2,4\"/></g>\n",
       "\t</g>\n",
       "\t<g id=\"gnuplot_plot_20a\"><title>gnuplot_plot_20a</title>\n",
       "<g style=\"fill:none; color:white; stroke:rgb(  0,   0, 128); stroke-width:0.50; stroke-linecap:butt; stroke-linejoin:miter\">\n",
       "</g>\n",
       "<g style=\"fill:none; color:red; stroke:currentColor; stroke-width:0.50; stroke-linecap:butt; stroke-linejoin:miter\">\n",
       "\t<path d=\"M215.2,177.5 L233.9,177.5 L215.2,177.5  h0.01\" stroke=\"rgb(  0,   0,   0)\"/></g>\n",
       "\t</g>\n",
       "\t<g id=\"gnuplot_plot_21a\"><title>gnuplot_plot_21a</title>\n",
       "<g style=\"fill:none; color:red; stroke:currentColor; stroke-width:0.50; stroke-linecap:butt; stroke-linejoin:miter\">\n",
       "\t<path d=\"M35.7,177.5 L252.2,177.5  h0.01\" stroke=\"rgb(  0,   0,   0)\"/></g>\n",
       "\t</g>\n",
       "<g style=\"fill:none; color:black; stroke:currentColor; stroke-width:0.50; stroke-linecap:butt; stroke-linejoin:miter\">\n",
       "</g>\n",
       "</g>\n",
       "</svg>"
      ],
      "text/plain": [
       "<IPython.core.display.SVG object>"
      ]
     },
     "metadata": {},
     "output_type": "display_data"
    },
    {
     "data": {
      "text/plain": [
       "\n"
      ]
     },
     "execution_count": 16,
     "metadata": {},
     "output_type": "execute_result"
    }
   ],
   "source": [
    "hist(w)"
   ]
  },
  {
   "cell_type": "code",
   "execution_count": 17,
   "metadata": {
    "collapsed": false
   },
   "outputs": [
    {
     "data": {
      "image/svg+xml": [
       "<svg height=\"420px\" viewBox=\"0 0 268 201\" width=\"560px\" xmlns=\"http://www.w3.org/2000/svg\" xmlns:xlink=\"http://www.w3.org/1999/xlink\">\n",
       "\n",
       "<title>Gnuplot</title>\n",
       "<desc>Produced by GNUPLOT 4.6 patchlevel 4 </desc>\n",
       "\n",
       "<g id=\"gnuplot_canvas\">\n",
       "\n",
       "<rect fill=\"none\" height=\"201\" width=\"268\" x=\"0\" y=\"0\"/>\n",
       "<defs>\n",
       "\n",
       "\t<circle id=\"gpDot\" r=\"0.5\" stroke-width=\"0.5\"/>\n",
       "\t<path d=\"M-1,0 h2 M0,-1 v2\" id=\"gpPt0\" stroke=\"currentColor\" stroke-width=\"0.333\"/>\n",
       "\t<path d=\"M-1,-1 L1,1 M1,-1 L-1,1\" id=\"gpPt1\" stroke=\"currentColor\" stroke-width=\"0.333\"/>\n",
       "\t<path d=\"M-1,0 L1,0 M0,-1 L0,1 M-1,-1 L1,1 M-1,1 L1,-1\" id=\"gpPt2\" stroke=\"currentColor\" stroke-width=\"0.333\"/>\n",
       "\t<rect height=\"2\" id=\"gpPt3\" stroke=\"currentColor\" stroke-width=\"0.333\" width=\"2\" x=\"-1\" y=\"-1\"/>\n",
       "\t<rect fill=\"currentColor\" height=\"2\" id=\"gpPt4\" stroke=\"currentColor\" stroke-width=\"0.333\" width=\"2\" x=\"-1\" y=\"-1\"/>\n",
       "\t<circle cx=\"0\" cy=\"0\" id=\"gpPt5\" r=\"1\" stroke=\"currentColor\" stroke-width=\"0.333\"/>\n",
       "\t<use fill=\"currentColor\" id=\"gpPt6\" stroke=\"none\" xlink:href=\"#gpPt5\"/>\n",
       "\t<path d=\"M0,-1.33 L-1.33,0.67 L1.33,0.67 z\" id=\"gpPt7\" stroke=\"currentColor\" stroke-width=\"0.333\"/>\n",
       "\t<use fill=\"currentColor\" id=\"gpPt8\" stroke=\"none\" xlink:href=\"#gpPt7\"/>\n",
       "\t<use id=\"gpPt9\" stroke=\"currentColor\" transform=\"rotate(180)\" xlink:href=\"#gpPt7\"/>\n",
       "\t<use fill=\"currentColor\" id=\"gpPt10\" stroke=\"none\" xlink:href=\"#gpPt9\"/>\n",
       "\t<use id=\"gpPt11\" stroke=\"currentColor\" transform=\"rotate(45)\" xlink:href=\"#gpPt3\"/>\n",
       "\t<use fill=\"currentColor\" id=\"gpPt12\" stroke=\"none\" xlink:href=\"#gpPt11\"/>\n",
       "</defs>\n",
       "<g style=\"fill:none; color:white; stroke:currentColor; stroke-width:1.00; stroke-linecap:butt; stroke-linejoin:miter\">\n",
       "</g>\n",
       "<g style=\"fill:none; color:black; stroke:currentColor; stroke-width:1.00; stroke-linecap:butt; stroke-linejoin:miter\">\n",
       "\t<g style=\"stroke:none; shape-rendering:crispEdges\">\n",
       "\t\t<polygon fill=\"rgb(255, 255, 255)\" points=\"30.2,177.5 252.1,177.5 252.1,11.2 30.2,11.2 \"/>\n",
       "\t</g>\n",
       "\t<path d=\"M30.2,177.5 L30.2,11.2 L252.1,11.2 L252.1,177.5 L30.2,177.5  h0.01\" stroke=\"black\"/></g>\n",
       "<g style=\"fill:none; color:black; stroke:black; stroke-width:0.50; stroke-linecap:butt; stroke-linejoin:miter\">\n",
       "\t<path d=\"M30.2,177.5 L38.5,177.5 M252.2,177.5 L243.9,177.5  h0.01\" stroke=\"black\"/>\t<g style=\"stroke:none; fill:rgb(0,0,0); font-family:{}; font-size:10.00pt; text-anchor:end\" transform=\"translate(24.7,181.2)\">\n",
       "\t\t<text><tspan>0</tspan></text>\n",
       "\t</g>\n",
       "\t<path d=\"M30.2,156.7 L38.5,156.7 M252.2,156.7 L243.9,156.7  h0.01\" stroke=\"black\"/>\t<g style=\"stroke:none; fill:rgb(0,0,0); font-family:{}; font-size:10.00pt; text-anchor:end\" transform=\"translate(24.7,160.4)\">\n",
       "\t\t<text><tspan>100</tspan></text>\n",
       "\t</g>\n",
       "\t<path d=\"M30.2,135.9 L38.5,135.9 M252.2,135.9 L243.9,135.9  h0.01\" stroke=\"black\"/>\t<g style=\"stroke:none; fill:rgb(0,0,0); font-family:{}; font-size:10.00pt; text-anchor:end\" transform=\"translate(24.7,139.6)\">\n",
       "\t\t<text><tspan>200</tspan></text>\n",
       "\t</g>\n",
       "\t<path d=\"M30.2,115.1 L38.5,115.1 M252.2,115.1 L243.9,115.1  h0.01\" stroke=\"black\"/>\t<g style=\"stroke:none; fill:rgb(0,0,0); font-family:{}; font-size:10.00pt; text-anchor:end\" transform=\"translate(24.7,118.8)\">\n",
       "\t\t<text><tspan>300</tspan></text>\n",
       "\t</g>\n",
       "\t<path d=\"M30.2,94.3 L38.5,94.3 M252.2,94.3 L243.9,94.3  h0.01\" stroke=\"black\"/>\t<g style=\"stroke:none; fill:rgb(0,0,0); font-family:{}; font-size:10.00pt; text-anchor:end\" transform=\"translate(24.7,98.0)\">\n",
       "\t\t<text><tspan>400</tspan></text>\n",
       "\t</g>\n",
       "\t<path d=\"M30.2,73.5 L38.5,73.5 M252.2,73.5 L243.9,73.5  h0.01\" stroke=\"black\"/>\t<g style=\"stroke:none; fill:rgb(0,0,0); font-family:{}; font-size:10.00pt; text-anchor:end\" transform=\"translate(24.7,77.2)\">\n",
       "\t\t<text><tspan>500</tspan></text>\n",
       "\t</g>\n",
       "\t<path d=\"M30.2,52.7 L38.5,52.7 M252.2,52.7 L243.9,52.7  h0.01\" stroke=\"black\"/>\t<g style=\"stroke:none; fill:rgb(0,0,0); font-family:{}; font-size:10.00pt; text-anchor:end\" transform=\"translate(24.7,56.4)\">\n",
       "\t\t<text><tspan>600</tspan></text>\n",
       "\t</g>\n",
       "\t<path d=\"M30.2,31.9 L38.5,31.9 M252.2,31.9 L243.9,31.9  h0.01\" stroke=\"black\"/>\t<g style=\"stroke:none; fill:rgb(0,0,0); font-family:{}; font-size:10.00pt; text-anchor:end\" transform=\"translate(24.7,35.6)\">\n",
       "\t\t<text><tspan>700</tspan></text>\n",
       "\t</g>\n",
       "\t<path d=\"M30.2,11.1 L38.5,11.1 M252.2,11.1 L243.9,11.1  h0.01\" stroke=\"black\"/>\t<g style=\"stroke:none; fill:rgb(0,0,0); font-family:{}; font-size:10.00pt; text-anchor:end\" transform=\"translate(24.7,14.8)\">\n",
       "\t\t<text><tspan>800</tspan></text>\n",
       "\t</g>\n",
       "\t<path d=\"M30.2,177.5 L30.2,169.2 M30.2,11.1 L30.2,19.4  h0.01\" stroke=\"black\"/>\t<g style=\"stroke:none; fill:rgb(0,0,0); font-family:{}; font-size:10.00pt; text-anchor:middle\" transform=\"translate(30.2,193.2)\">\n",
       "\t\t<text><tspan>-20</tspan></text>\n",
       "\t</g>\n",
       "\t<path d=\"M67.2,177.5 L67.2,169.2 M67.2,11.1 L67.2,19.4  h0.01\" stroke=\"black\"/>\t<g style=\"stroke:none; fill:rgb(0,0,0); font-family:{}; font-size:10.00pt; text-anchor:middle\" transform=\"translate(67.2,193.2)\">\n",
       "\t\t<text><tspan>-15</tspan></text>\n",
       "\t</g>\n",
       "\t<path d=\"M104.2,177.5 L104.2,169.2 M104.2,11.1 L104.2,19.4  h0.01\" stroke=\"black\"/>\t<g style=\"stroke:none; fill:rgb(0,0,0); font-family:{}; font-size:10.00pt; text-anchor:middle\" transform=\"translate(104.2,193.2)\">\n",
       "\t\t<text><tspan>-10</tspan></text>\n",
       "\t</g>\n",
       "\t<path d=\"M141.2,177.5 L141.2,169.2 M141.2,11.1 L141.2,19.4  h0.01\" stroke=\"black\"/>\t<g style=\"stroke:none; fill:rgb(0,0,0); font-family:{}; font-size:10.00pt; text-anchor:middle\" transform=\"translate(141.2,193.2)\">\n",
       "\t\t<text><tspan>-5</tspan></text>\n",
       "\t</g>\n",
       "\t<path d=\"M178.2,177.5 L178.2,169.2 M178.2,11.1 L178.2,19.4  h0.01\" stroke=\"black\"/>\t<g style=\"stroke:none; fill:rgb(0,0,0); font-family:{}; font-size:10.00pt; text-anchor:middle\" transform=\"translate(178.2,193.2)\">\n",
       "\t\t<text><tspan>0</tspan></text>\n",
       "\t</g>\n",
       "\t<path d=\"M215.2,177.5 L215.2,169.2 M215.2,11.1 L215.2,19.4  h0.01\" stroke=\"black\"/>\t<g style=\"stroke:none; fill:rgb(0,0,0); font-family:{}; font-size:10.00pt; text-anchor:middle\" transform=\"translate(215.2,193.2)\">\n",
       "\t\t<text><tspan>5</tspan></text>\n",
       "\t</g>\n",
       "\t<path d=\"M252.2,177.5 L252.2,169.2 M252.2,11.1 L252.2,19.4  h0.01\" stroke=\"black\"/>\t<g style=\"stroke:none; fill:rgb(0,0,0); font-family:{}; font-size:10.00pt; text-anchor:middle\" transform=\"translate(252.2,193.2)\">\n",
       "\t\t<text><tspan>10</tspan></text>\n",
       "\t</g>\n",
       "\t<path d=\"M30.2,11.1 L30.2,177.5 L252.2,177.5 L252.2,11.1 L30.2,11.1 Z  h0.01\" stroke=\"black\"/></g>\n",
       "\t<g id=\"gnuplot_plot_1a\"><title>gnuplot_plot_1a</title>\n",
       "<g style=\"fill:none; color:white; stroke:black; stroke-width:1.00; stroke-linecap:butt; stroke-linejoin:miter\">\n",
       "</g>\n",
       "<g style=\"fill:none; color:red; stroke:currentColor; stroke-width:1.00; stroke-linecap:butt; stroke-linejoin:miter\">\n",
       "\t<g style=\"stroke:none; shape-rendering:crispEdges\">\n",
       "\t\t<polygon fill=\"rgb(  0,   0, 128)\" points=\"41.8,177.5 41.8,177.5 41.8,177.3 45.6,177.3 45.6,177.5 \"/>\n",
       "\t</g>\n",
       "\t<path d=\"M41.8,177.5 L41.8,177.3 L45.6,177.3 L45.6,177.5  h0.01\" stroke=\"rgb(  0,   0, 128)\"/></g>\n",
       "\t</g>\n",
       "\t<g id=\"gnuplot_plot_2a\"><title>gnuplot_plot_2a</title>\n",
       "<g style=\"fill:none; color:white; stroke:rgb(  0,   0, 128); stroke-width:0.50; stroke-linecap:butt; stroke-linejoin:miter\">\n",
       "</g>\n",
       "<g style=\"fill:none; color:red; stroke:currentColor; stroke-width:0.50; stroke-linecap:butt; stroke-linejoin:miter\">\n",
       "\t<path d=\"M41.8,177.5 L41.8,177.3 L45.6,177.3 L45.6,177.5 L41.8,177.5  h0.01\" stroke=\"rgb(  0,   0,   0)\"/></g>\n",
       "\t</g>\n",
       "\t<g id=\"gnuplot_plot_3a\"><title>gnuplot_plot_3a</title>\n",
       "<g style=\"fill:none; color:white; stroke:rgb(  0,   0,   0); stroke-width:1.00; stroke-linecap:butt; stroke-linejoin:miter\">\n",
       "</g>\n",
       "<g style=\"fill:none; color:blue; stroke:currentColor; stroke-width:1.00; stroke-linecap:butt; stroke-linejoin:miter\">\n",
       "\t<g style=\"stroke:none; shape-rendering:crispEdges\">\n",
       "\t\t<polygon fill=\"rgb(  0,   0, 128)\" points=\"45.6,177.5 45.6,177.5 45.6,177.5 49.5,177.5 49.5,177.5 \"/>\n",
       "\t</g>\n",
       "\t<path d=\"M45.6,177.5 L49.5,177.5  h0.01\" stroke=\"rgb(  0,   0, 128)\" stroke-dasharray=\" 2,4\"/></g>\n",
       "\t</g>\n",
       "\t<g id=\"gnuplot_plot_4a\"><title>gnuplot_plot_4a</title>\n",
       "<g style=\"fill:none; color:white; stroke:rgb(  0,   0, 128); stroke-width:0.50; stroke-linecap:butt; stroke-linejoin:miter\">\n",
       "</g>\n",
       "<g style=\"fill:none; color:red; stroke:currentColor; stroke-width:0.50; stroke-linecap:butt; stroke-linejoin:miter\">\n",
       "\t<path d=\"M45.6,177.5 L49.5,177.5 L45.6,177.5  h0.01\" stroke=\"rgb(  0,   0,   0)\"/></g>\n",
       "\t</g>\n",
       "\t<g id=\"gnuplot_plot_5a\"><title>gnuplot_plot_5a</title>\n",
       "<g style=\"fill:none; color:white; stroke:rgb(  0,   0,   0); stroke-width:1.00; stroke-linecap:butt; stroke-linejoin:miter\">\n",
       "</g>\n",
       "<g style=\"fill:none; color:#157545; stroke:currentColor; stroke-width:1.00; stroke-linecap:butt; stroke-linejoin:miter\">\n",
       "\t<g style=\"stroke:none; shape-rendering:crispEdges\">\n",
       "\t\t<polygon fill=\"rgb(  0,   0, 128)\" points=\"49.5,177.5 49.5,177.5 49.5,177.1 53.3,177.1 53.3,177.5 \"/>\n",
       "\t</g>\n",
       "\t<path d=\"M49.5,177.5 L49.5,177.1 L53.3,177.1 L53.3,177.5  h0.01\" stroke=\"rgb(  0,   0, 128)\" stroke-dasharray=\" 9,4,1,4,1,4\"/></g>\n",
       "\t</g>\n",
       "\t<g id=\"gnuplot_plot_6a\"><title>gnuplot_plot_6a</title>\n",
       "<g style=\"fill:none; color:white; stroke:rgb(  0,   0, 128); stroke-width:0.50; stroke-linecap:butt; stroke-linejoin:miter\">\n",
       "</g>\n",
       "<g style=\"fill:none; color:red; stroke:currentColor; stroke-width:0.50; stroke-linecap:butt; stroke-linejoin:miter\">\n",
       "\t<path d=\"M49.5,177.5 L49.5,177.1 L53.3,177.1 L53.3,177.5 L49.5,177.5  h0.01\" stroke=\"rgb(  0,   0,   0)\"/></g>\n",
       "\t</g>\n",
       "\t<g id=\"gnuplot_plot_7a\"><title>gnuplot_plot_7a</title>\n",
       "<g style=\"fill:none; color:white; stroke:rgb(  0,   0,   0); stroke-width:1.00; stroke-linecap:butt; stroke-linejoin:miter\">\n",
       "</g>\n",
       "<g style=\"fill:none; color:#FF9900; stroke:currentColor; stroke-width:1.00; stroke-linecap:butt; stroke-linejoin:miter\">\n",
       "\t<g style=\"stroke:none; shape-rendering:crispEdges\">\n",
       "\t\t<polygon fill=\"rgb(  0,   0, 128)\" points=\"53.3,177.5 53.3,177.5 53.3,176.9 57.1,176.9 57.1,177.5 \"/>\n",
       "\t</g>\n",
       "\t<path d=\"M53.3,177.5 L53.3,176.9 L57.1,176.9 L57.1,177.5  h0.01\" stroke=\"rgb(  0,   0, 128)\" stroke-dasharray=\" 5,8\"/></g>\n",
       "\t</g>\n",
       "\t<g id=\"gnuplot_plot_8a\"><title>gnuplot_plot_8a</title>\n",
       "<g style=\"fill:none; color:white; stroke:rgb(  0,   0, 128); stroke-width:0.50; stroke-linecap:butt; stroke-linejoin:miter\">\n",
       "</g>\n",
       "<g style=\"fill:none; color:red; stroke:currentColor; stroke-width:0.50; stroke-linecap:butt; stroke-linejoin:miter\">\n",
       "\t<path d=\"M53.3,177.5 L53.3,176.9 L57.1,176.9 L57.1,177.5 L53.3,177.5  h0.01\" stroke=\"rgb(  0,   0,   0)\"/></g>\n",
       "\t</g>\n",
       "\t<g id=\"gnuplot_plot_9a\"><title>gnuplot_plot_9a</title>\n",
       "<g style=\"fill:none; color:white; stroke:rgb(  0,   0,   0); stroke-width:1.00; stroke-linecap:butt; stroke-linejoin:miter\">\n",
       "</g>\n",
       "<g style=\"fill:none; color:#D6D645; stroke:currentColor; stroke-width:1.00; stroke-linecap:butt; stroke-linejoin:miter\">\n",
       "\t<g style=\"stroke:none; shape-rendering:crispEdges\">\n",
       "\t\t<polygon fill=\"rgb(  0,   0, 128)\" points=\"57.1,177.5 57.1,177.5 57.1,176.7 61.0,176.7 61.0,177.5 \"/>\n",
       "\t</g>\n",
       "\t<path d=\"M57.1,177.5 L57.1,176.7 L61.0,176.7 L61.0,177.5  h0.01\" stroke=\"rgb(  0,   0, 128)\" stroke-dasharray=\" 8,4,2,4\"/></g>\n",
       "\t</g>\n",
       "\t<g id=\"gnuplot_plot_10a\"><title>gnuplot_plot_10a</title>\n",
       "<g style=\"fill:none; color:white; stroke:rgb(  0,   0, 128); stroke-width:0.50; stroke-linecap:butt; stroke-linejoin:miter\">\n",
       "</g>\n",
       "<g style=\"fill:none; color:red; stroke:currentColor; stroke-width:0.50; stroke-linecap:butt; stroke-linejoin:miter\">\n",
       "\t<path d=\"M57.1,177.5 L57.1,176.7 L61.0,176.7 L61.0,177.5 L57.1,177.5  h0.01\" stroke=\"rgb(  0,   0,   0)\"/></g>\n",
       "\t</g>\n",
       "\t<g id=\"gnuplot_plot_11a\"><title>gnuplot_plot_11a</title>\n",
       "<g style=\"fill:none; color:white; stroke:rgb(  0,   0,   0); stroke-width:1.00; stroke-linecap:butt; stroke-linejoin:miter\">\n",
       "</g>\n",
       "<g style=\"fill:none; color:#FFCC00; stroke:currentColor; stroke-width:1.00; stroke-linecap:butt; stroke-linejoin:miter\">\n",
       "\t<g style=\"stroke:none; shape-rendering:crispEdges\">\n",
       "\t\t<polygon fill=\"rgb(  0,   0, 128)\" points=\"61.0,177.5 61.0,177.5 61.0,176.0 64.8,176.0 64.8,177.5 \"/>\n",
       "\t</g>\n",
       "\t<path d=\"M61.0,177.5 L61.0,176.0 L64.8,176.0 L64.8,177.5  h0.01\" stroke=\"rgb(  0,   0, 128)\"/></g>\n",
       "\t</g>\n",
       "\t<g id=\"gnuplot_plot_12a\"><title>gnuplot_plot_12a</title>\n",
       "<g style=\"fill:none; color:white; stroke:rgb(  0,   0, 128); stroke-width:0.50; stroke-linecap:butt; stroke-linejoin:miter\">\n",
       "</g>\n",
       "<g style=\"fill:none; color:red; stroke:currentColor; stroke-width:0.50; stroke-linecap:butt; stroke-linejoin:miter\">\n",
       "\t<path d=\"M61.0,177.5 L61.0,176.0 L64.8,176.0 L64.8,177.5 L61.0,177.5  h0.01\" stroke=\"rgb(  0,   0,   0)\"/></g>\n",
       "\t</g>\n",
       "\t<g id=\"gnuplot_plot_13a\"><title>gnuplot_plot_13a</title>\n",
       "<g style=\"fill:none; color:white; stroke:rgb(  0,   0,   0); stroke-width:1.00; stroke-linecap:butt; stroke-linejoin:miter\">\n",
       "</g>\n",
       "<g style=\"fill:none; color:#ABD600; stroke:currentColor; stroke-width:1.00; stroke-linecap:butt; stroke-linejoin:miter\">\n",
       "\t<g style=\"stroke:none; shape-rendering:crispEdges\">\n",
       "\t\t<polygon fill=\"rgb(  0,   0, 128)\" points=\"64.8,177.5 64.8,177.5 64.8,175.0 68.6,175.0 68.6,177.5 \"/>\n",
       "\t</g>\n",
       "\t<path d=\"M64.8,177.5 L64.8,175.0 L68.6,175.0 L68.6,177.5  h0.01\" stroke=\"rgb(  0,   0, 128)\" stroke-dasharray=\" 2,4\"/></g>\n",
       "\t</g>\n",
       "\t<g id=\"gnuplot_plot_14a\"><title>gnuplot_plot_14a</title>\n",
       "<g style=\"fill:none; color:white; stroke:rgb(  0,   0, 128); stroke-width:0.50; stroke-linecap:butt; stroke-linejoin:miter\">\n",
       "</g>\n",
       "<g style=\"fill:none; color:red; stroke:currentColor; stroke-width:0.50; stroke-linecap:butt; stroke-linejoin:miter\">\n",
       "\t<path d=\"M64.8,177.5 L64.8,175.0 L68.6,175.0 L68.6,177.5 L64.8,177.5  h0.01\" stroke=\"rgb(  0,   0,   0)\"/></g>\n",
       "\t</g>\n",
       "\t<g id=\"gnuplot_plot_15a\"><title>gnuplot_plot_15a</title>\n",
       "<g style=\"fill:none; color:white; stroke:rgb(  0,   0,   0); stroke-width:1.00; stroke-linecap:butt; stroke-linejoin:miter\">\n",
       "</g>\n",
       "<g style=\"fill:none; color:green; stroke:currentColor; stroke-width:1.00; stroke-linecap:butt; stroke-linejoin:miter\">\n",
       "\t<g style=\"stroke:none; shape-rendering:crispEdges\">\n",
       "\t\t<polygon fill=\"rgb(  0,   0, 128)\" points=\"68.6,177.5 68.6,177.5 68.6,173.3 72.5,173.3 72.5,177.5 \"/>\n",
       "\t</g>\n",
       "\t<path d=\"M68.6,177.5 L68.6,173.3 L72.5,173.3 L72.5,177.5  h0.01\" stroke=\"rgb(  0,   0, 128)\" stroke-dasharray=\" 9,4,1,4,1,4\"/></g>\n",
       "\t</g>\n",
       "\t<g id=\"gnuplot_plot_16a\"><title>gnuplot_plot_16a</title>\n",
       "<g style=\"fill:none; color:white; stroke:rgb(  0,   0, 128); stroke-width:0.50; stroke-linecap:butt; stroke-linejoin:miter\">\n",
       "</g>\n",
       "<g style=\"fill:none; color:red; stroke:currentColor; stroke-width:0.50; stroke-linecap:butt; stroke-linejoin:miter\">\n",
       "\t<path d=\"M68.6,177.5 L68.6,173.3 L72.5,173.3 L72.5,177.5 L68.6,177.5  h0.01\" stroke=\"rgb(  0,   0,   0)\"/></g>\n",
       "\t</g>\n",
       "\t<g id=\"gnuplot_plot_17a\"><title>gnuplot_plot_17a</title>\n",
       "<g style=\"fill:none; color:white; stroke:rgb(  0,   0,   0); stroke-width:1.00; stroke-linecap:butt; stroke-linejoin:miter\">\n",
       "</g>\n",
       "<g style=\"fill:none; color:cyan; stroke:currentColor; stroke-width:1.00; stroke-linecap:butt; stroke-linejoin:miter\">\n",
       "\t<g style=\"stroke:none; shape-rendering:crispEdges\">\n",
       "\t\t<polygon fill=\"rgb(  0,   0, 128)\" points=\"72.5,177.5 72.5,177.5 72.5,173.5 76.3,173.5 76.3,177.5 \"/>\n",
       "\t</g>\n",
       "\t<path d=\"M72.5,177.5 L72.5,173.5 L76.3,173.5 L76.3,177.5  h0.01\" stroke=\"rgb(  0,   0, 128)\" stroke-dasharray=\" 5,8\"/></g>\n",
       "\t</g>\n",
       "\t<g id=\"gnuplot_plot_18a\"><title>gnuplot_plot_18a</title>\n",
       "<g style=\"fill:none; color:white; stroke:rgb(  0,   0, 128); stroke-width:0.50; stroke-linecap:butt; stroke-linejoin:miter\">\n",
       "</g>\n",
       "<g style=\"fill:none; color:red; stroke:currentColor; stroke-width:0.50; stroke-linecap:butt; stroke-linejoin:miter\">\n",
       "\t<path d=\"M72.5,177.5 L72.5,173.5 L76.3,173.5 L76.3,177.5 L72.5,177.5  h0.01\" stroke=\"rgb(  0,   0,   0)\"/></g>\n",
       "\t</g>\n",
       "\t<g id=\"gnuplot_plot_19a\"><title>gnuplot_plot_19a</title>\n",
       "<g style=\"fill:none; color:white; stroke:rgb(  0,   0,   0); stroke-width:1.00; stroke-linecap:butt; stroke-linejoin:miter\">\n",
       "</g>\n",
       "<g style=\"fill:none; color:#000094; stroke:currentColor; stroke-width:1.00; stroke-linecap:butt; stroke-linejoin:miter\">\n",
       "\t<g style=\"stroke:none; shape-rendering:crispEdges\">\n",
       "\t\t<polygon fill=\"rgb(  0,   0, 128)\" points=\"76.3,177.5 76.3,177.5 76.3,169.4 80.1,169.4 80.1,177.5 \"/>\n",
       "\t</g>\n",
       "\t<path d=\"M76.3,177.5 L76.3,169.4 L80.1,169.4 L80.1,177.5  h0.01\" stroke=\"rgb(  0,   0, 128)\" stroke-dasharray=\" 8,4,2,4\"/></g>\n",
       "\t</g>\n",
       "\t<g id=\"gnuplot_plot_20a\"><title>gnuplot_plot_20a</title>\n",
       "<g style=\"fill:none; color:white; stroke:rgb(  0,   0, 128); stroke-width:0.50; stroke-linecap:butt; stroke-linejoin:miter\">\n",
       "</g>\n",
       "<g style=\"fill:none; color:red; stroke:currentColor; stroke-width:0.50; stroke-linecap:butt; stroke-linejoin:miter\">\n",
       "\t<path d=\"M76.3,177.5 L76.3,169.4 L80.1,169.4 L80.1,177.5 L76.3,177.5  h0.01\" stroke=\"rgb(  0,   0,   0)\"/></g>\n",
       "\t</g>\n",
       "\t<g id=\"gnuplot_plot_21a\"><title>gnuplot_plot_21a</title>\n",
       "<g style=\"fill:none; color:white; stroke:rgb(  0,   0,   0); stroke-width:1.00; stroke-linecap:butt; stroke-linejoin:miter\">\n",
       "</g>\n",
       "<g style=\"fill:none; color:#0099A1; stroke:currentColor; stroke-width:1.00; stroke-linecap:butt; stroke-linejoin:miter\">\n",
       "\t<g style=\"stroke:none; shape-rendering:crispEdges\">\n",
       "\t\t<polygon fill=\"rgb(  0,   0, 128)\" points=\"80.1,177.5 80.1,177.5 80.1,164.4 84.0,164.4 84.0,177.5 \"/>\n",
       "\t</g>\n",
       "\t<path d=\"M80.1,177.5 L80.1,164.4 L84.0,164.4 L84.0,177.5  h0.01\" stroke=\"rgb(  0,   0, 128)\"/></g>\n",
       "\t</g>\n",
       "\t<g id=\"gnuplot_plot_22a\"><title>gnuplot_plot_22a</title>\n",
       "<g style=\"fill:none; color:white; stroke:rgb(  0,   0, 128); stroke-width:0.50; stroke-linecap:butt; stroke-linejoin:miter\">\n",
       "</g>\n",
       "<g style=\"fill:none; color:red; stroke:currentColor; stroke-width:0.50; stroke-linecap:butt; stroke-linejoin:miter\">\n",
       "\t<path d=\"M80.1,177.5 L80.1,164.4 L84.0,164.4 L84.0,177.5 L80.1,177.5  h0.01\" stroke=\"rgb(  0,   0,   0)\"/></g>\n",
       "\t</g>\n",
       "\t<g id=\"gnuplot_plot_23a\"><title>gnuplot_plot_23a</title>\n",
       "<g style=\"fill:none; color:white; stroke:rgb(  0,   0,   0); stroke-width:1.00; stroke-linecap:butt; stroke-linejoin:miter\">\n",
       "</g>\n",
       "<g style=\"fill:none; color:#A391FF; stroke:currentColor; stroke-width:1.00; stroke-linecap:butt; stroke-linejoin:miter\">\n",
       "\t<g style=\"stroke:none; shape-rendering:crispEdges\">\n",
       "\t\t<polygon fill=\"rgb(  0,   0, 128)\" points=\"84.0,177.5 84.0,177.5 84.0,160.0 87.8,160.0 87.8,177.5 \"/>\n",
       "\t</g>\n",
       "\t<path d=\"M84.0,177.5 L84.0,160.0 L87.8,160.0 L87.8,177.5  h0.01\" stroke=\"rgb(  0,   0, 128)\" stroke-dasharray=\" 2,4\"/></g>\n",
       "\t</g>\n",
       "\t<g id=\"gnuplot_plot_24a\"><title>gnuplot_plot_24a</title>\n",
       "<g style=\"fill:none; color:white; stroke:rgb(  0,   0, 128); stroke-width:0.50; stroke-linecap:butt; stroke-linejoin:miter\">\n",
       "</g>\n",
       "<g style=\"fill:none; color:red; stroke:currentColor; stroke-width:0.50; stroke-linecap:butt; stroke-linejoin:miter\">\n",
       "\t<path d=\"M84.0,177.5 L84.0,160.0 L87.8,160.0 L87.8,177.5 L84.0,177.5  h0.01\" stroke=\"rgb(  0,   0,   0)\"/></g>\n",
       "\t</g>\n",
       "\t<g id=\"gnuplot_plot_25a\"><title>gnuplot_plot_25a</title>\n",
       "<g style=\"fill:none; color:white; stroke:rgb(  0,   0,   0); stroke-width:1.00; stroke-linecap:butt; stroke-linejoin:miter\">\n",
       "</g>\n",
       "<g style=\"fill:none; color:#D60078; stroke:currentColor; stroke-width:1.00; stroke-linecap:butt; stroke-linejoin:miter\">\n",
       "\t<g style=\"stroke:none; shape-rendering:crispEdges\">\n",
       "\t\t<polygon fill=\"rgb(  0,   0, 128)\" points=\"87.8,177.5 87.8,177.5 87.8,154.6 91.6,154.6 91.6,177.5 \"/>\n",
       "\t</g>\n",
       "\t<path d=\"M87.8,177.5 L87.8,154.6 L91.6,154.6 L91.6,177.5  h0.01\" stroke=\"rgb(  0,   0, 128)\" stroke-dasharray=\" 9,4,1,4,1,4\"/></g>\n",
       "\t</g>\n",
       "\t<g id=\"gnuplot_plot_26a\"><title>gnuplot_plot_26a</title>\n",
       "<g style=\"fill:none; color:white; stroke:rgb(  0,   0, 128); stroke-width:0.50; stroke-linecap:butt; stroke-linejoin:miter\">\n",
       "</g>\n",
       "<g style=\"fill:none; color:red; stroke:currentColor; stroke-width:0.50; stroke-linecap:butt; stroke-linejoin:miter\">\n",
       "\t<path d=\"M87.8,177.5 L87.8,154.6 L91.6,154.6 L91.6,177.5 L87.8,177.5  h0.01\" stroke=\"rgb(  0,   0,   0)\"/></g>\n",
       "\t</g>\n",
       "\t<g id=\"gnuplot_plot_27a\"><title>gnuplot_plot_27a</title>\n",
       "<g style=\"fill:none; color:white; stroke:rgb(  0,   0,   0); stroke-width:1.00; stroke-linecap:butt; stroke-linejoin:miter\">\n",
       "</g>\n",
       "<g style=\"fill:none; color:red; stroke:currentColor; stroke-width:1.00; stroke-linecap:butt; stroke-linejoin:miter\">\n",
       "\t<g style=\"stroke:none; shape-rendering:crispEdges\">\n",
       "\t\t<polygon fill=\"rgb(  0,   0, 128)\" points=\"91.6,177.5 91.6,177.5 91.6,150.7 95.5,150.7 95.5,177.5 \"/>\n",
       "\t</g>\n",
       "\t<path d=\"M91.6,177.5 L91.6,150.7 L95.5,150.7 L95.5,177.5  h0.01\" stroke=\"rgb(  0,   0, 128)\" stroke-dasharray=\" 5,8\"/></g>\n",
       "\t</g>\n",
       "\t<g id=\"gnuplot_plot_28a\"><title>gnuplot_plot_28a</title>\n",
       "<g style=\"fill:none; color:white; stroke:rgb(  0,   0, 128); stroke-width:0.50; stroke-linecap:butt; stroke-linejoin:miter\">\n",
       "</g>\n",
       "<g style=\"fill:none; color:red; stroke:currentColor; stroke-width:0.50; stroke-linecap:butt; stroke-linejoin:miter\">\n",
       "\t<path d=\"M91.6,177.5 L91.6,150.7 L95.5,150.7 L95.5,177.5 L91.6,177.5  h0.01\" stroke=\"rgb(  0,   0,   0)\"/></g>\n",
       "\t</g>\n",
       "\t<g id=\"gnuplot_plot_29a\"><title>gnuplot_plot_29a</title>\n",
       "<g style=\"fill:none; color:white; stroke:rgb(  0,   0,   0); stroke-width:1.00; stroke-linecap:butt; stroke-linejoin:miter\">\n",
       "</g>\n",
       "<g style=\"fill:none; color:blue; stroke:currentColor; stroke-width:1.00; stroke-linecap:butt; stroke-linejoin:miter\">\n",
       "\t<g style=\"stroke:none; shape-rendering:crispEdges\">\n",
       "\t\t<polygon fill=\"rgb(  0,   0, 128)\" points=\"95.5,177.5 95.5,177.5 95.5,133.8 99.3,133.8 99.3,177.5 \"/>\n",
       "\t</g>\n",
       "\t<path d=\"M95.5,177.5 L95.5,133.8 L99.3,133.8 L99.3,177.5  h0.01\" stroke=\"rgb(  0,   0, 128)\" stroke-dasharray=\" 8,4,2,4\"/></g>\n",
       "\t</g>\n",
       "\t<g id=\"gnuplot_plot_30a\"><title>gnuplot_plot_30a</title>\n",
       "<g style=\"fill:none; color:white; stroke:rgb(  0,   0, 128); stroke-width:0.50; stroke-linecap:butt; stroke-linejoin:miter\">\n",
       "</g>\n",
       "<g style=\"fill:none; color:red; stroke:currentColor; stroke-width:0.50; stroke-linecap:butt; stroke-linejoin:miter\">\n",
       "\t<path d=\"M95.5,177.5 L95.5,133.8 L99.3,133.8 L99.3,177.5 L95.5,177.5  h0.01\" stroke=\"rgb(  0,   0,   0)\"/></g>\n",
       "\t</g>\n",
       "\t<g id=\"gnuplot_plot_31a\"><title>gnuplot_plot_31a</title>\n",
       "<g style=\"fill:none; color:white; stroke:rgb(  0,   0,   0); stroke-width:1.00; stroke-linecap:butt; stroke-linejoin:miter\">\n",
       "</g>\n",
       "<g style=\"fill:none; color:#157545; stroke:currentColor; stroke-width:1.00; stroke-linecap:butt; stroke-linejoin:miter\">\n",
       "\t<g style=\"stroke:none; shape-rendering:crispEdges\">\n",
       "\t\t<polygon fill=\"rgb(  0,   0, 128)\" points=\"99.3,177.5 99.3,177.5 99.3,133.4 103.1,133.4 103.1,177.5 \"/>\n",
       "\t</g>\n",
       "\t<path d=\"M99.3,177.5 L99.3,133.4 L103.1,133.4 L103.1,177.5  h0.01\" stroke=\"rgb(  0,   0, 128)\"/></g>\n",
       "\t</g>\n",
       "\t<g id=\"gnuplot_plot_32a\"><title>gnuplot_plot_32a</title>\n",
       "<g style=\"fill:none; color:white; stroke:rgb(  0,   0, 128); stroke-width:0.50; stroke-linecap:butt; stroke-linejoin:miter\">\n",
       "</g>\n",
       "<g style=\"fill:none; color:red; stroke:currentColor; stroke-width:0.50; stroke-linecap:butt; stroke-linejoin:miter\">\n",
       "\t<path d=\"M99.3,177.5 L99.3,133.4 L103.1,133.4 L103.1,177.5 L99.3,177.5  h0.01\" stroke=\"rgb(  0,   0,   0)\"/></g>\n",
       "\t</g>\n",
       "\t<g id=\"gnuplot_plot_33a\"><title>gnuplot_plot_33a</title>\n",
       "<g style=\"fill:none; color:white; stroke:rgb(  0,   0,   0); stroke-width:1.00; stroke-linecap:butt; stroke-linejoin:miter\">\n",
       "</g>\n",
       "<g style=\"fill:none; color:#FF9900; stroke:currentColor; stroke-width:1.00; stroke-linecap:butt; stroke-linejoin:miter\">\n",
       "\t<g style=\"stroke:none; shape-rendering:crispEdges\">\n",
       "\t\t<polygon fill=\"rgb(  0,   0, 128)\" points=\"103.1,177.5 103.1,177.5 103.1,108.4 107.0,108.4 107.0,177.5 \"/>\n",
       "\t</g>\n",
       "\t<path d=\"M103.1,177.5 L103.1,108.4 L107.0,108.4 L107.0,177.5  h0.01\" stroke=\"rgb(  0,   0, 128)\" stroke-dasharray=\" 2,4\"/></g>\n",
       "\t</g>\n",
       "\t<g id=\"gnuplot_plot_34a\"><title>gnuplot_plot_34a</title>\n",
       "<g style=\"fill:none; color:white; stroke:rgb(  0,   0, 128); stroke-width:0.50; stroke-linecap:butt; stroke-linejoin:miter\">\n",
       "</g>\n",
       "<g style=\"fill:none; color:red; stroke:currentColor; stroke-width:0.50; stroke-linecap:butt; stroke-linejoin:miter\">\n",
       "\t<path d=\"M103.1,177.5 L103.1,108.4 L107.0,108.4 L107.0,177.5 L103.1,177.5  h0.01\" stroke=\"rgb(  0,   0,   0)\"/></g>\n",
       "\t</g>\n",
       "\t<g id=\"gnuplot_plot_35a\"><title>gnuplot_plot_35a</title>\n",
       "<g style=\"fill:none; color:white; stroke:rgb(  0,   0,   0); stroke-width:1.00; stroke-linecap:butt; stroke-linejoin:miter\">\n",
       "</g>\n",
       "<g style=\"fill:none; color:#D6D645; stroke:currentColor; stroke-width:1.00; stroke-linecap:butt; stroke-linejoin:miter\">\n",
       "\t<g style=\"stroke:none; shape-rendering:crispEdges\">\n",
       "\t\t<polygon fill=\"rgb(  0,   0, 128)\" points=\"107.0,177.5 107.0,177.5 107.0,94.5 110.8,94.5 110.8,177.5 \"/>\n",
       "\t</g>\n",
       "\t<path d=\"M107.0,177.5 L107.0,94.5 L110.8,94.5 L110.8,177.5  h0.01\" stroke=\"rgb(  0,   0, 128)\" stroke-dasharray=\" 9,4,1,4,1,4\"/></g>\n",
       "\t</g>\n",
       "\t<g id=\"gnuplot_plot_36a\"><title>gnuplot_plot_36a</title>\n",
       "<g style=\"fill:none; color:white; stroke:rgb(  0,   0, 128); stroke-width:0.50; stroke-linecap:butt; stroke-linejoin:miter\">\n",
       "</g>\n",
       "<g style=\"fill:none; color:red; stroke:currentColor; stroke-width:0.50; stroke-linecap:butt; stroke-linejoin:miter\">\n",
       "\t<path d=\"M107.0,177.5 L107.0,94.5 L110.8,94.5 L110.8,177.5 L107.0,177.5  h0.01\" stroke=\"rgb(  0,   0,   0)\"/></g>\n",
       "\t</g>\n",
       "\t<g id=\"gnuplot_plot_37a\"><title>gnuplot_plot_37a</title>\n",
       "<g style=\"fill:none; color:white; stroke:rgb(  0,   0,   0); stroke-width:1.00; stroke-linecap:butt; stroke-linejoin:miter\">\n",
       "</g>\n",
       "<g style=\"fill:none; color:#FFCC00; stroke:currentColor; stroke-width:1.00; stroke-linecap:butt; stroke-linejoin:miter\">\n",
       "\t<g style=\"stroke:none; shape-rendering:crispEdges\">\n",
       "\t\t<polygon fill=\"rgb(  0,   0, 128)\" points=\"110.8,177.5 110.8,177.5 110.8,86.6 114.6,86.6 114.6,177.5 \"/>\n",
       "\t</g>\n",
       "\t<path d=\"M110.8,177.5 L110.8,86.6 L114.6,86.6 L114.6,177.5  h0.01\" stroke=\"rgb(  0,   0, 128)\" stroke-dasharray=\" 5,8\"/></g>\n",
       "\t</g>\n",
       "\t<g id=\"gnuplot_plot_38a\"><title>gnuplot_plot_38a</title>\n",
       "<g style=\"fill:none; color:white; stroke:rgb(  0,   0, 128); stroke-width:0.50; stroke-linecap:butt; stroke-linejoin:miter\">\n",
       "</g>\n",
       "<g style=\"fill:none; color:red; stroke:currentColor; stroke-width:0.50; stroke-linecap:butt; stroke-linejoin:miter\">\n",
       "\t<path d=\"M110.8,177.5 L110.8,86.6 L114.6,86.6 L114.6,177.5 L110.8,177.5  h0.01\" stroke=\"rgb(  0,   0,   0)\"/></g>\n",
       "\t</g>\n",
       "\t<g id=\"gnuplot_plot_39a\"><title>gnuplot_plot_39a</title>\n",
       "<g style=\"fill:none; color:white; stroke:rgb(  0,   0,   0); stroke-width:1.00; stroke-linecap:butt; stroke-linejoin:miter\">\n",
       "</g>\n",
       "<g style=\"fill:none; color:#ABD600; stroke:currentColor; stroke-width:1.00; stroke-linecap:butt; stroke-linejoin:miter\">\n",
       "\t<g style=\"stroke:none; shape-rendering:crispEdges\">\n",
       "\t\t<polygon fill=\"rgb(  0,   0, 128)\" points=\"114.6,177.5 114.6,177.5 114.6,66.4 118.5,66.4 118.5,177.5 \"/>\n",
       "\t</g>\n",
       "\t<path d=\"M114.6,177.5 L114.6,66.4 L118.5,66.4 L118.5,177.5  h0.01\" stroke=\"rgb(  0,   0, 128)\" stroke-dasharray=\" 8,4,2,4\"/></g>\n",
       "\t</g>\n",
       "\t<g id=\"gnuplot_plot_40a\"><title>gnuplot_plot_40a</title>\n",
       "<g style=\"fill:none; color:white; stroke:rgb(  0,   0, 128); stroke-width:0.50; stroke-linecap:butt; stroke-linejoin:miter\">\n",
       "</g>\n",
       "<g style=\"fill:none; color:red; stroke:currentColor; stroke-width:0.50; stroke-linecap:butt; stroke-linejoin:miter\">\n",
       "\t<path d=\"M114.6,177.5 L114.6,66.4 L118.5,66.4 L118.5,177.5 L114.6,177.5  h0.01\" stroke=\"rgb(  0,   0,   0)\"/></g>\n",
       "\t</g>\n",
       "\t<g id=\"gnuplot_plot_41a\"><title>gnuplot_plot_41a</title>\n",
       "<g style=\"fill:none; color:white; stroke:rgb(  0,   0,   0); stroke-width:1.00; stroke-linecap:butt; stroke-linejoin:miter\">\n",
       "</g>\n",
       "<g style=\"fill:none; color:green; stroke:currentColor; stroke-width:1.00; stroke-linecap:butt; stroke-linejoin:miter\">\n",
       "\t<g style=\"stroke:none; shape-rendering:crispEdges\">\n",
       "\t\t<polygon fill=\"rgb(  0,   0, 128)\" points=\"118.5,177.5 118.5,177.5 118.5,66.8 122.3,66.8 122.3,177.5 \"/>\n",
       "\t</g>\n",
       "\t<path d=\"M118.5,177.5 L118.5,66.8 L122.3,66.8 L122.3,177.5  h0.01\" stroke=\"rgb(  0,   0, 128)\"/></g>\n",
       "\t</g>\n",
       "\t<g id=\"gnuplot_plot_42a\"><title>gnuplot_plot_42a</title>\n",
       "<g style=\"fill:none; color:white; stroke:rgb(  0,   0, 128); stroke-width:0.50; stroke-linecap:butt; stroke-linejoin:miter\">\n",
       "</g>\n",
       "<g style=\"fill:none; color:red; stroke:currentColor; stroke-width:0.50; stroke-linecap:butt; stroke-linejoin:miter\">\n",
       "\t<path d=\"M118.5,177.5 L118.5,66.8 L122.3,66.8 L122.3,177.5 L118.5,177.5  h0.01\" stroke=\"rgb(  0,   0,   0)\"/></g>\n",
       "\t</g>\n",
       "\t<g id=\"gnuplot_plot_43a\"><title>gnuplot_plot_43a</title>\n",
       "<g style=\"fill:none; color:white; stroke:rgb(  0,   0,   0); stroke-width:1.00; stroke-linecap:butt; stroke-linejoin:miter\">\n",
       "</g>\n",
       "<g style=\"fill:none; color:cyan; stroke:currentColor; stroke-width:1.00; stroke-linecap:butt; stroke-linejoin:miter\">\n",
       "\t<g style=\"stroke:none; shape-rendering:crispEdges\">\n",
       "\t\t<polygon fill=\"rgb(  0,   0, 128)\" points=\"122.3,177.5 122.3,177.5 122.3,50.2 126.1,50.2 126.1,177.5 \"/>\n",
       "\t</g>\n",
       "\t<path d=\"M122.3,177.5 L122.3,50.2 L126.1,50.2 L126.1,177.5  h0.01\" stroke=\"rgb(  0,   0, 128)\" stroke-dasharray=\" 2,4\"/></g>\n",
       "\t</g>\n",
       "\t<g id=\"gnuplot_plot_44a\"><title>gnuplot_plot_44a</title>\n",
       "<g style=\"fill:none; color:white; stroke:rgb(  0,   0, 128); stroke-width:0.50; stroke-linecap:butt; stroke-linejoin:miter\">\n",
       "</g>\n",
       "<g style=\"fill:none; color:red; stroke:currentColor; stroke-width:0.50; stroke-linecap:butt; stroke-linejoin:miter\">\n",
       "\t<path d=\"M122.3,177.5 L122.3,50.2 L126.1,50.2 L126.1,177.5 L122.3,177.5  h0.01\" stroke=\"rgb(  0,   0,   0)\"/></g>\n",
       "\t</g>\n",
       "\t<g id=\"gnuplot_plot_45a\"><title>gnuplot_plot_45a</title>\n",
       "<g style=\"fill:none; color:white; stroke:rgb(  0,   0,   0); stroke-width:1.00; stroke-linecap:butt; stroke-linejoin:miter\">\n",
       "</g>\n",
       "<g style=\"fill:none; color:#000094; stroke:currentColor; stroke-width:1.00; stroke-linecap:butt; stroke-linejoin:miter\">\n",
       "\t<g style=\"stroke:none; shape-rendering:crispEdges\">\n",
       "\t\t<polygon fill=\"rgb(  0,   0, 128)\" points=\"126.1,177.5 126.1,177.5 126.1,51.5 129.9,51.5 129.9,177.5 \"/>\n",
       "\t</g>\n",
       "\t<path d=\"M126.1,177.5 L126.1,51.5 L129.9,51.5 L129.9,177.5  h0.01\" stroke=\"rgb(  0,   0, 128)\" stroke-dasharray=\" 9,4,1,4,1,4\"/></g>\n",
       "\t</g>\n",
       "\t<g id=\"gnuplot_plot_46a\"><title>gnuplot_plot_46a</title>\n",
       "<g style=\"fill:none; color:white; stroke:rgb(  0,   0, 128); stroke-width:0.50; stroke-linecap:butt; stroke-linejoin:miter\">\n",
       "</g>\n",
       "<g style=\"fill:none; color:red; stroke:currentColor; stroke-width:0.50; stroke-linecap:butt; stroke-linejoin:miter\">\n",
       "\t<path d=\"M126.1,177.5 L126.1,51.5 L129.9,51.5 L129.9,177.5 L126.1,177.5  h0.01\" stroke=\"rgb(  0,   0,   0)\"/></g>\n",
       "\t</g>\n",
       "\t<g id=\"gnuplot_plot_47a\"><title>gnuplot_plot_47a</title>\n",
       "<g style=\"fill:none; color:white; stroke:rgb(  0,   0,   0); stroke-width:1.00; stroke-linecap:butt; stroke-linejoin:miter\">\n",
       "</g>\n",
       "<g style=\"fill:none; color:#0099A1; stroke:currentColor; stroke-width:1.00; stroke-linecap:butt; stroke-linejoin:miter\">\n",
       "\t<g style=\"stroke:none; shape-rendering:crispEdges\">\n",
       "\t\t<polygon fill=\"rgb(  0,   0, 128)\" points=\"129.9,177.5 129.9,177.5 129.9,39.6 133.8,39.6 133.8,177.5 \"/>\n",
       "\t</g>\n",
       "\t<path d=\"M129.9,177.5 L129.9,39.6 L133.8,39.6 L133.8,177.5  h0.01\" stroke=\"rgb(  0,   0, 128)\" stroke-dasharray=\" 5,8\"/></g>\n",
       "\t</g>\n",
       "\t<g id=\"gnuplot_plot_48a\"><title>gnuplot_plot_48a</title>\n",
       "<g style=\"fill:none; color:white; stroke:rgb(  0,   0, 128); stroke-width:0.50; stroke-linecap:butt; stroke-linejoin:miter\">\n",
       "</g>\n",
       "<g style=\"fill:none; color:red; stroke:currentColor; stroke-width:0.50; stroke-linecap:butt; stroke-linejoin:miter\">\n",
       "\t<path d=\"M129.9,177.5 L129.9,39.6 L133.8,39.6 L133.8,177.5 L129.9,177.5  h0.01\" stroke=\"rgb(  0,   0,   0)\"/></g>\n",
       "\t</g>\n",
       "\t<g id=\"gnuplot_plot_49a\"><title>gnuplot_plot_49a</title>\n",
       "<g style=\"fill:none; color:white; stroke:rgb(  0,   0,   0); stroke-width:1.00; stroke-linecap:butt; stroke-linejoin:miter\">\n",
       "</g>\n",
       "<g style=\"fill:none; color:#A391FF; stroke:currentColor; stroke-width:1.00; stroke-linecap:butt; stroke-linejoin:miter\">\n",
       "\t<g style=\"stroke:none; shape-rendering:crispEdges\">\n",
       "\t\t<polygon fill=\"rgb(  0,   0, 128)\" points=\"133.8,177.5 133.8,177.5 133.8,29.6 137.6,29.6 137.6,177.5 \"/>\n",
       "\t</g>\n",
       "\t<path d=\"M133.8,177.5 L133.8,29.6 L137.6,29.6 L137.6,177.5  h0.01\" stroke=\"rgb(  0,   0, 128)\" stroke-dasharray=\" 8,4,2,4\"/></g>\n",
       "\t</g>\n",
       "\t<g id=\"gnuplot_plot_50a\"><title>gnuplot_plot_50a</title>\n",
       "<g style=\"fill:none; color:white; stroke:rgb(  0,   0, 128); stroke-width:0.50; stroke-linecap:butt; stroke-linejoin:miter\">\n",
       "</g>\n",
       "<g style=\"fill:none; color:red; stroke:currentColor; stroke-width:0.50; stroke-linecap:butt; stroke-linejoin:miter\">\n",
       "\t<path d=\"M133.8,177.5 L133.8,29.6 L137.6,29.6 L137.6,177.5 L133.8,177.5  h0.01\" stroke=\"rgb(  0,   0,   0)\"/></g>\n",
       "\t</g>\n",
       "\t<g id=\"gnuplot_plot_51a\"><title>gnuplot_plot_51a</title>\n",
       "<g style=\"fill:none; color:white; stroke:rgb(  0,   0,   0); stroke-width:1.00; stroke-linecap:butt; stroke-linejoin:miter\">\n",
       "</g>\n",
       "<g style=\"fill:none; color:#D60078; stroke:currentColor; stroke-width:1.00; stroke-linecap:butt; stroke-linejoin:miter\">\n",
       "\t<g style=\"stroke:none; shape-rendering:crispEdges\">\n",
       "\t\t<polygon fill=\"rgb(  0,   0, 128)\" points=\"137.6,177.5 137.6,177.5 137.6,52.1 141.4,52.1 141.4,177.5 \"/>\n",
       "\t</g>\n",
       "\t<path d=\"M137.6,177.5 L137.6,52.1 L141.4,52.1 L141.4,177.5  h0.01\" stroke=\"rgb(  0,   0, 128)\"/></g>\n",
       "\t</g>\n",
       "\t<g id=\"gnuplot_plot_52a\"><title>gnuplot_plot_52a</title>\n",
       "<g style=\"fill:none; color:white; stroke:rgb(  0,   0, 128); stroke-width:0.50; stroke-linecap:butt; stroke-linejoin:miter\">\n",
       "</g>\n",
       "<g style=\"fill:none; color:red; stroke:currentColor; stroke-width:0.50; stroke-linecap:butt; stroke-linejoin:miter\">\n",
       "\t<path d=\"M137.6,177.5 L137.6,52.1 L141.4,52.1 L141.4,177.5 L137.6,177.5  h0.01\" stroke=\"rgb(  0,   0,   0)\"/></g>\n",
       "\t</g>\n",
       "\t<g id=\"gnuplot_plot_53a\"><title>gnuplot_plot_53a</title>\n",
       "<g style=\"fill:none; color:white; stroke:rgb(  0,   0,   0); stroke-width:1.00; stroke-linecap:butt; stroke-linejoin:miter\">\n",
       "</g>\n",
       "<g style=\"fill:none; color:red; stroke:currentColor; stroke-width:1.00; stroke-linecap:butt; stroke-linejoin:miter\">\n",
       "\t<g style=\"stroke:none; shape-rendering:crispEdges\">\n",
       "\t\t<polygon fill=\"rgb(  0,   0, 128)\" points=\"141.4,177.5 141.4,177.5 141.4,62.3 145.3,62.3 145.3,177.5 \"/>\n",
       "\t</g>\n",
       "\t<path d=\"M141.4,177.5 L141.4,62.3 L145.3,62.3 L145.3,177.5  h0.01\" stroke=\"rgb(  0,   0, 128)\" stroke-dasharray=\" 2,4\"/></g>\n",
       "\t</g>\n",
       "\t<g id=\"gnuplot_plot_54a\"><title>gnuplot_plot_54a</title>\n",
       "<g style=\"fill:none; color:white; stroke:rgb(  0,   0, 128); stroke-width:0.50; stroke-linecap:butt; stroke-linejoin:miter\">\n",
       "</g>\n",
       "<g style=\"fill:none; color:red; stroke:currentColor; stroke-width:0.50; stroke-linecap:butt; stroke-linejoin:miter\">\n",
       "\t<path d=\"M141.4,177.5 L141.4,62.3 L145.3,62.3 L145.3,177.5 L141.4,177.5  h0.01\" stroke=\"rgb(  0,   0,   0)\"/></g>\n",
       "\t</g>\n",
       "\t<g id=\"gnuplot_plot_55a\"><title>gnuplot_plot_55a</title>\n",
       "<g style=\"fill:none; color:white; stroke:rgb(  0,   0,   0); stroke-width:1.00; stroke-linecap:butt; stroke-linejoin:miter\">\n",
       "</g>\n",
       "<g style=\"fill:none; color:blue; stroke:currentColor; stroke-width:1.00; stroke-linecap:butt; stroke-linejoin:miter\">\n",
       "\t<g style=\"stroke:none; shape-rendering:crispEdges\">\n",
       "\t\t<polygon fill=\"rgb(  0,   0, 128)\" points=\"145.3,177.5 145.3,177.5 145.3,59.8 149.1,59.8 149.1,177.5 \"/>\n",
       "\t</g>\n",
       "\t<path d=\"M145.3,177.5 L145.3,59.8 L149.1,59.8 L149.1,177.5  h0.01\" stroke=\"rgb(  0,   0, 128)\" stroke-dasharray=\" 9,4,1,4,1,4\"/></g>\n",
       "\t</g>\n",
       "\t<g id=\"gnuplot_plot_56a\"><title>gnuplot_plot_56a</title>\n",
       "<g style=\"fill:none; color:white; stroke:rgb(  0,   0, 128); stroke-width:0.50; stroke-linecap:butt; stroke-linejoin:miter\">\n",
       "</g>\n",
       "<g style=\"fill:none; color:red; stroke:currentColor; stroke-width:0.50; stroke-linecap:butt; stroke-linejoin:miter\">\n",
       "\t<path d=\"M145.3,177.5 L145.3,59.8 L149.1,59.8 L149.1,177.5 L145.3,177.5  h0.01\" stroke=\"rgb(  0,   0,   0)\"/></g>\n",
       "\t</g>\n",
       "\t<g id=\"gnuplot_plot_57a\"><title>gnuplot_plot_57a</title>\n",
       "<g style=\"fill:none; color:white; stroke:rgb(  0,   0,   0); stroke-width:1.00; stroke-linecap:butt; stroke-linejoin:miter\">\n",
       "</g>\n",
       "<g style=\"fill:none; color:#157545; stroke:currentColor; stroke-width:1.00; stroke-linecap:butt; stroke-linejoin:miter\">\n",
       "\t<g style=\"stroke:none; shape-rendering:crispEdges\">\n",
       "\t\t<polygon fill=\"rgb(  0,   0, 128)\" points=\"149.1,177.5 149.1,177.5 149.1,70.6 152.9,70.6 152.9,177.5 \"/>\n",
       "\t</g>\n",
       "\t<path d=\"M149.1,177.5 L149.1,70.6 L152.9,70.6 L152.9,177.5  h0.01\" stroke=\"rgb(  0,   0, 128)\" stroke-dasharray=\" 5,8\"/></g>\n",
       "\t</g>\n",
       "\t<g id=\"gnuplot_plot_58a\"><title>gnuplot_plot_58a</title>\n",
       "<g style=\"fill:none; color:white; stroke:rgb(  0,   0, 128); stroke-width:0.50; stroke-linecap:butt; stroke-linejoin:miter\">\n",
       "</g>\n",
       "<g style=\"fill:none; color:red; stroke:currentColor; stroke-width:0.50; stroke-linecap:butt; stroke-linejoin:miter\">\n",
       "\t<path d=\"M149.1,177.5 L149.1,70.6 L152.9,70.6 L152.9,177.5 L149.1,177.5  h0.01\" stroke=\"rgb(  0,   0,   0)\"/></g>\n",
       "\t</g>\n",
       "\t<g id=\"gnuplot_plot_59a\"><title>gnuplot_plot_59a</title>\n",
       "<g style=\"fill:none; color:white; stroke:rgb(  0,   0,   0); stroke-width:1.00; stroke-linecap:butt; stroke-linejoin:miter\">\n",
       "</g>\n",
       "<g style=\"fill:none; color:#FF9900; stroke:currentColor; stroke-width:1.00; stroke-linecap:butt; stroke-linejoin:miter\">\n",
       "\t<g style=\"stroke:none; shape-rendering:crispEdges\">\n",
       "\t\t<polygon fill=\"rgb(  0,   0, 128)\" points=\"152.9,177.5 152.9,177.5 152.9,81.6 156.8,81.6 156.8,177.5 \"/>\n",
       "\t</g>\n",
       "\t<path d=\"M152.9,177.5 L152.9,81.6 L156.8,81.6 L156.8,177.5  h0.01\" stroke=\"rgb(  0,   0, 128)\" stroke-dasharray=\" 8,4,2,4\"/></g>\n",
       "\t</g>\n",
       "\t<g id=\"gnuplot_plot_60a\"><title>gnuplot_plot_60a</title>\n",
       "<g style=\"fill:none; color:white; stroke:rgb(  0,   0, 128); stroke-width:0.50; stroke-linecap:butt; stroke-linejoin:miter\">\n",
       "</g>\n",
       "<g style=\"fill:none; color:red; stroke:currentColor; stroke-width:0.50; stroke-linecap:butt; stroke-linejoin:miter\">\n",
       "\t<path d=\"M152.9,177.5 L152.9,81.6 L156.8,81.6 L156.8,177.5 L152.9,177.5  h0.01\" stroke=\"rgb(  0,   0,   0)\"/></g>\n",
       "\t</g>\n",
       "\t<g id=\"gnuplot_plot_61a\"><title>gnuplot_plot_61a</title>\n",
       "<g style=\"fill:none; color:white; stroke:rgb(  0,   0,   0); stroke-width:1.00; stroke-linecap:butt; stroke-linejoin:miter\">\n",
       "</g>\n",
       "<g style=\"fill:none; color:#D6D645; stroke:currentColor; stroke-width:1.00; stroke-linecap:butt; stroke-linejoin:miter\">\n",
       "\t<g style=\"stroke:none; shape-rendering:crispEdges\">\n",
       "\t\t<polygon fill=\"rgb(  0,   0, 128)\" points=\"156.8,177.5 156.8,177.5 156.8,102.2 160.6,102.2 160.6,177.5 \"/>\n",
       "\t</g>\n",
       "\t<path d=\"M156.8,177.5 L156.8,102.2 L160.6,102.2 L160.6,177.5  h0.01\" stroke=\"rgb(  0,   0, 128)\"/></g>\n",
       "\t</g>\n",
       "\t<g id=\"gnuplot_plot_62a\"><title>gnuplot_plot_62a</title>\n",
       "<g style=\"fill:none; color:white; stroke:rgb(  0,   0, 128); stroke-width:0.50; stroke-linecap:butt; stroke-linejoin:miter\">\n",
       "</g>\n",
       "<g style=\"fill:none; color:red; stroke:currentColor; stroke-width:0.50; stroke-linecap:butt; stroke-linejoin:miter\">\n",
       "\t<path d=\"M156.8,177.5 L156.8,102.2 L160.6,102.2 L160.6,177.5 L156.8,177.5  h0.01\" stroke=\"rgb(  0,   0,   0)\"/></g>\n",
       "\t</g>\n",
       "\t<g id=\"gnuplot_plot_63a\"><title>gnuplot_plot_63a</title>\n",
       "<g style=\"fill:none; color:white; stroke:rgb(  0,   0,   0); stroke-width:1.00; stroke-linecap:butt; stroke-linejoin:miter\">\n",
       "</g>\n",
       "<g style=\"fill:none; color:#FFCC00; stroke:currentColor; stroke-width:1.00; stroke-linecap:butt; stroke-linejoin:miter\">\n",
       "\t<g style=\"stroke:none; shape-rendering:crispEdges\">\n",
       "\t\t<polygon fill=\"rgb(  0,   0, 128)\" points=\"160.6,177.5 160.6,177.5 160.6,123.0 164.4,123.0 164.4,177.5 \"/>\n",
       "\t</g>\n",
       "\t<path d=\"M160.6,177.5 L160.6,123.0 L164.4,123.0 L164.4,177.5  h0.01\" stroke=\"rgb(  0,   0, 128)\" stroke-dasharray=\" 2,4\"/></g>\n",
       "\t</g>\n",
       "\t<g id=\"gnuplot_plot_64a\"><title>gnuplot_plot_64a</title>\n",
       "<g style=\"fill:none; color:white; stroke:rgb(  0,   0, 128); stroke-width:0.50; stroke-linecap:butt; stroke-linejoin:miter\">\n",
       "</g>\n",
       "<g style=\"fill:none; color:red; stroke:currentColor; stroke-width:0.50; stroke-linecap:butt; stroke-linejoin:miter\">\n",
       "\t<path d=\"M160.6,177.5 L160.6,123.0 L164.4,123.0 L164.4,177.5 L160.6,177.5  h0.01\" stroke=\"rgb(  0,   0,   0)\"/></g>\n",
       "\t</g>\n",
       "\t<g id=\"gnuplot_plot_65a\"><title>gnuplot_plot_65a</title>\n",
       "<g style=\"fill:none; color:white; stroke:rgb(  0,   0,   0); stroke-width:1.00; stroke-linecap:butt; stroke-linejoin:miter\">\n",
       "</g>\n",
       "<g style=\"fill:none; color:#ABD600; stroke:currentColor; stroke-width:1.00; stroke-linecap:butt; stroke-linejoin:miter\">\n",
       "\t<g style=\"stroke:none; shape-rendering:crispEdges\">\n",
       "\t\t<polygon fill=\"rgb(  0,   0, 128)\" points=\"164.4,177.5 164.4,177.5 164.4,129.2 168.3,129.2 168.3,177.5 \"/>\n",
       "\t</g>\n",
       "\t<path d=\"M164.4,177.5 L164.4,129.2 L168.3,129.2 L168.3,177.5  h0.01\" stroke=\"rgb(  0,   0, 128)\" stroke-dasharray=\" 9,4,1,4,1,4\"/></g>\n",
       "\t</g>\n",
       "\t<g id=\"gnuplot_plot_66a\"><title>gnuplot_plot_66a</title>\n",
       "<g style=\"fill:none; color:white; stroke:rgb(  0,   0, 128); stroke-width:0.50; stroke-linecap:butt; stroke-linejoin:miter\">\n",
       "</g>\n",
       "<g style=\"fill:none; color:red; stroke:currentColor; stroke-width:0.50; stroke-linecap:butt; stroke-linejoin:miter\">\n",
       "\t<path d=\"M164.4,177.5 L164.4,129.2 L168.3,129.2 L168.3,177.5 L164.4,177.5  h0.01\" stroke=\"rgb(  0,   0,   0)\"/></g>\n",
       "\t</g>\n",
       "\t<g id=\"gnuplot_plot_67a\"><title>gnuplot_plot_67a</title>\n",
       "<g style=\"fill:none; color:white; stroke:rgb(  0,   0,   0); stroke-width:1.00; stroke-linecap:butt; stroke-linejoin:miter\">\n",
       "</g>\n",
       "<g style=\"fill:none; color:green; stroke:currentColor; stroke-width:1.00; stroke-linecap:butt; stroke-linejoin:miter\">\n",
       "\t<g style=\"stroke:none; shape-rendering:crispEdges\">\n",
       "\t\t<polygon fill=\"rgb(  0,   0, 128)\" points=\"168.3,177.5 168.3,177.5 168.3,133.8 172.1,133.8 172.1,177.5 \"/>\n",
       "\t</g>\n",
       "\t<path d=\"M168.3,177.5 L168.3,133.8 L172.1,133.8 L172.1,177.5  h0.01\" stroke=\"rgb(  0,   0, 128)\" stroke-dasharray=\" 5,8\"/></g>\n",
       "\t</g>\n",
       "\t<g id=\"gnuplot_plot_68a\"><title>gnuplot_plot_68a</title>\n",
       "<g style=\"fill:none; color:white; stroke:rgb(  0,   0, 128); stroke-width:0.50; stroke-linecap:butt; stroke-linejoin:miter\">\n",
       "</g>\n",
       "<g style=\"fill:none; color:red; stroke:currentColor; stroke-width:0.50; stroke-linecap:butt; stroke-linejoin:miter\">\n",
       "\t<path d=\"M168.3,177.5 L168.3,133.8 L172.1,133.8 L172.1,177.5 L168.3,177.5  h0.01\" stroke=\"rgb(  0,   0,   0)\"/></g>\n",
       "\t</g>\n",
       "\t<g id=\"gnuplot_plot_69a\"><title>gnuplot_plot_69a</title>\n",
       "<g style=\"fill:none; color:white; stroke:rgb(  0,   0,   0); stroke-width:1.00; stroke-linecap:butt; stroke-linejoin:miter\">\n",
       "</g>\n",
       "<g style=\"fill:none; color:cyan; stroke:currentColor; stroke-width:1.00; stroke-linecap:butt; stroke-linejoin:miter\">\n",
       "\t<g style=\"stroke:none; shape-rendering:crispEdges\">\n",
       "\t\t<polygon fill=\"rgb(  0,   0, 128)\" points=\"172.1,177.5 172.1,177.5 172.1,149.4 175.9,149.4 175.9,177.5 \"/>\n",
       "\t</g>\n",
       "\t<path d=\"M172.1,177.5 L172.1,149.4 L175.9,149.4 L175.9,177.5  h0.01\" stroke=\"rgb(  0,   0, 128)\" stroke-dasharray=\" 8,4,2,4\"/></g>\n",
       "\t</g>\n",
       "\t<g id=\"gnuplot_plot_70a\"><title>gnuplot_plot_70a</title>\n",
       "<g style=\"fill:none; color:white; stroke:rgb(  0,   0, 128); stroke-width:0.50; stroke-linecap:butt; stroke-linejoin:miter\">\n",
       "</g>\n",
       "<g style=\"fill:none; color:red; stroke:currentColor; stroke-width:0.50; stroke-linecap:butt; stroke-linejoin:miter\">\n",
       "\t<path d=\"M172.1,177.5 L172.1,149.4 L175.9,149.4 L175.9,177.5 L172.1,177.5  h0.01\" stroke=\"rgb(  0,   0,   0)\"/></g>\n",
       "\t</g>\n",
       "\t<g id=\"gnuplot_plot_71a\"><title>gnuplot_plot_71a</title>\n",
       "<g style=\"fill:none; color:white; stroke:rgb(  0,   0,   0); stroke-width:1.00; stroke-linecap:butt; stroke-linejoin:miter\">\n",
       "</g>\n",
       "<g style=\"fill:none; color:#000094; stroke:currentColor; stroke-width:1.00; stroke-linecap:butt; stroke-linejoin:miter\">\n",
       "\t<g style=\"stroke:none; shape-rendering:crispEdges\">\n",
       "\t\t<polygon fill=\"rgb(  0,   0, 128)\" points=\"175.9,177.5 175.9,177.5 175.9,153.0 179.8,153.0 179.8,177.5 \"/>\n",
       "\t</g>\n",
       "\t<path d=\"M175.9,177.5 L175.9,153.0 L179.8,153.0 L179.8,177.5  h0.01\" stroke=\"rgb(  0,   0, 128)\"/></g>\n",
       "\t</g>\n",
       "\t<g id=\"gnuplot_plot_72a\"><title>gnuplot_plot_72a</title>\n",
       "<g style=\"fill:none; color:white; stroke:rgb(  0,   0, 128); stroke-width:0.50; stroke-linecap:butt; stroke-linejoin:miter\">\n",
       "</g>\n",
       "<g style=\"fill:none; color:red; stroke:currentColor; stroke-width:0.50; stroke-linecap:butt; stroke-linejoin:miter\">\n",
       "\t<path d=\"M175.9,177.5 L175.9,153.0 L179.8,153.0 L179.8,177.5 L175.9,177.5  h0.01\" stroke=\"rgb(  0,   0,   0)\"/></g>\n",
       "\t</g>\n",
       "\t<g id=\"gnuplot_plot_73a\"><title>gnuplot_plot_73a</title>\n",
       "<g style=\"fill:none; color:white; stroke:rgb(  0,   0,   0); stroke-width:1.00; stroke-linecap:butt; stroke-linejoin:miter\">\n",
       "</g>\n",
       "<g style=\"fill:none; color:#0099A1; stroke:currentColor; stroke-width:1.00; stroke-linecap:butt; stroke-linejoin:miter\">\n",
       "\t<g style=\"stroke:none; shape-rendering:crispEdges\">\n",
       "\t\t<polygon fill=\"rgb(  0,   0, 128)\" points=\"179.8,177.5 179.8,177.5 179.8,159.4 183.6,159.4 183.6,177.5 \"/>\n",
       "\t</g>\n",
       "\t<path d=\"M179.8,177.5 L179.8,159.4 L183.6,159.4 L183.6,177.5  h0.01\" stroke=\"rgb(  0,   0, 128)\" stroke-dasharray=\" 2,4\"/></g>\n",
       "\t</g>\n",
       "\t<g id=\"gnuplot_plot_74a\"><title>gnuplot_plot_74a</title>\n",
       "<g style=\"fill:none; color:white; stroke:rgb(  0,   0, 128); stroke-width:0.50; stroke-linecap:butt; stroke-linejoin:miter\">\n",
       "</g>\n",
       "<g style=\"fill:none; color:red; stroke:currentColor; stroke-width:0.50; stroke-linecap:butt; stroke-linejoin:miter\">\n",
       "\t<path d=\"M179.8,177.5 L179.8,159.4 L183.6,159.4 L183.6,177.5 L179.8,177.5  h0.01\" stroke=\"rgb(  0,   0,   0)\"/></g>\n",
       "\t</g>\n",
       "\t<g id=\"gnuplot_plot_75a\"><title>gnuplot_plot_75a</title>\n",
       "<g style=\"fill:none; color:white; stroke:rgb(  0,   0,   0); stroke-width:1.00; stroke-linecap:butt; stroke-linejoin:miter\">\n",
       "</g>\n",
       "<g style=\"fill:none; color:#A391FF; stroke:currentColor; stroke-width:1.00; stroke-linecap:butt; stroke-linejoin:miter\">\n",
       "\t<g style=\"stroke:none; shape-rendering:crispEdges\">\n",
       "\t\t<polygon fill=\"rgb(  0,   0, 128)\" points=\"183.6,177.5 183.6,177.5 183.6,165.4 187.4,165.4 187.4,177.5 \"/>\n",
       "\t</g>\n",
       "\t<path d=\"M183.6,177.5 L183.6,165.4 L187.4,165.4 L187.4,177.5  h0.01\" stroke=\"rgb(  0,   0, 128)\" stroke-dasharray=\" 9,4,1,4,1,4\"/></g>\n",
       "\t</g>\n",
       "\t<g id=\"gnuplot_plot_76a\"><title>gnuplot_plot_76a</title>\n",
       "<g style=\"fill:none; color:white; stroke:rgb(  0,   0, 128); stroke-width:0.50; stroke-linecap:butt; stroke-linejoin:miter\">\n",
       "</g>\n",
       "<g style=\"fill:none; color:red; stroke:currentColor; stroke-width:0.50; stroke-linecap:butt; stroke-linejoin:miter\">\n",
       "\t<path d=\"M183.6,177.5 L183.6,165.4 L187.4,165.4 L187.4,177.5 L183.6,177.5  h0.01\" stroke=\"rgb(  0,   0,   0)\"/></g>\n",
       "\t</g>\n",
       "\t<g id=\"gnuplot_plot_77a\"><title>gnuplot_plot_77a</title>\n",
       "<g style=\"fill:none; color:white; stroke:rgb(  0,   0,   0); stroke-width:1.00; stroke-linecap:butt; stroke-linejoin:miter\">\n",
       "</g>\n",
       "<g style=\"fill:none; color:#D60078; stroke:currentColor; stroke-width:1.00; stroke-linecap:butt; stroke-linejoin:miter\">\n",
       "\t<g style=\"stroke:none; shape-rendering:crispEdges\">\n",
       "\t\t<polygon fill=\"rgb(  0,   0, 128)\" points=\"187.4,177.5 187.4,177.5 187.4,169.6 191.3,169.6 191.3,177.5 \"/>\n",
       "\t</g>\n",
       "\t<path d=\"M187.4,177.5 L187.4,169.6 L191.3,169.6 L191.3,177.5  h0.01\" stroke=\"rgb(  0,   0, 128)\" stroke-dasharray=\" 5,8\"/></g>\n",
       "\t</g>\n",
       "\t<g id=\"gnuplot_plot_78a\"><title>gnuplot_plot_78a</title>\n",
       "<g style=\"fill:none; color:white; stroke:rgb(  0,   0, 128); stroke-width:0.50; stroke-linecap:butt; stroke-linejoin:miter\">\n",
       "</g>\n",
       "<g style=\"fill:none; color:red; stroke:currentColor; stroke-width:0.50; stroke-linecap:butt; stroke-linejoin:miter\">\n",
       "\t<path d=\"M187.4,177.5 L187.4,169.6 L191.3,169.6 L191.3,177.5 L187.4,177.5  h0.01\" stroke=\"rgb(  0,   0,   0)\"/></g>\n",
       "\t</g>\n",
       "\t<g id=\"gnuplot_plot_79a\"><title>gnuplot_plot_79a</title>\n",
       "<g style=\"fill:none; color:white; stroke:rgb(  0,   0,   0); stroke-width:1.00; stroke-linecap:butt; stroke-linejoin:miter\">\n",
       "</g>\n",
       "<g style=\"fill:none; color:red; stroke:currentColor; stroke-width:1.00; stroke-linecap:butt; stroke-linejoin:miter\">\n",
       "\t<g style=\"stroke:none; shape-rendering:crispEdges\">\n",
       "\t\t<polygon fill=\"rgb(  0,   0, 128)\" points=\"191.3,177.5 191.3,177.5 191.3,172.9 195.1,172.9 195.1,177.5 \"/>\n",
       "\t</g>\n",
       "\t<path d=\"M191.3,177.5 L191.3,172.9 L195.1,172.9 L195.1,177.5  h0.01\" stroke=\"rgb(  0,   0, 128)\" stroke-dasharray=\" 8,4,2,4\"/></g>\n",
       "\t</g>\n",
       "\t<g id=\"gnuplot_plot_80a\"><title>gnuplot_plot_80a</title>\n",
       "<g style=\"fill:none; color:white; stroke:rgb(  0,   0, 128); stroke-width:0.50; stroke-linecap:butt; stroke-linejoin:miter\">\n",
       "</g>\n",
       "<g style=\"fill:none; color:red; stroke:currentColor; stroke-width:0.50; stroke-linecap:butt; stroke-linejoin:miter\">\n",
       "\t<path d=\"M191.3,177.5 L191.3,172.9 L195.1,172.9 L195.1,177.5 L191.3,177.5  h0.01\" stroke=\"rgb(  0,   0,   0)\"/></g>\n",
       "\t</g>\n",
       "\t<g id=\"gnuplot_plot_81a\"><title>gnuplot_plot_81a</title>\n",
       "<g style=\"fill:none; color:white; stroke:rgb(  0,   0,   0); stroke-width:1.00; stroke-linecap:butt; stroke-linejoin:miter\">\n",
       "</g>\n",
       "<g style=\"fill:none; color:blue; stroke:currentColor; stroke-width:1.00; stroke-linecap:butt; stroke-linejoin:miter\">\n",
       "\t<g style=\"stroke:none; shape-rendering:crispEdges\">\n",
       "\t\t<polygon fill=\"rgb(  0,   0, 128)\" points=\"195.1,177.5 195.1,177.5 195.1,174.8 198.9,174.8 198.9,177.5 \"/>\n",
       "\t</g>\n",
       "\t<path d=\"M195.1,177.5 L195.1,174.8 L198.9,174.8 L198.9,177.5  h0.01\" stroke=\"rgb(  0,   0, 128)\"/></g>\n",
       "\t</g>\n",
       "\t<g id=\"gnuplot_plot_82a\"><title>gnuplot_plot_82a</title>\n",
       "<g style=\"fill:none; color:white; stroke:rgb(  0,   0, 128); stroke-width:0.50; stroke-linecap:butt; stroke-linejoin:miter\">\n",
       "</g>\n",
       "<g style=\"fill:none; color:red; stroke:currentColor; stroke-width:0.50; stroke-linecap:butt; stroke-linejoin:miter\">\n",
       "\t<path d=\"M195.1,177.5 L195.1,174.8 L198.9,174.8 L198.9,177.5 L195.1,177.5  h0.01\" stroke=\"rgb(  0,   0,   0)\"/></g>\n",
       "\t</g>\n",
       "\t<g id=\"gnuplot_plot_83a\"><title>gnuplot_plot_83a</title>\n",
       "<g style=\"fill:none; color:white; stroke:rgb(  0,   0,   0); stroke-width:1.00; stroke-linecap:butt; stroke-linejoin:miter\">\n",
       "</g>\n",
       "<g style=\"fill:none; color:#157545; stroke:currentColor; stroke-width:1.00; stroke-linecap:butt; stroke-linejoin:miter\">\n",
       "\t<g style=\"stroke:none; shape-rendering:crispEdges\">\n",
       "\t\t<polygon fill=\"rgb(  0,   0, 128)\" points=\"198.9,177.5 198.9,177.5 198.9,175.2 202.8,175.2 202.8,177.5 \"/>\n",
       "\t</g>\n",
       "\t<path d=\"M198.9,177.5 L198.9,175.2 L202.8,175.2 L202.8,177.5  h0.01\" stroke=\"rgb(  0,   0, 128)\" stroke-dasharray=\" 2,4\"/></g>\n",
       "\t</g>\n",
       "\t<g id=\"gnuplot_plot_84a\"><title>gnuplot_plot_84a</title>\n",
       "<g style=\"fill:none; color:white; stroke:rgb(  0,   0, 128); stroke-width:0.50; stroke-linecap:butt; stroke-linejoin:miter\">\n",
       "</g>\n",
       "<g style=\"fill:none; color:red; stroke:currentColor; stroke-width:0.50; stroke-linecap:butt; stroke-linejoin:miter\">\n",
       "\t<path d=\"M198.9,177.5 L198.9,175.2 L202.8,175.2 L202.8,177.5 L198.9,177.5  h0.01\" stroke=\"rgb(  0,   0,   0)\"/></g>\n",
       "\t</g>\n",
       "\t<g id=\"gnuplot_plot_85a\"><title>gnuplot_plot_85a</title>\n",
       "<g style=\"fill:none; color:white; stroke:rgb(  0,   0,   0); stroke-width:1.00; stroke-linecap:butt; stroke-linejoin:miter\">\n",
       "</g>\n",
       "<g style=\"fill:none; color:#FF9900; stroke:currentColor; stroke-width:1.00; stroke-linecap:butt; stroke-linejoin:miter\">\n",
       "\t<g style=\"stroke:none; shape-rendering:crispEdges\">\n",
       "\t\t<polygon fill=\"rgb(  0,   0, 128)\" points=\"202.8,177.5 202.8,177.5 202.8,176.7 206.6,176.7 206.6,177.5 \"/>\n",
       "\t</g>\n",
       "\t<path d=\"M202.8,177.5 L202.8,176.7 L206.6,176.7 L206.6,177.5  h0.01\" stroke=\"rgb(  0,   0, 128)\" stroke-dasharray=\" 9,4,1,4,1,4\"/></g>\n",
       "\t</g>\n",
       "\t<g id=\"gnuplot_plot_86a\"><title>gnuplot_plot_86a</title>\n",
       "<g style=\"fill:none; color:white; stroke:rgb(  0,   0, 128); stroke-width:0.50; stroke-linecap:butt; stroke-linejoin:miter\">\n",
       "</g>\n",
       "<g style=\"fill:none; color:red; stroke:currentColor; stroke-width:0.50; stroke-linecap:butt; stroke-linejoin:miter\">\n",
       "\t<path d=\"M202.8,177.5 L202.8,176.7 L206.6,176.7 L206.6,177.5 L202.8,177.5  h0.01\" stroke=\"rgb(  0,   0,   0)\"/></g>\n",
       "\t</g>\n",
       "\t<g id=\"gnuplot_plot_87a\"><title>gnuplot_plot_87a</title>\n",
       "<g style=\"fill:none; color:white; stroke:rgb(  0,   0,   0); stroke-width:1.00; stroke-linecap:butt; stroke-linejoin:miter\">\n",
       "</g>\n",
       "<g style=\"fill:none; color:#D6D645; stroke:currentColor; stroke-width:1.00; stroke-linecap:butt; stroke-linejoin:miter\">\n",
       "\t<g style=\"stroke:none; shape-rendering:crispEdges\">\n",
       "\t\t<polygon fill=\"rgb(  0,   0, 128)\" points=\"206.6,177.5 206.6,177.5 206.6,176.7 210.4,176.7 210.4,177.5 \"/>\n",
       "\t</g>\n",
       "\t<path d=\"M206.6,177.5 L206.6,176.7 L210.4,176.7 L210.4,177.5  h0.01\" stroke=\"rgb(  0,   0, 128)\" stroke-dasharray=\" 5,8\"/></g>\n",
       "\t</g>\n",
       "\t<g id=\"gnuplot_plot_88a\"><title>gnuplot_plot_88a</title>\n",
       "<g style=\"fill:none; color:white; stroke:rgb(  0,   0, 128); stroke-width:0.50; stroke-linecap:butt; stroke-linejoin:miter\">\n",
       "</g>\n",
       "<g style=\"fill:none; color:red; stroke:currentColor; stroke-width:0.50; stroke-linecap:butt; stroke-linejoin:miter\">\n",
       "\t<path d=\"M206.6,177.5 L206.6,176.7 L210.4,176.7 L210.4,177.5 L206.6,177.5  h0.01\" stroke=\"rgb(  0,   0,   0)\"/></g>\n",
       "\t</g>\n",
       "\t<g id=\"gnuplot_plot_89a\"><title>gnuplot_plot_89a</title>\n",
       "<g style=\"fill:none; color:white; stroke:rgb(  0,   0,   0); stroke-width:1.00; stroke-linecap:butt; stroke-linejoin:miter\">\n",
       "</g>\n",
       "<g style=\"fill:none; color:#FFCC00; stroke:currentColor; stroke-width:1.00; stroke-linecap:butt; stroke-linejoin:miter\">\n",
       "\t<g style=\"stroke:none; shape-rendering:crispEdges\">\n",
       "\t\t<polygon fill=\"rgb(  0,   0, 128)\" points=\"210.4,177.5 210.4,177.5 210.4,176.7 214.3,176.7 214.3,177.5 \"/>\n",
       "\t</g>\n",
       "\t<path d=\"M210.4,177.5 L210.4,176.7 L214.3,176.7 L214.3,177.5  h0.01\" stroke=\"rgb(  0,   0, 128)\" stroke-dasharray=\" 8,4,2,4\"/></g>\n",
       "\t</g>\n",
       "\t<g id=\"gnuplot_plot_90a\"><title>gnuplot_plot_90a</title>\n",
       "<g style=\"fill:none; color:white; stroke:rgb(  0,   0, 128); stroke-width:0.50; stroke-linecap:butt; stroke-linejoin:miter\">\n",
       "</g>\n",
       "<g style=\"fill:none; color:red; stroke:currentColor; stroke-width:0.50; stroke-linecap:butt; stroke-linejoin:miter\">\n",
       "\t<path d=\"M210.4,177.5 L210.4,176.7 L214.3,176.7 L214.3,177.5 L210.4,177.5  h0.01\" stroke=\"rgb(  0,   0,   0)\"/></g>\n",
       "\t</g>\n",
       "\t<g id=\"gnuplot_plot_91a\"><title>gnuplot_plot_91a</title>\n",
       "<g style=\"fill:none; color:white; stroke:rgb(  0,   0,   0); stroke-width:1.00; stroke-linecap:butt; stroke-linejoin:miter\">\n",
       "</g>\n",
       "<g style=\"fill:none; color:#ABD600; stroke:currentColor; stroke-width:1.00; stroke-linecap:butt; stroke-linejoin:miter\">\n",
       "\t<g style=\"stroke:none; shape-rendering:crispEdges\">\n",
       "\t\t<polygon fill=\"rgb(  0,   0, 128)\" points=\"214.3,177.5 214.3,177.5 214.3,177.5 218.1,177.5 218.1,177.5 \"/>\n",
       "\t</g>\n",
       "\t<path d=\"M214.3,177.5 L218.1,177.5  h0.01\" stroke=\"rgb(  0,   0, 128)\"/></g>\n",
       "\t</g>\n",
       "\t<g id=\"gnuplot_plot_92a\"><title>gnuplot_plot_92a</title>\n",
       "<g style=\"fill:none; color:white; stroke:rgb(  0,   0, 128); stroke-width:0.50; stroke-linecap:butt; stroke-linejoin:miter\">\n",
       "</g>\n",
       "<g style=\"fill:none; color:red; stroke:currentColor; stroke-width:0.50; stroke-linecap:butt; stroke-linejoin:miter\">\n",
       "\t<path d=\"M214.3,177.5 L218.1,177.5 L214.3,177.5  h0.01\" stroke=\"rgb(  0,   0,   0)\"/></g>\n",
       "\t</g>\n",
       "\t<g id=\"gnuplot_plot_93a\"><title>gnuplot_plot_93a</title>\n",
       "<g style=\"fill:none; color:white; stroke:rgb(  0,   0,   0); stroke-width:1.00; stroke-linecap:butt; stroke-linejoin:miter\">\n",
       "</g>\n",
       "<g style=\"fill:none; color:green; stroke:currentColor; stroke-width:1.00; stroke-linecap:butt; stroke-linejoin:miter\">\n",
       "\t<g style=\"stroke:none; shape-rendering:crispEdges\">\n",
       "\t\t<polygon fill=\"rgb(  0,   0, 128)\" points=\"218.1,177.5 218.1,177.5 218.1,177.5 221.9,177.5 221.9,177.5 \"/>\n",
       "\t</g>\n",
       "\t<path d=\"M218.1,177.5 L221.9,177.5  h0.01\" stroke=\"rgb(  0,   0, 128)\" stroke-dasharray=\" 2,4\"/></g>\n",
       "\t</g>\n",
       "\t<g id=\"gnuplot_plot_94a\"><title>gnuplot_plot_94a</title>\n",
       "<g style=\"fill:none; color:white; stroke:rgb(  0,   0, 128); stroke-width:0.50; stroke-linecap:butt; stroke-linejoin:miter\">\n",
       "</g>\n",
       "<g style=\"fill:none; color:red; stroke:currentColor; stroke-width:0.50; stroke-linecap:butt; stroke-linejoin:miter\">\n",
       "\t<path d=\"M218.1,177.5 L221.9,177.5 L218.1,177.5  h0.01\" stroke=\"rgb(  0,   0,   0)\"/></g>\n",
       "\t</g>\n",
       "\t<g id=\"gnuplot_plot_95a\"><title>gnuplot_plot_95a</title>\n",
       "<g style=\"fill:none; color:white; stroke:rgb(  0,   0,   0); stroke-width:1.00; stroke-linecap:butt; stroke-linejoin:miter\">\n",
       "</g>\n",
       "<g style=\"fill:none; color:cyan; stroke:currentColor; stroke-width:1.00; stroke-linecap:butt; stroke-linejoin:miter\">\n",
       "\t<g style=\"stroke:none; shape-rendering:crispEdges\">\n",
       "\t\t<polygon fill=\"rgb(  0,   0, 128)\" points=\"221.9,177.5 221.9,177.5 221.9,177.5 225.8,177.5 225.8,177.5 \"/>\n",
       "\t</g>\n",
       "\t<path d=\"M221.9,177.5 L225.8,177.5  h0.01\" stroke=\"rgb(  0,   0, 128)\" stroke-dasharray=\" 9,4,1,4,1,4\"/></g>\n",
       "\t</g>\n",
       "\t<g id=\"gnuplot_plot_96a\"><title>gnuplot_plot_96a</title>\n",
       "<g style=\"fill:none; color:white; stroke:rgb(  0,   0, 128); stroke-width:0.50; stroke-linecap:butt; stroke-linejoin:miter\">\n",
       "</g>\n",
       "<g style=\"fill:none; color:red; stroke:currentColor; stroke-width:0.50; stroke-linecap:butt; stroke-linejoin:miter\">\n",
       "\t<path d=\"M221.9,177.5 L225.8,177.5 L221.9,177.5  h0.01\" stroke=\"rgb(  0,   0,   0)\"/></g>\n",
       "\t</g>\n",
       "\t<g id=\"gnuplot_plot_97a\"><title>gnuplot_plot_97a</title>\n",
       "<g style=\"fill:none; color:white; stroke:rgb(  0,   0,   0); stroke-width:1.00; stroke-linecap:butt; stroke-linejoin:miter\">\n",
       "</g>\n",
       "<g style=\"fill:none; color:#000094; stroke:currentColor; stroke-width:1.00; stroke-linecap:butt; stroke-linejoin:miter\">\n",
       "\t<g style=\"stroke:none; shape-rendering:crispEdges\">\n",
       "\t\t<polygon fill=\"rgb(  0,   0, 128)\" points=\"225.8,177.5 225.8,177.5 225.8,177.5 229.6,177.5 229.6,177.5 \"/>\n",
       "\t</g>\n",
       "\t<path d=\"M225.8,177.5 L229.6,177.5  h0.01\" stroke=\"rgb(  0,   0, 128)\" stroke-dasharray=\" 5,8\"/></g>\n",
       "\t</g>\n",
       "\t<g id=\"gnuplot_plot_98a\"><title>gnuplot_plot_98a</title>\n",
       "<g style=\"fill:none; color:white; stroke:rgb(  0,   0, 128); stroke-width:0.50; stroke-linecap:butt; stroke-linejoin:miter\">\n",
       "</g>\n",
       "<g style=\"fill:none; color:red; stroke:currentColor; stroke-width:0.50; stroke-linecap:butt; stroke-linejoin:miter\">\n",
       "\t<path d=\"M225.8,177.5 L229.6,177.5 L225.8,177.5  h0.01\" stroke=\"rgb(  0,   0,   0)\"/></g>\n",
       "\t</g>\n",
       "\t<g id=\"gnuplot_plot_99a\"><title>gnuplot_plot_99a</title>\n",
       "<g style=\"fill:none; color:white; stroke:rgb(  0,   0,   0); stroke-width:1.00; stroke-linecap:butt; stroke-linejoin:miter\">\n",
       "</g>\n",
       "<g style=\"fill:none; color:#0099A1; stroke:currentColor; stroke-width:1.00; stroke-linecap:butt; stroke-linejoin:miter\">\n",
       "\t<g style=\"stroke:none; shape-rendering:crispEdges\">\n",
       "\t\t<polygon fill=\"rgb(  0,   0, 128)\" points=\"229.6,177.5 229.6,177.5 229.6,177.3 233.4,177.3 233.4,177.5 \"/>\n",
       "\t</g>\n",
       "\t<path d=\"M229.6,177.5 L229.6,177.3 L233.4,177.3 L233.4,177.5  h0.01\" stroke=\"rgb(  0,   0, 128)\" stroke-dasharray=\" 8,4,2,4\"/></g>\n",
       "\t</g>\n",
       "\t<g id=\"gnuplot_plot_100a\"><title>gnuplot_plot_100a</title>\n",
       "<g style=\"fill:none; color:white; stroke:rgb(  0,   0, 128); stroke-width:0.50; stroke-linecap:butt; stroke-linejoin:miter\">\n",
       "</g>\n",
       "<g style=\"fill:none; color:red; stroke:currentColor; stroke-width:0.50; stroke-linecap:butt; stroke-linejoin:miter\">\n",
       "\t<path d=\"M229.6,177.5 L229.6,177.3 L233.4,177.3 L233.4,177.5 L229.6,177.5  h0.01\" stroke=\"rgb(  0,   0,   0)\"/></g>\n",
       "\t</g>\n",
       "\t<g id=\"gnuplot_plot_101a\"><title>gnuplot_plot_101a</title>\n",
       "<g style=\"fill:none; color:red; stroke:currentColor; stroke-width:0.50; stroke-linecap:butt; stroke-linejoin:miter\">\n",
       "\t<path d=\"M30.2,177.5 L252.2,177.5  h0.01\" stroke=\"rgb(  0,   0,   0)\"/></g>\n",
       "\t</g>\n",
       "<g style=\"fill:none; color:black; stroke:currentColor; stroke-width:0.50; stroke-linecap:butt; stroke-linejoin:miter\">\n",
       "</g>\n",
       "</g>\n",
       "</svg>"
      ],
      "text/plain": [
       "<IPython.core.display.SVG object>"
      ]
     },
     "metadata": {},
     "output_type": "display_data"
    },
    {
     "data": {
      "text/plain": [
       "\n"
      ]
     },
     "execution_count": 17,
     "metadata": {},
     "output_type": "execute_result"
    }
   ],
   "source": [
    "hist(w,50) % histogram 50 bins of a Gaussian with mean minus 6"
   ]
  },
  {
   "cell_type": "markdown",
   "metadata": {},
   "source": [
    "## 7) Identity matrix"
   ]
  },
  {
   "cell_type": "code",
   "execution_count": 18,
   "metadata": {
    "collapsed": false
   },
   "outputs": [
    {
     "data": {
      "text/plain": [
       "\n",
       "ans =\n",
       "\n",
       "Diagonal Matrix\n",
       "\n",
       "   1   0   0   0\n",
       "   0   1   0   0\n",
       "   0   0   1   0\n",
       "   0   0   0   1\n",
       "\n"
      ]
     },
     "execution_count": 18,
     "metadata": {},
     "output_type": "execute_result"
    }
   ],
   "source": [
    "eye(4)"
   ]
  },
  {
   "cell_type": "code",
   "execution_count": 19,
   "metadata": {
    "collapsed": false
   },
   "outputs": [
    {
     "data": {
      "text/plain": [
       "\n",
       "I =\n",
       "\n",
       "Diagonal Matrix\n",
       "\n",
       "   1   0   0   0   0   0\n",
       "   0   1   0   0   0   0\n",
       "   0   0   1   0   0   0\n",
       "   0   0   0   1   0   0\n",
       "   0   0   0   0   1   0\n",
       "   0   0   0   0   0   1\n",
       "\n"
      ]
     },
     "execution_count": 19,
     "metadata": {},
     "output_type": "execute_result"
    }
   ],
   "source": [
    "I = eye(6)"
   ]
  },
  {
   "cell_type": "markdown",
   "metadata": {},
   "source": [
    "# 8) Help"
   ]
  },
  {
   "cell_type": "code",
   "execution_count": 20,
   "metadata": {
    "collapsed": false
   },
   "outputs": [
    {
     "data": {
      "text/plain": [
       "\n",
       "cygwin warning:\n",
       "  MS-DOS style path detected: C:\\Users\\tvu\\AppData\\Local\\Temp\\octave-help-NO8EbX.txi\n",
       "  Preferred POSIX equivalent is: /cygdrive/c/Users/tvu/AppData/Local/Temp/octave-help-NO8EbX.txi\n",
       "  CYGWIN environment variable option \"nodosfilewarning\" turns off this warning.\n",
       "  Consult the user's guide for more details about POSIX paths:\n",
       "    http://cygwin.com/cygwin-ug-net/using.html#using-pathnames\n",
       "'eye' is a built-in function from the file libinterp/corefcn/data.cc\n",
       "\n",
       " -- Built-in Function:  eye (N)\n",
       " -- Built-in Function:  eye (M, N)\n",
       " -- Built-in Function:  eye ([M N])\n",
       " -- Built-in Function:  eye (..., CLASS)\n",
       "     Return an identity matrix.  If invoked with a single scalar\n",
       "     argument N, return a square NxN identity matrix.  If supplied two\n",
       "     scalar arguments (M, N), `eye' takes them to be the number of rows\n",
       "     and columns.  If given a vector with two elements, `eye' uses the\n",
       "     values of the elements as the number of rows and columns,\n",
       "     respectively.  For example:\n",
       "\n",
       "          eye (3)\n",
       "           =>  1  0  0\n",
       "               0  1  0\n",
       "               0  0  1\n",
       "\n",
       "     The following expressions all produce the same result:\n",
       "\n",
       "          eye (2)\n",
       "          ==\n",
       "          eye (2, 2)\n",
       "          ==\n",
       "          eye (size ([1, 2; 3, 4])\n",
       "\n",
       "     The optional argument CLASS, allows `eye' to return an array of\n",
       "     the specified type, like\n",
       "\n",
       "          val = zeros (n,m, \"uint8\")\n",
       "\n",
       "     Calling `eye' with no arguments is equivalent to calling it with\n",
       "     an argument of 1.  Any negative dimensions are treated as zero.\n",
       "     These odd definitions are for compatibility with MATLAB.\n",
       "\n",
       "     See also: speye, ones, zeros.\n",
       "\n",
       "\n",
       "\n",
       "Additional help for built-in functions and operators is\n",
       "available in the online version of the manual.  Use the command\n",
       "'doc <topic>' to search the manual index.\n",
       "\n",
       "Help and information about Octave is also available on the WWW\n",
       "at http://www.octave.org and via the help@octave.org\n",
       "mailing list.\n"
      ]
     },
     "execution_count": 20,
     "metadata": {},
     "output_type": "execute_result"
    }
   ],
   "source": [
    "help eye"
   ]
  }
 ],
 "metadata": {
  "kernelspec": {
   "display_name": "Octave",
   "language": "octave",
   "name": "octave_kernel"
  },
  "language_info": {
   "codemirror_mode": "Octave",
   "file_extension": ".m",
   "help_links": [
    {
     "text": "MetaKernel Magics",
     "url": "https://github.com/calysto/metakernel/blob/master/metakernel/magics/README.md"
    }
   ],
   "mimetype": "text/x-octave",
   "name": "octave_kernel"
  }
 },
 "nbformat": 4,
 "nbformat_minor": 0
}
