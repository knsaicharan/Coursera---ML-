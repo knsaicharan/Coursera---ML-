{
 "cells": [
  {
   "cell_type": "markdown",
   "metadata": {},
   "source": [
    "# Table of Contents\n",
    "* [1) Matrix Multiplication](#1%29-Matrix-Multiplication)\t\n",
    "* [2) Element wise](#2%29-Element-wise)\n",
    "    * [1) Multiplication](#1%29-Multiplication)\n",
    "\t* [2) square](#2%29-square)\n",
    "    * [3) inverse](#3%29-inverse)\n",
    "    * [4) log, exp, abs](#4%29-log%2C-exp%2C-abs)\n",
    "    * [5) increment each element](#5%29-increment-each-element)\n",
    "    * [6) Transpose](#6%29-Transpose)\n",
    "    * [7) value, index](#7%29-value%2C-index)\n",
    "* [3) magic](#3%29-magic)   \n",
    "* [4) find](#4%29-find)\n",
    "* [5) sum](#5%29-sum)\n",
    "* [6) prod](#6%29-prod)\n",
    "* [7) round](#7%29-round)\n",
    "* [8) max](#8%29-max)\n",
    "* [9) sum](#9%29-sum)\n",
    "* [10) Inverse of matrix](#10%29-Inverse-of-matrix)"
   ]
  },
  {
   "cell_type": "code",
   "execution_count": 2,
   "metadata": {
    "collapsed": false
   },
   "outputs": [
    {
     "data": {
      "text/plain": [
       "\n"
      ]
     },
     "execution_count": 2,
     "metadata": {},
     "output_type": "execute_result"
    }
   ],
   "source": [
    "A = [1 2; 3 4; 5 6];\n",
    "B = [11 12; 13 14; 15 16];\n",
    "C = [1 1; 2 2];"
   ]
  },
  {
   "cell_type": "markdown",
   "metadata": {},
   "source": [
    "# 1) Matrix Multiplication"
   ]
  },
  {
   "cell_type": "code",
   "execution_count": 3,
   "metadata": {
    "collapsed": false
   },
   "outputs": [
    {
     "data": {
      "text/plain": [
       "\n",
       "ans =\n",
       "\n",
       "    5    5\n",
       "   11   11\n",
       "   17   17\n",
       "\n"
      ]
     },
     "execution_count": 3,
     "metadata": {},
     "output_type": "execute_result"
    }
   ],
   "source": [
    "A * C"
   ]
  },
  {
   "cell_type": "markdown",
   "metadata": {},
   "source": [
    "# 2) Element wise"
   ]
  },
  {
   "cell_type": "markdown",
   "metadata": {},
   "source": [
    "## 1) Multiplication"
   ]
  },
  {
   "cell_type": "code",
   "execution_count": 4,
   "metadata": {
    "collapsed": false
   },
   "outputs": [
    {
     "data": {
      "text/plain": [
       "\n",
       "ans =\n",
       "\n",
       "   11   24\n",
       "   39   56\n",
       "   75   96\n",
       "\n"
      ]
     },
     "execution_count": 4,
     "metadata": {},
     "output_type": "execute_result"
    }
   ],
   "source": [
    "A .* B % each element in A will multiply by a correspond element in B"
   ]
  },
  {
   "cell_type": "markdown",
   "metadata": {},
   "source": [
    "## 2) square"
   ]
  },
  {
   "cell_type": "code",
   "execution_count": 5,
   "metadata": {
    "collapsed": false
   },
   "outputs": [
    {
     "data": {
      "text/plain": [
       "\n",
       "ans =\n",
       "\n",
       "    1    4\n",
       "    9   16\n",
       "   25   36\n",
       "\n"
      ]
     },
     "execution_count": 5,
     "metadata": {},
     "output_type": "execute_result"
    }
   ],
   "source": [
    "A .^ 2 % element square"
   ]
  },
  {
   "cell_type": "markdown",
   "metadata": {},
   "source": [
    "## 3) inverse"
   ]
  },
  {
   "cell_type": "code",
   "execution_count": 6,
   "metadata": {
    "collapsed": false
   },
   "outputs": [
    {
     "data": {
      "text/plain": [
       "\n",
       "v =\n",
       "\n",
       "   1\n",
       "   2\n",
       "   3\n",
       "\n"
      ]
     },
     "execution_count": 6,
     "metadata": {},
     "output_type": "execute_result"
    }
   ],
   "source": [
    "v = [1; 2; 3]"
   ]
  },
  {
   "cell_type": "code",
   "execution_count": 9,
   "metadata": {
    "collapsed": false
   },
   "outputs": [
    {
     "data": {
      "text/plain": [
       "\n",
       "ans =\n",
       "\n",
       "   1.00000\n",
       "   0.50000\n",
       "   0.33333\n",
       "\n"
      ]
     },
     "execution_count": 9,
     "metadata": {},
     "output_type": "execute_result"
    }
   ],
   "source": [
    "1 ./ v % element-wise reciprocal of v, meaning 1/1, 1/2, 1/3"
   ]
  },
  {
   "cell_type": "code",
   "execution_count": 10,
   "metadata": {
    "collapsed": false
   },
   "outputs": [
    {
     "data": {
      "text/plain": [
       "\n",
       "ans =\n",
       "\n",
       "   1.00000   0.50000\n",
       "   0.33333   0.25000\n",
       "   0.20000   0.16667\n",
       "\n"
      ]
     },
     "execution_count": 10,
     "metadata": {},
     "output_type": "execute_result"
    }
   ],
   "source": [
    "1 ./ A % element wise inverse of A"
   ]
  },
  {
   "cell_type": "markdown",
   "metadata": {},
   "source": [
    "## 4) log, exp, abs"
   ]
  },
  {
   "cell_type": "code",
   "execution_count": 12,
   "metadata": {
    "collapsed": false
   },
   "outputs": [
    {
     "data": {
      "text/plain": [
       "\n",
       "ans =\n",
       "\n",
       "   0.00000\n",
       "   0.69315\n",
       "   1.09861\n",
       "\n"
      ]
     },
     "execution_count": 12,
     "metadata": {},
     "output_type": "execute_result"
    }
   ],
   "source": [
    "log(v)"
   ]
  },
  {
   "cell_type": "code",
   "execution_count": 13,
   "metadata": {
    "collapsed": false
   },
   "outputs": [
    {
     "data": {
      "text/plain": [
       "\n",
       "ans =\n",
       "\n",
       "    2.7183\n",
       "    7.3891\n",
       "   20.0855\n",
       "\n"
      ]
     },
     "execution_count": 13,
     "metadata": {},
     "output_type": "execute_result"
    }
   ],
   "source": [
    "exp(v)"
   ]
  },
  {
   "cell_type": "code",
   "execution_count": 14,
   "metadata": {
    "collapsed": false
   },
   "outputs": [
    {
     "data": {
      "text/plain": [
       "\n",
       "ans =\n",
       "\n",
       "   1\n",
       "   2\n",
       "   3\n",
       "\n"
      ]
     },
     "execution_count": 14,
     "metadata": {},
     "output_type": "execute_result"
    }
   ],
   "source": [
    "abs(v)"
   ]
  },
  {
   "cell_type": "code",
   "execution_count": 15,
   "metadata": {
    "collapsed": false
   },
   "outputs": [
    {
     "data": {
      "text/plain": [
       "\n",
       "ans =\n",
       "\n",
       "   1\n",
       "   2\n",
       "   3\n",
       "\n"
      ]
     },
     "execution_count": 15,
     "metadata": {},
     "output_type": "execute_result"
    }
   ],
   "source": [
    "abs([-1; 2; -3])"
   ]
  },
  {
   "cell_type": "code",
   "execution_count": 16,
   "metadata": {
    "collapsed": false
   },
   "outputs": [
    {
     "data": {
      "text/plain": [
       "\n",
       "ans =\n",
       "\n",
       "  -1\n",
       "  -2\n",
       "  -3\n",
       "\n"
      ]
     },
     "execution_count": 16,
     "metadata": {},
     "output_type": "execute_result"
    }
   ],
   "source": [
    "-v % -1*v"
   ]
  },
  {
   "cell_type": "markdown",
   "metadata": {},
   "source": [
    "## 5) increment each element"
   ]
  },
  {
   "cell_type": "code",
   "execution_count": 17,
   "metadata": {
    "collapsed": false
   },
   "outputs": [
    {
     "data": {
      "text/plain": [
       "\n",
       "ans =\n",
       "\n",
       "   2\n",
       "   3\n",
       "   4\n",
       "\n"
      ]
     },
     "execution_count": 17,
     "metadata": {},
     "output_type": "execute_result"
    }
   ],
   "source": [
    "v + ones(length(v), 1) % increment each element of vector v by 1"
   ]
  },
  {
   "cell_type": "code",
   "execution_count": 19,
   "metadata": {
    "collapsed": false
   },
   "outputs": [
    {
     "data": {
      "text/plain": [
       "\n",
       "ans =\n",
       "\n",
       "   2\n",
       "   3\n",
       "   4\n",
       "\n"
      ]
     },
     "execution_count": 19,
     "metadata": {},
     "output_type": "execute_result"
    }
   ],
   "source": [
    "v + ones(3,1)"
   ]
  },
  {
   "cell_type": "code",
   "execution_count": 21,
   "metadata": {
    "collapsed": false
   },
   "outputs": [
    {
     "data": {
      "text/plain": [
       "\n",
       "ans =\n",
       "\n",
       "   2\n",
       "   3\n",
       "   4\n",
       "\n"
      ]
     },
     "execution_count": 21,
     "metadata": {},
     "output_type": "execute_result"
    }
   ],
   "source": [
    "v + 1 % simplier way"
   ]
  },
  {
   "cell_type": "markdown",
   "metadata": {},
   "source": [
    "## 6) Transpose"
   ]
  },
  {
   "cell_type": "code",
   "execution_count": 22,
   "metadata": {
    "collapsed": false
   },
   "outputs": [
    {
     "data": {
      "text/plain": [
       "\n",
       "ans =\n",
       "\n",
       "   1   3   5\n",
       "   2   4   6\n",
       "\n"
      ]
     },
     "execution_count": 22,
     "metadata": {},
     "output_type": "execute_result"
    }
   ],
   "source": [
    "A'"
   ]
  },
  {
   "cell_type": "code",
   "execution_count": 23,
   "metadata": {
    "collapsed": false
   },
   "outputs": [
    {
     "data": {
      "text/plain": [
       "\n",
       "ans =\n",
       "\n",
       "   1   2\n",
       "   3   4\n",
       "   5   6\n",
       "\n"
      ]
     },
     "execution_count": 23,
     "metadata": {},
     "output_type": "execute_result"
    }
   ],
   "source": [
    "(A')'"
   ]
  },
  {
   "cell_type": "markdown",
   "metadata": {},
   "source": [
    "## 7) value, index"
   ]
  },
  {
   "cell_type": "code",
   "execution_count": 24,
   "metadata": {
    "collapsed": false
   },
   "outputs": [
    {
     "data": {
      "text/plain": [
       "\n",
       "a =\n",
       "\n",
       "    1.00000   15.00000    2.00000    0.50000\n",
       "\n"
      ]
     },
     "execution_count": 24,
     "metadata": {},
     "output_type": "execute_result"
    }
   ],
   "source": [
    "a = [1 15 2 0.5]"
   ]
  },
  {
   "cell_type": "code",
   "execution_count": 25,
   "metadata": {
    "collapsed": false
   },
   "outputs": [
    {
     "data": {
      "text/plain": [
       "\n",
       "val =  15\n"
      ]
     },
     "execution_count": 25,
     "metadata": {},
     "output_type": "execute_result"
    }
   ],
   "source": [
    "val = max(a)"
   ]
  },
  {
   "cell_type": "code",
   "execution_count": 26,
   "metadata": {
    "collapsed": false
   },
   "outputs": [
    {
     "data": {
      "text/plain": [
       "\n",
       "val =  15\n",
       "ind =  2\n"
      ]
     },
     "execution_count": 26,
     "metadata": {},
     "output_type": "execute_result"
    }
   ],
   "source": [
    "[val, ind] = max(a) % value and index of maximum value of a"
   ]
  },
  {
   "cell_type": "code",
   "execution_count": 27,
   "metadata": {
    "collapsed": false
   },
   "outputs": [
    {
     "data": {
      "text/plain": [
       "\n",
       "ans =\n",
       "\n",
       "   5   6\n",
       "\n"
      ]
     },
     "execution_count": 27,
     "metadata": {},
     "output_type": "execute_result"
    }
   ],
   "source": [
    "max(A) % column wise maximum"
   ]
  },
  {
   "cell_type": "code",
   "execution_count": 28,
   "metadata": {
    "collapsed": false
   },
   "outputs": [
    {
     "data": {
      "text/plain": [
       "\n",
       "ans =\n",
       "\n",
       "   1   0   1   1\n",
       "\n"
      ]
     },
     "execution_count": 28,
     "metadata": {},
     "output_type": "execute_result"
    }
   ],
   "source": [
    "a < 3 % element wise comparison"
   ]
  },
  {
   "cell_type": "markdown",
   "metadata": {},
   "source": [
    "# 3) magic"
   ]
  },
  {
   "cell_type": "code",
   "execution_count": 29,
   "metadata": {
    "collapsed": false
   },
   "outputs": [
    {
     "data": {
      "text/plain": [
       "\n",
       "cygwin warning:\n",
       "  MS-DOS style path detected: C:\\Users\\tvu\\AppData\\Local\\Temp\\octave-help-v40ApF.txi\n",
       "  Preferred POSIX equivalent is: /cygdrive/c/Users/tvu/AppData/Local/Temp/octave-help-v40ApF.txi\n",
       "  CYGWIN environment variable option \"nodosfilewarning\" turns off this warning.\n",
       "  Consult the user's guide for more details about POSIX paths:\n",
       "    http://cygwin.com/cygwin-ug-net/using.html#using-pathnames\n",
       "'magic' is a function from the file C:\\Octave\\Octave-3.8.2\\share\\octave\\3.8.2\\m\\special-matrix\\magic.m\n",
       "\n",
       " -- Function File:  magic (N)\n",
       "     Create an N-by-N magic square.  A magic square is an arrangement\n",
       "     of the integers `1:n^2' such that the row sums, column sums, and\n",
       "     diagonal sums are all equal to the same value.\n",
       "\n",
       "     Note: N must be greater than 2 for the magic square to exist.\n",
       "\n",
       "\n",
       "Additional help for built-in functions and operators is\n",
       "available in the online version of the manual.  Use the command\n",
       "'doc <topic>' to search the manual index.\n",
       "\n",
       "Help and information about Octave is also available on the WWW\n",
       "at http://www.octave.org and via the help@octave.org\n",
       "mailing list.\n"
      ]
     },
     "execution_count": 29,
     "metadata": {},
     "output_type": "execute_result"
    }
   ],
   "source": [
    "help magic"
   ]
  },
  {
   "cell_type": "code",
   "execution_count": 30,
   "metadata": {
    "collapsed": false
   },
   "outputs": [
    {
     "data": {
      "text/plain": [
       "\n",
       "A =\n",
       "\n",
       "   8   1   6\n",
       "   3   5   7\n",
       "   4   9   2\n",
       "\n"
      ]
     },
     "execution_count": 30,
     "metadata": {},
     "output_type": "execute_result"
    }
   ],
   "source": [
    "A = magic(3) % sum of each rows, columns, diagonal add up to same value"
   ]
  },
  {
   "cell_type": "markdown",
   "metadata": {},
   "source": [
    "# 4) find"
   ]
  },
  {
   "cell_type": "code",
   "execution_count": 31,
   "metadata": {
    "collapsed": false
   },
   "outputs": [
    {
     "data": {
      "text/plain": [
       "\n",
       "r =\n",
       "\n",
       "   1\n",
       "   3\n",
       "   2\n",
       "\n",
       "c =\n",
       "\n",
       "   1\n",
       "   2\n",
       "   3\n",
       "\n"
      ]
     },
     "execution_count": 31,
     "metadata": {},
     "output_type": "execute_result"
    }
   ],
   "source": [
    "[r,c] = find(A >= 7) % row and column"
   ]
  },
  {
   "cell_type": "markdown",
   "metadata": {},
   "source": [
    "# 5) sum"
   ]
  },
  {
   "cell_type": "code",
   "execution_count": 34,
   "metadata": {
    "collapsed": false
   },
   "outputs": [
    {
     "data": {
      "text/plain": [
       "\n",
       "a =\n",
       "\n",
       "    1.00000   15.00000    2.00000    0.50000\n",
       "\n"
      ]
     },
     "execution_count": 34,
     "metadata": {},
     "output_type": "execute_result"
    }
   ],
   "source": [
    "a"
   ]
  },
  {
   "cell_type": "code",
   "execution_count": 32,
   "metadata": {
    "collapsed": false
   },
   "outputs": [
    {
     "data": {
      "text/plain": [
       "\n",
       "ans =  18.500\n"
      ]
     },
     "execution_count": 32,
     "metadata": {},
     "output_type": "execute_result"
    }
   ],
   "source": [
    "sum(a) # sum all values"
   ]
  },
  {
   "cell_type": "markdown",
   "metadata": {},
   "source": [
    "# 6) prod"
   ]
  },
  {
   "cell_type": "code",
   "execution_count": 33,
   "metadata": {
    "collapsed": false
   },
   "outputs": [
    {
     "data": {
      "text/plain": [
       "\n",
       "ans =  15\n"
      ]
     },
     "execution_count": 33,
     "metadata": {},
     "output_type": "execute_result"
    }
   ],
   "source": [
    "prod(a) # multiply (product) of all values"
   ]
  },
  {
   "cell_type": "markdown",
   "metadata": {},
   "source": [
    "# 7) round"
   ]
  },
  {
   "cell_type": "code",
   "execution_count": 35,
   "metadata": {
    "collapsed": false
   },
   "outputs": [
    {
     "data": {
      "text/plain": [
       "\n",
       "ans =\n",
       "\n",
       "    1   15    2    0\n",
       "\n"
      ]
     },
     "execution_count": 35,
     "metadata": {},
     "output_type": "execute_result"
    }
   ],
   "source": [
    "floor(a) % round values down"
   ]
  },
  {
   "cell_type": "code",
   "execution_count": 36,
   "metadata": {
    "collapsed": false
   },
   "outputs": [
    {
     "data": {
      "text/plain": [
       "\n",
       "ans =\n",
       "\n",
       "    1   15    2    1\n",
       "\n"
      ]
     },
     "execution_count": 36,
     "metadata": {},
     "output_type": "execute_result"
    }
   ],
   "source": [
    "ceil(a) % round values up"
   ]
  },
  {
   "cell_type": "markdown",
   "metadata": {},
   "source": [
    "# 8) max"
   ]
  },
  {
   "cell_type": "code",
   "execution_count": 37,
   "metadata": {
    "collapsed": false
   },
   "outputs": [
    {
     "data": {
      "text/plain": [
       "\n",
       "ans =\n",
       "\n",
       "   0.673778   0.586378   0.163423\n",
       "   0.745156   0.142469   0.070520\n",
       "   0.852210   0.905210   0.967721\n",
       "\n"
      ]
     },
     "execution_count": 37,
     "metadata": {},
     "output_type": "execute_result"
    }
   ],
   "source": [
    "rand(3)"
   ]
  },
  {
   "cell_type": "code",
   "execution_count": 38,
   "metadata": {
    "collapsed": false
   },
   "outputs": [
    {
     "data": {
      "text/plain": [
       "\n",
       "ans =\n",
       "\n",
       "   0.22275   0.69232   0.83753\n",
       "   0.83406   0.57054   0.89492\n",
       "   0.61636   0.83527   0.51613\n",
       "\n"
      ]
     },
     "execution_count": 38,
     "metadata": {},
     "output_type": "execute_result"
    }
   ],
   "source": [
    "max(rand(3), rand(3)) % element wise max of 2 random generated matrices"
   ]
  },
  {
   "cell_type": "code",
   "execution_count": 39,
   "metadata": {
    "collapsed": false
   },
   "outputs": [
    {
     "data": {
      "text/plain": [
       "\n",
       "A =\n",
       "\n",
       "   8   1   6\n",
       "   3   5   7\n",
       "   4   9   2\n",
       "\n"
      ]
     },
     "execution_count": 39,
     "metadata": {},
     "output_type": "execute_result"
    }
   ],
   "source": [
    "A"
   ]
  },
  {
   "cell_type": "code",
   "execution_count": 40,
   "metadata": {
    "collapsed": false
   },
   "outputs": [
    {
     "data": {
      "text/plain": [
       "\n",
       "ans =\n",
       "\n",
       "   8   9   7\n",
       "\n"
      ]
     },
     "execution_count": 40,
     "metadata": {},
     "output_type": "execute_result"
    }
   ],
   "source": [
    "max(A, [], 1) % max by first dimension (column)"
   ]
  },
  {
   "cell_type": "code",
   "execution_count": 41,
   "metadata": {
    "collapsed": false
   },
   "outputs": [
    {
     "data": {
      "text/plain": [
       "\n",
       "ans =\n",
       "\n",
       "   8\n",
       "   7\n",
       "   9\n",
       "\n"
      ]
     },
     "execution_count": 41,
     "metadata": {},
     "output_type": "execute_result"
    }
   ],
   "source": [
    "max(A, [], 2) %  max by second dimension (row)"
   ]
  },
  {
   "cell_type": "code",
   "execution_count": 42,
   "metadata": {
    "collapsed": false
   },
   "outputs": [
    {
     "data": {
      "text/plain": [
       "\n",
       "ans =  9\n"
      ]
     },
     "execution_count": 42,
     "metadata": {},
     "output_type": "execute_result"
    }
   ],
   "source": [
    "max(max(A)) # get maximum value of the whole matrix"
   ]
  },
  {
   "cell_type": "code",
   "execution_count": 43,
   "metadata": {
    "collapsed": false
   },
   "outputs": [
    {
     "data": {
      "text/plain": [
       "\n",
       "ans =\n",
       "\n",
       "   8\n",
       "   3\n",
       "   4\n",
       "   1\n",
       "   5\n",
       "   9\n",
       "   6\n",
       "   7\n",
       "   2\n",
       "\n"
      ]
     },
     "execution_count": 43,
     "metadata": {},
     "output_type": "execute_result"
    }
   ],
   "source": [
    "A(:) # turn matrix to vector"
   ]
  },
  {
   "cell_type": "code",
   "execution_count": 44,
   "metadata": {
    "collapsed": false
   },
   "outputs": [
    {
     "data": {
      "text/plain": [
       "\n",
       "ans =  9\n"
      ]
     },
     "execution_count": 44,
     "metadata": {},
     "output_type": "execute_result"
    }
   ],
   "source": [
    "max(A(:)) # max of vector"
   ]
  },
  {
   "cell_type": "markdown",
   "metadata": {},
   "source": [
    "# 9) sum"
   ]
  },
  {
   "cell_type": "code",
   "execution_count": 45,
   "metadata": {
    "collapsed": false
   },
   "outputs": [
    {
     "data": {
      "text/plain": [
       "\n",
       "A =\n",
       "\n",
       "   47   58   69   80    1   12   23   34   45\n",
       "   57   68   79    9   11   22   33   44   46\n",
       "   67   78    8   10   21   32   43   54   56\n",
       "   77    7   18   20   31   42   53   55   66\n",
       "    6   17   19   30   41   52   63   65   76\n",
       "   16   27   29   40   51   62   64   75    5\n",
       "   26   28   39   50   61   72   74    4   15\n",
       "   36   38   49   60   71   73    3   14   25\n",
       "   37   48   59   70   81    2   13   24   35\n",
       "\n"
      ]
     },
     "execution_count": 45,
     "metadata": {},
     "output_type": "execute_result"
    }
   ],
   "source": [
    "A = magic(9)"
   ]
  },
  {
   "cell_type": "code",
   "execution_count": 46,
   "metadata": {
    "collapsed": false
   },
   "outputs": [
    {
     "data": {
      "text/plain": [
       "\n",
       "ans =\n",
       "\n",
       "   369   369   369   369   369   369   369   369   369\n",
       "\n"
      ]
     },
     "execution_count": 46,
     "metadata": {},
     "output_type": "execute_result"
    }
   ],
   "source": [
    "sum(A,1) # column wise sum"
   ]
  },
  {
   "cell_type": "code",
   "execution_count": 47,
   "metadata": {
    "collapsed": false
   },
   "outputs": [
    {
     "data": {
      "text/plain": [
       "\n",
       "ans =\n",
       "\n",
       "   369\n",
       "   369\n",
       "   369\n",
       "   369\n",
       "   369\n",
       "   369\n",
       "   369\n",
       "   369\n",
       "   369\n",
       "\n"
      ]
     },
     "execution_count": 47,
     "metadata": {},
     "output_type": "execute_result"
    }
   ],
   "source": [
    "sum(A,2) # row wise sum"
   ]
  },
  {
   "cell_type": "code",
   "execution_count": 48,
   "metadata": {
    "collapsed": false
   },
   "outputs": [
    {
     "data": {
      "text/plain": [
       "\n",
       "ans =\n",
       "\n",
       "Diagonal Matrix\n",
       "\n",
       "   1   0   0   0   0   0   0   0   0\n",
       "   0   1   0   0   0   0   0   0   0\n",
       "   0   0   1   0   0   0   0   0   0\n",
       "   0   0   0   1   0   0   0   0   0\n",
       "   0   0   0   0   1   0   0   0   0\n",
       "   0   0   0   0   0   1   0   0   0\n",
       "   0   0   0   0   0   0   1   0   0\n",
       "   0   0   0   0   0   0   0   1   0\n",
       "   0   0   0   0   0   0   0   0   1\n",
       "\n"
      ]
     },
     "execution_count": 48,
     "metadata": {},
     "output_type": "execute_result"
    }
   ],
   "source": [
    "eye(9)"
   ]
  },
  {
   "cell_type": "code",
   "execution_count": 49,
   "metadata": {
    "collapsed": false
   },
   "outputs": [
    {
     "data": {
      "text/plain": [
       "\n",
       "ans =\n",
       "\n",
       "   47    0    0    0    0    0    0    0    0\n",
       "    0   68    0    0    0    0    0    0    0\n",
       "    0    0    8    0    0    0    0    0    0\n",
       "    0    0    0   20    0    0    0    0    0\n",
       "    0    0    0    0   41    0    0    0    0\n",
       "    0    0    0    0    0   62    0    0    0\n",
       "    0    0    0    0    0    0   74    0    0\n",
       "    0    0    0    0    0    0    0   14    0\n",
       "    0    0    0    0    0    0    0    0   35\n",
       "\n"
      ]
     },
     "execution_count": 49,
     "metadata": {},
     "output_type": "execute_result"
    }
   ],
   "source": [
    "A .* eye(9) % keep only diagonal entry of A"
   ]
  },
  {
   "cell_type": "code",
   "execution_count": 50,
   "metadata": {
    "collapsed": false
   },
   "outputs": [
    {
     "data": {
      "text/plain": [
       "\n",
       "ans =  369\n"
      ]
     },
     "execution_count": 50,
     "metadata": {},
     "output_type": "execute_result"
    }
   ],
   "source": [
    "sum(sum(A .* eye(9))) % sum of diagonal"
   ]
  },
  {
   "cell_type": "code",
   "execution_count": 51,
   "metadata": {
    "collapsed": false
   },
   "outputs": [
    {
     "data": {
      "text/plain": [
       "\n",
       "ans =\n",
       "\n",
       "Permutation Matrix\n",
       "\n",
       "   0   0   0   0   0   0   0   0   1\n",
       "   0   0   0   0   0   0   0   1   0\n",
       "   0   0   0   0   0   0   1   0   0\n",
       "   0   0   0   0   0   1   0   0   0\n",
       "   0   0   0   0   1   0   0   0   0\n",
       "   0   0   0   1   0   0   0   0   0\n",
       "   0   0   1   0   0   0   0   0   0\n",
       "   0   1   0   0   0   0   0   0   0\n",
       "   1   0   0   0   0   0   0   0   0\n",
       "\n"
      ]
     },
     "execution_count": 51,
     "metadata": {},
     "output_type": "execute_result"
    }
   ],
   "source": [
    "flipud(eye(9))"
   ]
  },
  {
   "cell_type": "code",
   "execution_count": 52,
   "metadata": {
    "collapsed": false
   },
   "outputs": [
    {
     "data": {
      "text/plain": [
       "\n",
       "ans =  369\n"
      ]
     },
     "execution_count": 52,
     "metadata": {},
     "output_type": "execute_result"
    }
   ],
   "source": [
    "sum(sum(A.*flipud(eye(9)))) % sum of the opposite of the diagonal"
   ]
  },
  {
   "cell_type": "markdown",
   "metadata": {},
   "source": [
    "# 10) Inverse of matrix"
   ]
  },
  {
   "cell_type": "code",
   "execution_count": 53,
   "metadata": {
    "collapsed": false
   },
   "outputs": [
    {
     "data": {
      "text/plain": [
       "\n",
       "A =\n",
       "\n",
       "   8   1   6\n",
       "   3   5   7\n",
       "   4   9   2\n",
       "\n"
      ]
     },
     "execution_count": 53,
     "metadata": {},
     "output_type": "execute_result"
    }
   ],
   "source": [
    "A = magic(3)"
   ]
  },
  {
   "cell_type": "code",
   "execution_count": 54,
   "metadata": {
    "collapsed": false
   },
   "outputs": [
    {
     "data": {
      "text/plain": [
       "\n",
       "ans =\n",
       "\n",
       "   0.147222  -0.144444   0.063889\n",
       "  -0.061111   0.022222   0.105556\n",
       "  -0.019444   0.188889  -0.102778\n",
       "\n"
      ]
     },
     "execution_count": 54,
     "metadata": {},
     "output_type": "execute_result"
    }
   ],
   "source": [
    "pinv(A) % inverse of matrix A"
   ]
  },
  {
   "cell_type": "code",
   "execution_count": 55,
   "metadata": {
    "collapsed": false
   },
   "outputs": [
    {
     "data": {
      "text/plain": [
       "\n",
       "temp =\n",
       "\n",
       "   0.147222  -0.144444   0.063889\n",
       "  -0.061111   0.022222   0.105556\n",
       "  -0.019444   0.188889  -0.102778\n",
       "\n"
      ]
     },
     "execution_count": 55,
     "metadata": {},
     "output_type": "execute_result"
    }
   ],
   "source": [
    "temp = pinv(A)"
   ]
  },
  {
   "cell_type": "code",
   "execution_count": 56,
   "metadata": {
    "collapsed": false
   },
   "outputs": [
    {
     "data": {
      "text/plain": [
       "\n",
       "ans =\n",
       "\n",
       "   1.00000   0.00000  -0.00000\n",
       "  -0.00000   1.00000   0.00000\n",
       "   0.00000  -0.00000   1.00000\n",
       "\n"
      ]
     },
     "execution_count": 56,
     "metadata": {},
     "output_type": "execute_result"
    }
   ],
   "source": [
    "temp * A % identity matrix because A * A'"
   ]
  }
 ],
 "metadata": {
  "kernelspec": {
   "display_name": "Octave",
   "language": "octave",
   "name": "octave_kernel"
  },
  "language_info": {
   "codemirror_mode": "Octave",
   "file_extension": ".m",
   "help_links": [
    {
     "text": "MetaKernel Magics",
     "url": "https://github.com/calysto/metakernel/blob/master/metakernel/magics/README.md"
    }
   ],
   "mimetype": "text/x-octave",
   "name": "octave_kernel"
  }
 },
 "nbformat": 4,
 "nbformat_minor": 0
}
